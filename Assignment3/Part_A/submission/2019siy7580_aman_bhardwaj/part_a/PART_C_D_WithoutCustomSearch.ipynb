{
 "cells": [
  {
   "cell_type": "code",
   "execution_count": 1,
   "metadata": {},
   "outputs": [],
   "source": [
    "from xclib.data import data_utils\n",
    "import pandas as pd\n",
    "import numpy as np\n",
    "from numpy import log2 as log\n",
    "from collections import Counter, OrderedDict\n",
    "from scipy.stats import mode\n",
    "import time\n",
    "from sklearn.ensemble import RandomForestClassifier\n",
    "from sklearn.model_selection import GridSearchCV\n",
    "from datetime import datetime\n",
    "from scipy.sparse import csc_matrix\n",
    "from sklearn.metrics import accuracy_score\n",
    "import matplotlib.pyplot as plt"
   ]
  },
  {
   "cell_type": "code",
   "execution_count": 2,
   "metadata": {},
   "outputs": [],
   "source": [
    "'''Global Params'''\n",
    "val_n_estimators = []\n",
    "test_n_estimators = []\n",
    "\n",
    "val_max_features = []\n",
    "test_max_features = []\n",
    "\n",
    "val_min_samples = []\n",
    "test_min_samples = []"
   ]
  },
  {
   "cell_type": "code",
   "execution_count": 3,
   "metadata": {},
   "outputs": [
    {
     "name": "stdout",
     "output_type": "stream",
     "text": [
      "Counter({1.0: 34153, 0.0: 30560})\n",
      "Counter({1.0: 11270, 0.0: 10302})\n",
      "Counter({1.0: 11420, 0.0: 10151})\n"
     ]
    }
   ],
   "source": [
    "#TrainData = data_utils.read_sparse_file('data/train_x.txt', force_header = True, dtype=\"float32\")\n",
    "'''Load Data'''\n",
    "TrainData = pd.read_csv(\"data/train_x.csv\", header = None)\n",
    "TrainLabels = pd.read_csv(\"data/train_y.csv\", header = None)\n",
    "TrainData['labels'] = TrainLabels\n",
    "print(Counter(TrainData.labels))\n",
    "\n",
    "ValData = pd.read_csv(\"data/valid_x.csv\", header = None)\n",
    "ValLabels = pd.read_csv(\"data/valid_y.csv\", header = None)\n",
    "ValData['labels'] = ValLabels\n",
    "print(Counter(ValData.labels))\n",
    "\n",
    "TestData = pd.read_csv(\"data/test_x.csv\", header = None)\n",
    "TestLabels = pd.read_csv(\"data/test_y.csv\", header = None)\n",
    "TestData['labels'] = TestLabels\n",
    "print(Counter(TestData.labels))"
   ]
  },
  {
   "cell_type": "code",
   "execution_count": 4,
   "metadata": {},
   "outputs": [],
   "source": [
    "#train_x = csc_matrix(TrainData.to_numpy()[:,:-1])\n",
    "#Train_X = train_x.todense()\n",
    "'''Convert Data to numpy'''\n",
    "Train_X = TrainData.to_numpy()[:,:-1]\n",
    "Train_Y = TrainData.to_numpy()[:,-1]\n",
    "\n",
    "Val_X = ValData.to_numpy()[:,:-1]\n",
    "Val_Y = ValData.to_numpy()[:,-1]\n",
    "\n",
    "Test_X = TestData.to_numpy()[:,:-1]\n",
    "Test_Y = TestData.to_numpy()[:,-1]"
   ]
  },
  {
   "cell_type": "code",
   "execution_count": 5,
   "metadata": {},
   "outputs": [
    {
     "name": "stdout",
     "output_type": "stream",
     "text": [
      "[50, 150, 250, 350, 450] [0.1, 0.3, 0.5, 0.7, 0.9] [2, 4, 6, 8, 10]\n"
     ]
    }
   ],
   "source": [
    "'''create list of params'''\n",
    "n_estimator_list = [i for i in range(50,451,100)]\n",
    "max_features_list = [round(0.1 * i, 1) for i in range(1,10,2)]\n",
    "min_samples_split_list = [i for i in range(2,11,2)]\n",
    "print(n_estimator_list, max_features_list,  min_samples_split_list)"
   ]
  },
  {
   "cell_type": "code",
   "execution_count": 7,
   "metadata": {},
   "outputs": [],
   "source": [
    "def hyperParameterTuning():\n",
    "    '''Function for hyperparameter tuning using random forest classifier using GridSearchCV'''\n",
    "    \n",
    "    now = datetime.now()\n",
    "\n",
    "    current_time = now.strftime(\"%H:%M:%S\")\n",
    "    print(\"Start Time =\", current_time)\n",
    "    t0 = time.time()\n",
    "    params_grid = [{'n_estimators': n_estimator_list,\n",
    "                   'max_features': max_features_list,\n",
    "                   'min_samples_split': min_samples_split_list,\n",
    "                   'oob_score': [True]}]\n",
    "    \n",
    "    rfc = RandomForestClassifier()\n",
    "    \n",
    "    gridSearch = GridSearchCV(rfc, params_grid, cv = 5, scoring = 'accuracy', n_jobs = 6, verbose = 10, refit = True)\n",
    "    print(gridSearch)\n",
    "    gridSearchResults = gridSearch.fit(Train_X, Train_Y.ravel())\n",
    "    t1 = time.time()\n",
    "    print(\"Hyper Parameter Tuning Time = {}Mins\".format(round((t1-t0)/60,2)))\n",
    "    return gridSearchResults\n",
    "\n",
    "def accuracyForOptimalParams(estimator):\n",
    "    '''Calculate accuracies using  best estimator from hyperparameter tuning'''\n",
    "    \n",
    "    print(\"Training Begins..!\")\n",
    "    t0 = time.time()\n",
    "    rfc = estimator\n",
    "    \n",
    "    rfc.fit(Train_X, Train_Y.ravel())\n",
    "    \n",
    "    t1 = time.time()\n",
    "    print(\"Time to train = {}Sec\".format(round((t1-t0),2)))\n",
    "    print(\"\\n Prediction Begins..!\")\n",
    "    TrainPredict = rfc.predict(Train_X)\n",
    "    TrainAccuracy = 100 * accuracy_score(Train_Y, TrainPredict)\n",
    "    \n",
    "    ValPredict = rfc.predict(Val_X)\n",
    "    ValAccuracy = 100 * accuracy_score(Val_Y, ValPredict)\n",
    "    \n",
    "    TestPredict = rfc.predict(Test_X)\n",
    "    TestAccuracy = 100 * accuracy_score(Test_Y, TestPredict)\n",
    "    \n",
    "    print(\"\\nTrain Accuracy = {}%\".format(round(TrainAccuracy,2)))\n",
    "    print(\"\\nOut-of-Bag Accuracy = {}%\".format(round(100*rfc.oob_score_,2)))\n",
    "    print(\"\\nVal Accuracy = {}%\".format(round(ValAccuracy,2)))\n",
    "    print(\"\\nTest Accuracy = {}%\".format(round(TestAccuracy,2)))\n",
    "    return TrainAccuracy, 100*rfc.oob_score_, ValAccuracy, TestAccuracy\n",
    "\n",
    "def paramSensitivityAnalysis(bestParams):\n",
    "    '''Parameter sensitivity analysis. vary one param keeping other two to their optimal value'''\n",
    "    print(\"\\n$$For n_estimators List keeping others constant\")\n",
    "    for i in range(len(n_estimator_list)):\n",
    "        print(\"\\nn_estimators =\", n_estimator_list[i])\n",
    "        rfc1 = RandomForestClassifier(bootstrap=True, class_weight=None, criterion='gini',\n",
    "                       max_depth=None, max_features=bestParams['max_features'], max_leaf_nodes=None,\n",
    "                       min_impurity_decrease=0.0, min_impurity_split=None,\n",
    "                       min_samples_leaf=1, min_samples_split=bestParams['min_samples_split'],\n",
    "                       min_weight_fraction_leaf=0.0, n_estimators=n_estimator_list[i],\n",
    "                       n_jobs=6, oob_score=True, random_state=None,\n",
    "                       verbose=0, warm_start=False)\n",
    "        \n",
    "        rfc1.fit(Train_X, Train_Y.ravel())\n",
    "        \n",
    "        ValPredict = rfc1.predict(Val_X)\n",
    "        ValAccuracy = 100 * accuracy_score(Val_Y, ValPredict)\n",
    "        print(\"Validation Accuracy = {}%\".format(round(ValAccuracy, 2)))\n",
    "        val_n_estimators.append(ValAccuracy)\n",
    "\n",
    "        TestPredict = rfc1.predict(Test_X)\n",
    "        TestAccuracy = 100 * accuracy_score(Test_Y, TestPredict)\n",
    "        print(\"Test Accuracy = {}%\".format(round(TestAccuracy, 2)))\n",
    "        test_n_estimators.append(TestAccuracy)\n",
    "        \n",
    "\n",
    "    print(\"\\n$$For max_features List keeping others constant\")\n",
    "    for i in range(len(max_features_list)):\n",
    "        print(\"\\nmax_features =\", max_features_list[i])\n",
    "        rfc2 = RandomForestClassifier(bootstrap=True, class_weight=None, criterion='gini',\n",
    "                       max_depth=None, max_features=max_features_list[i], max_leaf_nodes=None,\n",
    "                       min_impurity_decrease=0.0, min_impurity_split=None,\n",
    "                       min_samples_leaf=1, min_samples_split=bestParams['min_samples_split'],\n",
    "                       min_weight_fraction_leaf=0.0, n_estimators=bestParams['n_estimators'],\n",
    "                       n_jobs=6, oob_score=True, random_state=None,\n",
    "                       verbose=0, warm_start=False)\n",
    "        \n",
    "        rfc2.fit(Train_X, Train_Y.ravel())\n",
    "        \n",
    "        ValPredict = rfc2.predict(Val_X)\n",
    "        ValAccuracy = 100 * accuracy_score(Val_Y, ValPredict)\n",
    "        print(\"Validation Accuracy = {}%\".format(round(ValAccuracy, 2)))\n",
    "        val_max_features.append(ValAccuracy)\n",
    "\n",
    "        TestPredict = rfc2.predict(Test_X)\n",
    "        TestAccuracy = 100 * accuracy_score(Test_Y, TestPredict)\n",
    "        print(\"Test Accuracy = {}%\".format(round(TestAccuracy, 2)))\n",
    "        test_max_features.append(TestAccuracy)\n",
    "            \n",
    "    print(\"\\n$$For min_samples_split List keeping others constant\")\n",
    "    for i in range(len(min_samples_split_list)):\n",
    "        print(\"\\nmin_samples_split =\", min_samples_split_list[i])\n",
    "        rfc3 = RandomForestClassifier(bootstrap=True, class_weight=None, criterion='gini',\n",
    "                       max_depth=None, max_features=bestParams['max_features'], max_leaf_nodes=None,\n",
    "                       min_impurity_decrease=0.0, min_impurity_split=None,\n",
    "                       min_samples_leaf=1, min_samples_split=min_samples_split_list[i],\n",
    "                       min_weight_fraction_leaf=0.0, n_estimators=bestParams['n_estimators'],\n",
    "                       n_jobs=6, oob_score=True, random_state=None,\n",
    "                       verbose=0, warm_start=False)\n",
    "        \n",
    "        rfc3.fit(Train_X, Train_Y.ravel())\n",
    "        \n",
    "        ValPredict = rfc3.predict(Val_X)\n",
    "        ValAccuracy = 100 * accuracy_score(Val_Y, ValPredict)\n",
    "        print(\"Validation Accuracy = {}%\".format(round(ValAccuracy, 2)))\n",
    "        val_min_samples.append(ValAccuracy)\n",
    "\n",
    "        TestPredict = rfc3.predict(Test_X)\n",
    "        TestAccuracy = 100 * accuracy_score(Test_Y, TestPredict)\n",
    "        print(\"Test Accuracy = {}%\".format(round(TestAccuracy, 2)))\n",
    "        test_min_samples.append(TestAccuracy)\n",
    "        \n",
    "    return\n",
    "\n",
    "def plotParamSensitivityAnalysis(bestParams):\n",
    "    '''Plot results for sensitivity analysis'''\n",
    "\n",
    "    fig0 = plt.figure(0)\n",
    "    plt.plot(n_estimator_list, val_n_estimators[-5:], c=\"tab:green\", marker=\"o\", label=\"Validation Accuracy\")\n",
    "    plt.plot(n_estimator_list, test_n_estimators[-5:], c=\"tab:orange\", marker=\"x\", label=\"Test Accuracy\")\n",
    "    plt.xlabel(\"n_estimators\")\n",
    "    plt.ylabel(\"accuracy\")\n",
    "    plt.title(\"n_estimators vs accuracy for\\n max_features = {} & min_samples_split = {}\"\n",
    "              .format(bestParams['max_features'], bestParams['min_samples_split']))\n",
    "    plt.legend()\n",
    "    plt.show()\n",
    "    fig0.savefig(\"plots/q_c_n_estimators.png\", dpi= 300, pad_inches=0.1, format=\"png\")\n",
    "    \n",
    "    fig1 = plt.figure(1)\n",
    "    plt.plot(max_features_list, val_max_features, c=\"tab:green\", marker=\"o\", label=\"Validation Accuracy\")\n",
    "    plt.plot(max_features_list, test_max_features, c=\"tab:orange\", marker=\"x\", label=\"Test Accuracy\")\n",
    "    plt.xlabel(\"max_features\")\n",
    "    plt.ylabel(\"accuracy\")\n",
    "    plt.title(\"max_features vs accuracy for\\n n_estimators = {} & min_samples_split = {}\"\n",
    "              .format(bestParams['n_estimators'], bestParams['min_samples_split']))\n",
    "    plt.legend()\n",
    "    plt.show()\n",
    "    fig1.savefig(\"plots/q_c_max_features.png\", dpi= 300, pad_inches=0.1, format=\"png\")\n",
    "    \n",
    "    fig2 = plt.figure(2)\n",
    "    plt.plot(min_samples_split_list, val_min_samples, c=\"tab:green\", marker=\"o\", label=\"Validation Accuracy\")\n",
    "    plt.plot(min_samples_split_list, test_min_samples, c=\"tab:orange\", marker=\"x\", label=\"Test Accuracy\")\n",
    "    plt.xlabel(\"min_samples_split\")\n",
    "    plt.ylabel(\"accuracy\")\n",
    "    plt.title(\"min_samples_split vs accuracy for\\n max_features = {} & n_estimators = {}\"\n",
    "              .format(bestParams['max_features'], bestParams['n_estimators']))\n",
    "    plt.legend()\n",
    "    plt.show()\n",
    "    fig2.savefig(\"plots/q_c_min_samples_split.png\", dpi= 300, pad_inches=0.1, format=\"png\")\n",
    "    \n",
    "    return\n",
    "        \n",
    "\n",
    "    \n",
    "        "
   ]
  },
  {
   "cell_type": "code",
   "execution_count": 8,
   "metadata": {
    "scrolled": false
   },
   "outputs": [
    {
     "name": "stdout",
     "output_type": "stream",
     "text": [
      "@@@@@@@@@@*********Q1_C*********@@@@@@@@@@\n",
      "Start Time = 23:37:25\n",
      "GridSearchCV(cv=5, error_score='raise-deprecating',\n",
      "             estimator=RandomForestClassifier(bootstrap=True, class_weight=None,\n",
      "                                              criterion='gini', max_depth=None,\n",
      "                                              max_features='auto',\n",
      "                                              max_leaf_nodes=None,\n",
      "                                              min_impurity_decrease=0.0,\n",
      "                                              min_impurity_split=None,\n",
      "                                              min_samples_leaf=1,\n",
      "                                              min_samples_split=2,\n",
      "                                              min_weight_fraction_leaf=0.0,\n",
      "                                              n_estimators='warn', n_jobs=None,\n",
      "                                              oob_score=False,\n",
      "                                              random_state=None, verbose=0,\n",
      "                                              warm_start=False),\n",
      "             iid='warn', n_jobs=6,\n",
      "             param_grid=[{'max_features': [0.1, 0.3, 0.5, 0.7, 0.9],\n",
      "                          'min_samples_split': [2, 4, 6, 8, 10],\n",
      "                          'n_estimators': [50, 150, 250, 350, 450],\n",
      "                          'oob_score': [True]}],\n",
      "             pre_dispatch='2*n_jobs', refit=True, return_train_score=False,\n",
      "             scoring='accuracy', verbose=10)\n",
      "Fitting 5 folds for each of 125 candidates, totalling 625 fits\n"
     ]
    },
    {
     "name": "stderr",
     "output_type": "stream",
     "text": [
      "[Parallel(n_jobs=6)]: Using backend LokyBackend with 6 concurrent workers.\n",
      "[Parallel(n_jobs=6)]: Done   1 tasks      | elapsed:   40.4s\n",
      "[Parallel(n_jobs=6)]: Done   6 tasks      | elapsed:  2.0min\n",
      "[Parallel(n_jobs=6)]: Done  13 tasks      | elapsed:  6.5min\n",
      "[Parallel(n_jobs=6)]: Done  20 tasks      | elapsed: 11.8min\n",
      "[Parallel(n_jobs=6)]: Done  29 tasks      | elapsed: 15.8min\n",
      "[Parallel(n_jobs=6)]: Done  38 tasks      | elapsed: 20.6min\n",
      "[Parallel(n_jobs=6)]: Done  49 tasks      | elapsed: 27.9min\n",
      "[Parallel(n_jobs=6)]: Done  60 tasks      | elapsed: 32.6min\n",
      "[Parallel(n_jobs=6)]: Done  73 tasks      | elapsed: 40.1min\n",
      "[Parallel(n_jobs=6)]: Done  86 tasks      | elapsed: 45.8min\n",
      "[Parallel(n_jobs=6)]: Done 101 tasks      | elapsed: 52.8min\n",
      "[Parallel(n_jobs=6)]: Done 116 tasks      | elapsed: 60.3min\n",
      "[Parallel(n_jobs=6)]: Done 133 tasks      | elapsed: 70.3min\n",
      "[Parallel(n_jobs=6)]: Done 150 tasks      | elapsed: 88.9min\n",
      "[Parallel(n_jobs=6)]: Done 169 tasks      | elapsed: 109.5min\n",
      "[Parallel(n_jobs=6)]: Done 188 tasks      | elapsed: 125.5min\n",
      "[Parallel(n_jobs=6)]: Done 209 tasks      | elapsed: 147.3min\n",
      "[Parallel(n_jobs=6)]: Done 230 tasks      | elapsed: 170.0min\n",
      "[Parallel(n_jobs=6)]: Done 253 tasks      | elapsed: 195.3min\n",
      "[Parallel(n_jobs=6)]: Done 276 tasks      | elapsed: 228.7min\n",
      "[Parallel(n_jobs=6)]: Done 301 tasks      | elapsed: 266.9min\n",
      "[Parallel(n_jobs=6)]: Done 326 tasks      | elapsed: 305.1min\n",
      "[Parallel(n_jobs=6)]: Done 353 tasks      | elapsed: 348.8min\n",
      "[Parallel(n_jobs=6)]: Done 380 tasks      | elapsed: 389.8min\n",
      "[Parallel(n_jobs=6)]: Done 409 tasks      | elapsed: 447.0min\n",
      "[Parallel(n_jobs=6)]: Done 438 tasks      | elapsed: 508.5min\n",
      "[Parallel(n_jobs=6)]: Done 469 tasks      | elapsed: 576.8min\n",
      "[Parallel(n_jobs=6)]: Done 500 tasks      | elapsed: 640.5min\n",
      "[Parallel(n_jobs=6)]: Done 533 tasks      | elapsed: 721.0min\n",
      "[Parallel(n_jobs=6)]: Done 566 tasks      | elapsed: 812.5min\n",
      "[Parallel(n_jobs=6)]: Done 601 tasks      | elapsed: 901.7min\n",
      "[Parallel(n_jobs=6)]: Done 625 out of 625 | elapsed: 975.6min finished\n"
     ]
    },
    {
     "name": "stdout",
     "output_type": "stream",
     "text": [
      "Hyper Parameter Tuning Time = 977.47Mins\n"
     ]
    }
   ],
   "source": [
    "print(\"@@@@@@@@@@*********Q1_C*********@@@@@@@@@@\")\n",
    "GridSearchResults = hyperParameterTuning()"
   ]
  },
  {
   "cell_type": "code",
   "execution_count": 9,
   "metadata": {},
   "outputs": [
    {
     "name": "stdout",
     "output_type": "stream",
     "text": [
      "\n",
      "$$$$$$------BEST_ESTIMATOR------$$$$$$\n",
      "RandomForestClassifier(bootstrap=True, class_weight=None, criterion='gini',\n",
      "                       max_depth=None, max_features=0.1, max_leaf_nodes=None,\n",
      "                       min_impurity_decrease=0.0, min_impurity_split=None,\n",
      "                       min_samples_leaf=1, min_samples_split=10,\n",
      "                       min_weight_fraction_leaf=0.0, n_estimators=250,\n",
      "                       n_jobs=None, oob_score=True, random_state=None,\n",
      "                       verbose=0, warm_start=False)\n"
     ]
    }
   ],
   "source": [
    "print(\"\\n$$$$$$------BEST_ESTIMATOR------$$$$$$\")\n",
    "bestEstimator = GridSearchResults.best_estimator_\n",
    "print(bestEstimator)"
   ]
  },
  {
   "cell_type": "code",
   "execution_count": 10,
   "metadata": {},
   "outputs": [
    {
     "name": "stdout",
     "output_type": "stream",
     "text": [
      "\n",
      "$$$$$$------BEST_PARAMS------$$$$$$\n",
      "{'max_features': 0.1, 'min_samples_split': 10, 'n_estimators': 250, 'oob_score': True}\n"
     ]
    }
   ],
   "source": [
    "print(\"\\n$$$$$$------BEST_PARAMS------$$$$$$\")\n",
    "bestGridParams = GridSearchResults.best_params_\n",
    "print(bestGridParams)"
   ]
  },
  {
   "cell_type": "code",
   "execution_count": 11,
   "metadata": {},
   "outputs": [
    {
     "name": "stdout",
     "output_type": "stream",
     "text": [
      "\n",
      "$$$$$$------Q1_C_Results------$$$$$$\n",
      "Training Begins..!\n",
      "Time to train = 109.85Sec\n",
      "\n",
      " Prediction Begins..!\n",
      "\n",
      "Train Accuracy = 87.39%\n",
      "\n",
      "Out-of-Bag Accuracy = 80.99%\n",
      "\n",
      "Val Accuracy = 80.7%\n",
      "\n",
      "Test Accuracy = 80.77%\n"
     ]
    }
   ],
   "source": [
    "print(\"\\n$$$$$$------Q1_C_Results------$$$$$$\")\n",
    "TrainA, OOBA, ValA, TestA = accuracyForOptimalParams(bestEstimator)"
   ]
  },
  {
   "cell_type": "code",
   "execution_count": 12,
   "metadata": {},
   "outputs": [
    {
     "name": "stdout",
     "output_type": "stream",
     "text": [
      "\n",
      "@@@@@@@@@@*********Q1_D*********@@@@@@@@@@\n",
      "\n",
      "$$For n_estimators List keeping others constant\n",
      "\n",
      "n_estimators = 50\n",
      "Validation Accuracy = 80.4%\n",
      "Test Accuracy = 80.7%\n",
      "\n",
      "n_estimators = 150\n",
      "Validation Accuracy = 80.62%\n",
      "Test Accuracy = 80.74%\n",
      "\n",
      "n_estimators = 250\n",
      "Validation Accuracy = 80.64%\n",
      "Test Accuracy = 80.77%\n",
      "\n",
      "n_estimators = 350\n",
      "Validation Accuracy = 80.72%\n",
      "Test Accuracy = 80.86%\n",
      "\n",
      "n_estimators = 450\n",
      "Validation Accuracy = 80.71%\n",
      "Test Accuracy = 80.8%\n",
      "\n",
      "$$For max_features List keeping others constant\n",
      "\n",
      "max_features = 0.1\n",
      "Validation Accuracy = 80.58%\n",
      "Test Accuracy = 80.85%\n",
      "\n",
      "max_features = 0.3\n",
      "Validation Accuracy = 80.56%\n",
      "Test Accuracy = 80.72%\n",
      "\n",
      "max_features = 0.5\n",
      "Validation Accuracy = 80.64%\n",
      "Test Accuracy = 80.65%\n",
      "\n",
      "max_features = 0.7\n",
      "Validation Accuracy = 80.51%\n",
      "Test Accuracy = 80.58%\n",
      "\n",
      "max_features = 0.9\n",
      "Validation Accuracy = 80.37%\n",
      "Test Accuracy = 80.51%\n",
      "\n",
      "$$For min_samples_split List keeping others constant\n",
      "\n",
      "min_samples_split = 2\n",
      "Validation Accuracy = 79.65%\n",
      "Test Accuracy = 79.9%\n",
      "\n",
      "min_samples_split = 4\n",
      "Validation Accuracy = 79.99%\n",
      "Test Accuracy = 80.27%\n",
      "\n",
      "min_samples_split = 6\n",
      "Validation Accuracy = 80.3%\n",
      "Test Accuracy = 80.57%\n",
      "\n",
      "min_samples_split = 8\n",
      "Validation Accuracy = 80.47%\n",
      "Test Accuracy = 80.63%\n",
      "\n",
      "min_samples_split = 10\n",
      "Validation Accuracy = 80.6%\n",
      "Test Accuracy = 80.89%\n"
     ]
    }
   ],
   "source": [
    "print(\"\\n@@@@@@@@@@*********Q1_D*********@@@@@@@@@@\")\n",
    "paramSensitivityAnalysis(bestGridParams)"
   ]
  },
  {
   "cell_type": "code",
   "execution_count": 13,
   "metadata": {},
   "outputs": [
    {
     "name": "stdout",
     "output_type": "stream",
     "text": [
      "\n",
      "$$$$$$------Q1_D_Results------$$$$$$\n",
      "[80.40051919154459, 80.61839421472278, 80.63693676988689, 80.71574262933431, 80.70647135175227]\n",
      "[80.70094107829956, 80.73802790783922, 80.77047888368644, 80.86319595753558, 80.79829400584117]\n",
      "[80.58130910439458, 80.56276654923047, 80.64157240867792, 80.50713888373818, 80.36806972000741]\n",
      "[80.85392425015067, 80.71948449306939, 80.64531083399008, 80.57577302860321, 80.50623522321636]\n",
      "[79.64954570739849, 79.99258297793436, 80.30317077693306, 80.474689412201, 80.59521602076765]\n",
      "[79.90357424319689, 80.27444253859348, 80.57113717491076, 80.62676741922024, 80.88637522599787]\n"
     ]
    }
   ],
   "source": [
    "print(\"\\n$$$$$$------Q1_D_Results------$$$$$$\")\n",
    "print(val_n_estimators[-5:])\n",
    "print(test_n_estimators[-5:])\n",
    "\n",
    "print(val_max_features)\n",
    "print(test_max_features)\n",
    "\n",
    "print(val_min_samples)\n",
    "print(test_min_samples)"
   ]
  },
  {
   "cell_type": "code",
   "execution_count": 14,
   "metadata": {},
   "outputs": [
    {
     "data": {
      "image/png": "[encoded data removed]",
      "text/plain": [
       "<Figure size 432x288 with 1 Axes>"
      ]
     },
     "metadata": {
      "needs_background": "light"
     },
     "output_type": "display_data"
    },
    {
     "data": {
      "image/png": "[encoded data removed]",
      "text/plain": [
       "<Figure size 432x288 with 1 Axes>"
      ]
     },
     "metadata": {
      "needs_background": "light"
     },
     "output_type": "display_data"
    },
    {
     "data": {
      "image/png": "[encoded data removed]",
      "text/plain": [
       "<Figure size 432x288 with 1 Axes>"
      ]
     },
     "metadata": {
      "needs_background": "light"
     },
     "output_type": "display_data"
    }
   ],
   "source": [
    "plotParamSensitivityAnalysis(bestGridParams)"
   ]
  },
  {
   "cell_type": "code",
   "execution_count": null,
   "metadata": {},
   "outputs": [],
   "source": []
  }
 ],
 "metadata": {
  "kernelspec": {
   "display_name": "Python 3",
   "language": "python",
   "name": "python3"
  },
  "language_info": {
   "codemirror_mode": {
    "name": "ipython",
    "version": 3
   },
   "file_extension": ".py",
   "mimetype": "text/x-python",
   "name": "python",
   "nbconvert_exporter": "python",
   "pygments_lexer": "ipython3",
   "version": "3.7.4"
  }
 },
 "nbformat": 4,
 "nbformat_minor": 2
}
