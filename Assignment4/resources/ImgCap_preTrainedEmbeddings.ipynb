{
  "nbformat": 4,
  "nbformat_minor": 0,
  "metadata": {
    "colab": {
      "name": "Greedy_ Image_Captioning.ipynb",
      "provenance": [],
      "collapsed_sections": []
    },
    "kernelspec": {
      "name": "python3",
      "display_name": "Python 3"
    },
    "accelerator": "GPU",
    "widgets": {
      "application/vnd.jupyter.widget-state+json": {
        "57836f6dcc6f4fe3bf1b9e59ee83e7d8": {
          "model_module": "@jupyter-widgets/controls",
          "model_name": "HBoxModel",
          "state": {
            "_view_name": "HBoxView",
            "_dom_classes": [],
            "_model_name": "HBoxModel",
            "_view_module": "@jupyter-widgets/controls",
            "_model_module_version": "1.5.0",
            "_view_count": null,
            "_view_module_version": "1.5.0",
            "box_style": "",
            "layout": "IPY_MODEL_73240809d25b4fc7aabdd78f144810e7",
            "_model_module": "@jupyter-widgets/controls",
            "children": [
              "IPY_MODEL_7ac8aaf0938043939c5408e5132ba73c",
              "IPY_MODEL_df05ccf477ff476d944b2edcbaf7da87"
            ]
          }
        },
        "73240809d25b4fc7aabdd78f144810e7": {
          "model_module": "@jupyter-widgets/base",
          "model_name": "LayoutModel",
          "state": {
            "_view_name": "LayoutView",
            "grid_template_rows": null,
            "right": null,
            "justify_content": null,
            "_view_module": "@jupyter-widgets/base",
            "overflow": null,
            "_model_module_version": "1.2.0",
            "_view_count": null,
            "flex_flow": null,
            "width": null,
            "min_width": null,
            "border": null,
            "align_items": null,
            "bottom": null,
            "_model_module": "@jupyter-widgets/base",
            "top": null,
            "grid_column": null,
            "overflow_y": null,
            "overflow_x": null,
            "grid_auto_flow": null,
            "grid_area": null,
            "grid_template_columns": null,
            "flex": null,
            "_model_name": "LayoutModel",
            "justify_items": null,
            "grid_row": null,
            "max_height": null,
            "align_content": null,
            "visibility": null,
            "align_self": null,
            "height": null,
            "min_height": null,
            "padding": null,
            "grid_auto_rows": null,
            "grid_gap": null,
            "max_width": null,
            "order": null,
            "_view_module_version": "1.2.0",
            "grid_template_areas": null,
            "object_position": null,
            "object_fit": null,
            "grid_auto_columns": null,
            "margin": null,
            "display": null,
            "left": null
          }
        },
        "7ac8aaf0938043939c5408e5132ba73c": {
          "model_module": "@jupyter-widgets/controls",
          "model_name": "IntProgressModel",
          "state": {
            "_view_name": "ProgressView",
            "style": "IPY_MODEL_3f7a8a5ed56546ca8866099ae72e85c0",
            "_dom_classes": [],
            "description": "",
            "_model_name": "IntProgressModel",
            "bar_style": "success",
            "max": 102502400,
            "_view_module": "@jupyter-widgets/controls",
            "_model_module_version": "1.5.0",
            "value": 102502400,
            "_view_count": null,
            "_view_module_version": "1.5.0",
            "orientation": "horizontal",
            "min": 0,
            "description_tooltip": null,
            "_model_module": "@jupyter-widgets/controls",
            "layout": "IPY_MODEL_7ac713972c9b4489afc617fe69d14897"
          }
        },
        "df05ccf477ff476d944b2edcbaf7da87": {
          "model_module": "@jupyter-widgets/controls",
          "model_name": "HTMLModel",
          "state": {
            "_view_name": "HTMLView",
            "style": "IPY_MODEL_452fd520592e41fba5ead1fc5bb639f8",
            "_dom_classes": [],
            "description": "",
            "_model_name": "HTMLModel",
            "placeholder": "​",
            "_view_module": "@jupyter-widgets/controls",
            "_model_module_version": "1.5.0",
            "value": "100% 97.8M/97.8M [00:01&lt;00:00, 91.1MB/s]",
            "_view_count": null,
            "_view_module_version": "1.5.0",
            "description_tooltip": null,
            "_model_module": "@jupyter-widgets/controls",
            "layout": "IPY_MODEL_2a31687525774c579d6460daf688fc21"
          }
        },
        "3f7a8a5ed56546ca8866099ae72e85c0": {
          "model_module": "@jupyter-widgets/controls",
          "model_name": "ProgressStyleModel",
          "state": {
            "_view_name": "StyleView",
            "_model_name": "ProgressStyleModel",
            "description_width": "",
            "_view_module": "@jupyter-widgets/base",
            "_model_module_version": "1.5.0",
            "_view_count": null,
            "_view_module_version": "1.2.0",
            "bar_color": null,
            "_model_module": "@jupyter-widgets/controls"
          }
        },
        "7ac713972c9b4489afc617fe69d14897": {
          "model_module": "@jupyter-widgets/base",
          "model_name": "LayoutModel",
          "state": {
            "_view_name": "LayoutView",
            "grid_template_rows": null,
            "right": null,
            "justify_content": null,
            "_view_module": "@jupyter-widgets/base",
            "overflow": null,
            "_model_module_version": "1.2.0",
            "_view_count": null,
            "flex_flow": null,
            "width": null,
            "min_width": null,
            "border": null,
            "align_items": null,
            "bottom": null,
            "_model_module": "@jupyter-widgets/base",
            "top": null,
            "grid_column": null,
            "overflow_y": null,
            "overflow_x": null,
            "grid_auto_flow": null,
            "grid_area": null,
            "grid_template_columns": null,
            "flex": null,
            "_model_name": "LayoutModel",
            "justify_items": null,
            "grid_row": null,
            "max_height": null,
            "align_content": null,
            "visibility": null,
            "align_self": null,
            "height": null,
            "min_height": null,
            "padding": null,
            "grid_auto_rows": null,
            "grid_gap": null,
            "max_width": null,
            "order": null,
            "_view_module_version": "1.2.0",
            "grid_template_areas": null,
            "object_position": null,
            "object_fit": null,
            "grid_auto_columns": null,
            "margin": null,
            "display": null,
            "left": null
          }
        },
        "452fd520592e41fba5ead1fc5bb639f8": {
          "model_module": "@jupyter-widgets/controls",
          "model_name": "DescriptionStyleModel",
          "state": {
            "_view_name": "StyleView",
            "_model_name": "DescriptionStyleModel",
            "description_width": "",
            "_view_module": "@jupyter-widgets/base",
            "_model_module_version": "1.5.0",
            "_view_count": null,
            "_view_module_version": "1.2.0",
            "_model_module": "@jupyter-widgets/controls"
          }
        },
        "2a31687525774c579d6460daf688fc21": {
          "model_module": "@jupyter-widgets/base",
          "model_name": "LayoutModel",
          "state": {
            "_view_name": "LayoutView",
            "grid_template_rows": null,
            "right": null,
            "justify_content": null,
            "_view_module": "@jupyter-widgets/base",
            "overflow": null,
            "_model_module_version": "1.2.0",
            "_view_count": null,
            "flex_flow": null,
            "width": null,
            "min_width": null,
            "border": null,
            "align_items": null,
            "bottom": null,
            "_model_module": "@jupyter-widgets/base",
            "top": null,
            "grid_column": null,
            "overflow_y": null,
            "overflow_x": null,
            "grid_auto_flow": null,
            "grid_area": null,
            "grid_template_columns": null,
            "flex": null,
            "_model_name": "LayoutModel",
            "justify_items": null,
            "grid_row": null,
            "max_height": null,
            "align_content": null,
            "visibility": null,
            "align_self": null,
            "height": null,
            "min_height": null,
            "padding": null,
            "grid_auto_rows": null,
            "grid_gap": null,
            "max_width": null,
            "order": null,
            "_view_module_version": "1.2.0",
            "grid_template_areas": null,
            "object_position": null,
            "object_fit": null,
            "grid_auto_columns": null,
            "margin": null,
            "display": null,
            "left": null
          }
        }
      }
    }
  },
  "cells": [
    {
      "cell_type": "markdown",
      "metadata": {
        "id": "Prd5Pg-77ErQ",
        "colab_type": "text"
      },
      "source": [
        "# Setting the stage\n",
        "\n",
        "Training a network for generating captions from images is quite a herculean task if one has to do everything from scratch. \n",
        "\n",
        "We are blessed with a lot of predefined helper functions to easily implement a number of tasks. We are going to use them. Let's import them.\n",
        "\n",
        "I've mentioned a comment as to why every import is crucial and what function it serves."
      ]
    },
    {
      "cell_type": "code",
      "metadata": {
        "id": "qpdihe6zvQkZ",
        "colab_type": "code",
        "colab": {
          "base_uri": "https://localhost:8080/",
          "height": 128
        },
        "outputId": "65ffaf45-9192-4137-8f53-0adde7573de3"
      },
      "source": [
        "# To get the image and caption data from Google Drive.\n",
        "from google.colab import drive\n",
        "\n",
        "# For preprocessing captions and storing them in \n",
        "# memory as dictionaries\n",
        "from collections import defaultdict, Counter\n",
        "\n",
        "# To navigate across folders and accessing data\n",
        "import os\n",
        "\n",
        "# To return a stack trace of errors if something goes wrong in GPU Computations\n",
        "os.environ['CUDA_LAUNCH_BLOCKING'] = \"1\"\n",
        "\n",
        "# For preprocessing captions\n",
        "import string\n",
        "import random\n",
        "import re\n",
        "\n",
        "# For matrix and math operations\n",
        "import numpy as np\n",
        "import math\n",
        "\n",
        "# For formatting output while viewing training logs\n",
        "import sys\n",
        "import pandas as pd\n",
        "\n",
        "# To compute the time required for training a \n",
        "# batch, an epoch etc.\n",
        "import time\n",
        "\n",
        "# To build, train and save NN architectures for caption generation\n",
        "import torch\n",
        "import torchvision.transforms as tfms\n",
        "\n",
        "# To define our own Dataset Class and dataloader instance\n",
        "import torch.utils.data as data\n",
        "\n",
        "# To read and resize images\n",
        "from PIL import Image\n",
        "\n",
        "# To convert images from numpy arrays or PIL Images to \n",
        "# Tensor representations\n",
        "import torchvision.transforms.functional as TF\n",
        "\n",
        "# To build layers of a Neural Network architecture\n",
        "import torch.nn as nn\n",
        "\n",
        "# To import pretrained model Resnet50 trained on ImageNet\n",
        "# data for encoding images \n",
        "import torchvision\n",
        "import torchvision.models as models\n",
        "\n",
        "# To call operators like activation functions etc. while \n",
        "# implementing the forward pass behavior\n",
        "import torch.nn.functional as F\n",
        "\n",
        "# To validate the output captions against any one input\n",
        "# Set of captions\n",
        "from nltk.translate.bleu_score import sentence_bleu\n",
        "\n",
        "# To plot images in notebook\n",
        "import matplotlib.pyplot as plt\n",
        "%matplotlib inline\n",
        "\n",
        "drive.mount('/content/drive', force_remount = True)\n",
        "os.chdir('/content/drive/My Drive')"
      ],
      "execution_count": null,
      "outputs": [
        {
          "output_type": "stream",
          "text": [
            "Go to this URL in a browser: https://accounts.google.com/o/oauth2/auth?client_id=947318989803-6bn6qk8qdgf4n4g3pfee6491hc0brc4i.apps.googleusercontent.com&redirect_uri=urn%3aietf%3awg%3aoauth%3a2.0%3aoob&response_type=code&scope=email%20https%3a%2f%2fwww.googleapis.com%2fauth%2fdocs.test%20https%3a%2f%2fwww.googleapis.com%2fauth%2fdrive%20https%3a%2f%2fwww.googleapis.com%2fauth%2fdrive.photos.readonly%20https%3a%2f%2fwww.googleapis.com%2fauth%2fpeopleapi.readonly\n",
            "\n",
            "Enter your authorization code:\n",
            "··········\n",
            "Mounted at /content/drive\n"
          ],
          "name": "stdout"
        }
      ]
    },
    {
      "cell_type": "code",
      "metadata": {
        "id": "6Kw-Flu-KGQy",
        "colab_type": "code",
        "colab": {}
      },
      "source": [
        "# Import the encoder and decoder classes from model.py file\n",
        "from helper_functions import clean_caption, read_txt"
      ],
      "execution_count": null,
      "outputs": []
    },
    {
      "cell_type": "code",
      "metadata": {
        "id": "g6Mko6MCeThL",
        "colab_type": "code",
        "colab": {}
      },
      "source": [
        "import torchvision\n",
        "torchvision.models.resnet.model_urls['resnet50'] = torchvision.models.resnet.model_urls['resnet50'].replace('https://', 'http://')"
      ],
      "execution_count": null,
      "outputs": []
    },
    {
      "cell_type": "code",
      "metadata": {
        "id": "mfgsWMPG-zz5",
        "colab_type": "code",
        "colab": {
          "base_uri": "https://localhost:8080/",
          "height": 326
        },
        "outputId": "4cd3d67a-231f-492a-8b1f-caf20b2c4e98"
      },
      "source": [
        "!nvidia-smi"
      ],
      "execution_count": null,
      "outputs": [
        {
          "output_type": "stream",
          "text": [
            "Wed Feb 19 15:09:47 2020       \n",
            "+-----------------------------------------------------------------------------+\n",
            "| NVIDIA-SMI 440.48.02    Driver Version: 418.67       CUDA Version: 10.1     |\n",
            "|-------------------------------+----------------------+----------------------+\n",
            "| GPU  Name        Persistence-M| Bus-Id        Disp.A | Volatile Uncorr. ECC |\n",
            "| Fan  Temp  Perf  Pwr:Usage/Cap|         Memory-Usage | GPU-Util  Compute M. |\n",
            "|===============================+======================+======================|\n",
            "|   0  Tesla T4            Off  | 00000000:00:04.0 Off |                    0 |\n",
            "| N/A   42C    P8     9W /  70W |      0MiB / 15079MiB |      0%      Default |\n",
            "+-------------------------------+----------------------+----------------------+\n",
            "                                                                               \n",
            "+-----------------------------------------------------------------------------+\n",
            "| Processes:                                                       GPU Memory |\n",
            "|  GPU       PID   Type   Process name                             Usage      |\n",
            "|=============================================================================|\n",
            "|  No running processes found                                                 |\n",
            "+-----------------------------------------------------------------------------+\n"
          ],
          "name": "stdout"
        }
      ]
    },
    {
      "cell_type": "markdown",
      "metadata": {
        "id": "oS36vxYSmoL3",
        "colab_type": "text"
      },
      "source": [
        "# Captions\n",
        "\n",
        "Every image has five captions which are provided in a text file in the following structure.\n",
        "\n",
        ">1000268201_693b08cb0e.jpg#0\tA child in a pink dress is climbing up a set of stairs in an entry way .\n",
        "\n",
        ">1000268201_693b08cb0e.jpg#1\tA girl going into a wooden building .\n",
        "\n",
        ">1000268201_693b08cb0e.jpg#2\tA little girl climbing into a wooden playhouse \n",
        "\n",
        "The general structure is of the form \n",
        "\n",
        "**\\<img_name\\>\\<#\\>\\<captionnumber\\> \\<caption\\>**\n",
        "\n",
        "Utilize this structure information and create a dictionary with image name as the key and a list of captions associated with that image as the value.\n",
        "\n"
      ]
    },
    {
      "cell_type": "code",
      "metadata": {
        "id": "_TQEUBJ1m20_",
        "colab_type": "code",
        "colab": {}
      },
      "source": [
        "# Define a dictionary to hold all the captions\n",
        "description = defaultdict(lambda: [])\n",
        "tokens = '/content/drive/My Drive/flicker8k-dataset/Flickr8k_text/Flickr8k.token.txt'"
      ],
      "execution_count": null,
      "outputs": []
    },
    {
      "cell_type": "code",
      "metadata": {
        "id": "Vo_-2L3Ancyz",
        "colab_type": "code",
        "colab": {}
      },
      "source": [
        "# Read all the captions into a list \"captions\"\n",
        "captions = []\n",
        "with open(tokens, 'r') as op:\n",
        "  captions = op.readlines()"
      ],
      "execution_count": null,
      "outputs": []
    },
    {
      "cell_type": "markdown",
      "metadata": {
        "id": "bDaCEvggR1ih",
        "colab_type": "text"
      },
      "source": [
        "## Cleaning the captions\n",
        "\n",
        "There are some operations we need to perform before we store the captions.\n",
        "\n",
        "- Convert all caption words to lowercase. We do not care for casing here. A lowercase `a` and an uppercase `A` are the same semantically for the sake of this task.\n",
        "\n",
        "- Punctuations don't mean anything. The descriptions are supposed to be short and objective in nature. Punctuations do not add any value in that aspect since they're used to convey other lingual information like pauses or emotions or tone which is out of scope of this task."
      ]
    },
    {
      "cell_type": "code",
      "metadata": {
        "id": "fJunu7hI7irb",
        "colab_type": "code",
        "colab": {}
      },
      "source": [
        "captions = [re.sub('\\t', ' ', i) for i in captions]\n",
        "captions = [re.sub('\\n', ' ', i) for i in captions]\n",
        "all_caps = []\n",
        "# Make a dictionary to hold captions wrt every image\n",
        "# Key - Image, Value - Captions\n",
        "\n",
        "for item in captions:\n",
        "  key = re.findall(r'(.+)#\\d', item)[0]\n",
        "  caption = re.findall(r'.+#\\d (.+)', item)[0]\n",
        "  caption = clean_caption(caption)\n",
        "  description[key].append(caption)\n",
        "  all_caps.append(caption)"
      ],
      "execution_count": null,
      "outputs": []
    },
    {
      "cell_type": "markdown",
      "metadata": {
        "id": "V8pe0wDgSofH",
        "colab_type": "text"
      },
      "source": [
        "## Selecting appropriate sentence length.\n",
        "\n",
        "The histogram below expresses the length of captions. It can be seen that most of the captions have a sentence length of around $10 \\pm 5$. \n",
        "\n",
        "Since we're training a neural network based architecture, we have to make sure to keep the length of our input fixed. Now, since we have captions of varying lengths, we will have to manually add padding to some captions to get them to be of a standard length.\n",
        "\n",
        "This standard length can simply be the length corresponding to the longest caption. However, in that case, we'll have to bear a big overhead of large sequences which will take more time for training. We can experiment with several other lengths and come to a standard length by looking at the average training time of a batch and tuning this sentence length parameter. \n",
        "\n",
        "I started with a value of 10 and increased the length in steps of 2. I found 10 to be a good length based on the above criterion and I chose to go with it. You can experiment and find out what suits your requirement and accordingly decide."
      ]
    },
    {
      "cell_type": "code",
      "metadata": {
        "id": "-0TEfeAC7svd",
        "colab_type": "code",
        "colab": {
          "base_uri": "https://localhost:8080/",
          "height": 295
        },
        "outputId": "3bbdd6e5-061b-4f90-fb3c-a20ef64c810e"
      },
      "source": [
        "# Find out the lengths of sentences in these captions and create a histogram\n",
        "# To visualize \n",
        "\n",
        "lens = [len(cap.split(' ')) for cap in all_caps]\n",
        "plt.hist(lens, bins = range(0, max(lens)));\n",
        "plt.xlabel('Lengths of captions')\n",
        "plt.title('Histogram of lengths of captions')\n",
        "plt.savefig('Histogram.PNG')"
      ],
      "execution_count": null,
      "outputs": [
        {
          "output_type": "display_data",
          "data": {
            "image/png": "[encoded data removed]",
            "text/plain": [
              "<Figure size 432x288 with 1 Axes>"
            ]
          },
          "metadata": {
            "tags": []
          }
        }
      ]
    },
    {
      "cell_type": "markdown",
      "metadata": {
        "id": "ac7qBUPOVaxD",
        "colab_type": "text"
      },
      "source": [
        "## Adding markers to captions.\n",
        "\n",
        "For every caption, there's at least two tags that we need to add in order to make the decoder work. These are respectively the start and end tokens.\n",
        "\n",
        "After an image is input to the model, it needs to predict \"start\" and then the caption and eventually predict \"end\" when the sequence ends.\n",
        "\n",
        "To encorporate this, we will take the caption, add these tokens and even after doing so, if some length of the caption is yet to be filled, then we'll add padding to make them all captions of uniform length as expected by the decoder. Captions which exceed length 10 will be terminated abrubptly and an end token will be appended after slicing the caption with length = 10.\n",
        "\n"
      ]
    },
    {
      "cell_type": "code",
      "metadata": {
        "id": "oqPKsXWL8W87",
        "colab_type": "code",
        "colab": {}
      },
      "source": [
        "# We will consider only captions with length 18 or less.\n",
        "# Any less number of words, we'll pad it to make it a length 10 caption\n",
        "# Any more number of words, we'll truncate it to make a length 10 caption\n",
        "\n",
        "# Append every seq with startseq at beginning\n",
        "# And endseq at the end for the sake of identifying the start and end of the caption\n",
        "# Pad up the remaining portion of caption with other if it's length is less than 10\n",
        "\n",
        "caption_length = 10\n",
        "\n",
        "for key, caps in description.items():\n",
        "  revised_captions = []\n",
        "  for caption in caps:\n",
        "    l = caption.split(' ')\n",
        "    if len(l) >= caption_length:\n",
        "      l = ['<startseq>'] + l[:caption_length] + ['<endseq>']\n",
        "    elif len(l) < caption_length:\n",
        "      l = ['<startseq>'] + l + ['<endseq>'] +['<0>']*(caption_length - len(l)) \n",
        "    revised_captions.append(' '.join(l)) \n",
        "  description[key] = revised_captions"
      ],
      "execution_count": null,
      "outputs": []
    },
    {
      "cell_type": "code",
      "metadata": {
        "id": "9ndiDhm4ns5Z",
        "colab_type": "code",
        "colab": {
          "base_uri": "https://localhost:8080/",
          "height": 35
        },
        "outputId": "334713a5-7de7-429f-ba14-e1d5fd8ef2df"
      },
      "source": [
        "# Extract all words from the captions\n",
        "all_words = ' '.join(all_caps).split(' ')\n",
        "all_unique_words = set(all_words)\n",
        "len(all_unique_words)"
      ],
      "execution_count": null,
      "outputs": [
        {
          "output_type": "execute_result",
          "data": {
            "text/plain": [
              "8775"
            ]
          },
          "metadata": {
            "tags": []
          },
          "execution_count": 11
        }
      ]
    },
    {
      "cell_type": "markdown",
      "metadata": {
        "id": "6F1nLXJGXZGt",
        "colab_type": "text"
      },
      "source": [
        "## Thresholding words\n",
        "\n",
        "In the decoder layer, we have several number of embeddings which need to be learned to represent the words in the form of an n-dimensional vector. The more these embeddings, the more the learning and computational overhead. \n",
        "\n",
        "\n",
        "In the captions, we can see that there's several words which have only appeared once or twice i.e. a very small number of times. Although it may be very relevent to associate that word with that image,\n",
        "\n",
        "![](https://upload.wikimedia.org/wikipedia/commons/thumb/e/ec/Mona_Lisa%2C_by_Leonardo_da_Vinci%2C_from_C2RMF_retouched.jpg/450px-Mona_Lisa%2C_by_Leonardo_da_Vinci%2C_from_C2RMF_retouched.jpg)\n",
        "\n",
        "(**what else can you call this**) but because it has only one instance that it's associated with (eg. Monalisa only appears once in the corpus with this image's caption), the embedding learned to represent that word will not be so great and it may lead to poor performance.\n",
        "\n",
        "So, let's threshold the words to only include those ones which have appeared at least twice in the entire corpus of captions which is quite reasonable.\n"
      ]
    },
    {
      "cell_type": "code",
      "metadata": {
        "id": "8CzLuL6_qJzS",
        "colab_type": "code",
        "colab": {
          "base_uri": "https://localhost:8080/",
          "height": 35
        },
        "outputId": "682ccae7-acc0-4361-939b-13939559e4e5"
      },
      "source": [
        "# Extract all unique words from captions which occur at least\n",
        "# A certain number of times (Threshold)\n",
        "c = dict(Counter(all_words))\n",
        "Threshold = 2\n",
        "words = {key:val for key, val in c.items() if val > Threshold}\n",
        "len(words)"
      ],
      "execution_count": null,
      "outputs": [
        {
          "output_type": "execute_result",
          "data": {
            "text/plain": [
              "4079"
            ]
          },
          "metadata": {
            "tags": []
          },
          "execution_count": 12
        }
      ]
    },
    {
      "cell_type": "code",
      "metadata": {
        "id": "vKZi1-QetzYN",
        "colab_type": "code",
        "colab": {}
      },
      "source": [
        "# Obtain which image belongs to what class\n",
        "train_images_names = read_txt('/content/drive/My Drive/flicker8k-dataset/Flickr8k_text/Flickr_8k.trainImages.txt')\n",
        "validation_images_names = read_txt('/content/drive/My Drive/flicker8k-dataset/Flickr8k_text/Flickr_8k.devImages.txt')\n",
        "test_images_names = read_txt('/content/drive/My Drive/flicker8k-dataset/Flickr8k_text/Flickr_8k.testImages.txt')"
      ],
      "execution_count": null,
      "outputs": []
    },
    {
      "cell_type": "markdown",
      "metadata": {
        "id": "XfQ4HWnTaLLY",
        "colab_type": "text"
      },
      "source": [
        "## Mapping words to integer indices\n",
        "\n",
        "Neural Networks do not understand anything other than numbers. We cannot feed them strings and expect them to churn out meaningful output. We have to represent our strings as integer indices before passing them to the network.\n",
        "\n",
        "For the sake of this, let's create two dictionaries. One that maps every word in the words set to an integer and another that maps every integer back to the word it represents.\n",
        "\n",
        "Note that there's a provision for 4 special words which do not appear in the text corpus provided to us whcih we're artificially going to introduce.\n",
        "\n",
        "- 0 - It is there for padding the captions which are short to a suitable length.\n",
        "- 1 - It represents the start of a caption.\n",
        "- 2 - It represents the end of a caption.\n",
        "- 3 - Note that since we've truncated some words from our bag of words, we have to substitute an approporiate placeholder to represent these words. That is done by a word called `<other>`. This index is reserved for them.\n",
        "\n"
      ]
    },
    {
      "cell_type": "code",
      "metadata": {
        "id": "WbdJ-WwkwbOz",
        "colab_type": "code",
        "colab": {}
      },
      "source": [
        "# Reserve 0, 1, 2, 3 for padding, start sequence, end sequence and other words\n",
        "# Create a mapping between word to index and index to word respectively\n",
        "word_to_ix = {}\n",
        "ix_to_word = {}\n",
        "for j, word in enumerate(words):\n",
        "  word_to_ix[word] = j + 4\n",
        "  ix_to_word[j + 4] = word"
      ],
      "execution_count": null,
      "outputs": []
    },
    {
      "cell_type": "code",
      "metadata": {
        "id": "PwgaE1YN0rau",
        "colab_type": "code",
        "colab": {}
      },
      "source": [
        "word_to_ix['<other>'] = 3\n",
        "word_to_ix['<endseq>'] = 2\n",
        "word_to_ix['<startseq>'] = 1\n",
        "word_to_ix['<0>'] = 0\n",
        "\n",
        "ix_to_word[0] = '<0>'\n",
        "ix_to_word[1] = '<startseq>'\n",
        "ix_to_word[2] = '<endseq>'\n",
        "ix_to_word[3] = '<other>'"
      ],
      "execution_count": null,
      "outputs": []
    },
    {
      "cell_type": "code",
      "metadata": {
        "id": "ec-Zi7tR1OvJ",
        "colab_type": "code",
        "colab": {}
      },
      "source": [
        "tokenized_descriptions = {}\n",
        "\n",
        "for key, captions in description.items():\n",
        "  revised_captions = []\n",
        "  for caption in captions:\n",
        "    tokenized_caption = []\n",
        "    tokens = caption.split(' ')\n",
        "    \n",
        "    for token in tokens:\n",
        "      if token in word_to_ix.keys():\n",
        "        tokenized_caption.append(word_to_ix[token])\n",
        "      else:\n",
        "        tokenized_caption.append(word_to_ix['<other>'])\n",
        "    \n",
        "    revised_captions.append(tokenized_caption)\n",
        "  tokenized_descriptions[key] = revised_captions    "
      ],
      "execution_count": null,
      "outputs": []
    },
    {
      "cell_type": "code",
      "metadata": {
        "id": "WXCzIpDzEe1H",
        "colab_type": "code",
        "colab": {}
      },
      "source": [
        "# Segregate the data based on type of dataset\n",
        "def get_dataset(instances = train_images_names):\n",
        "  d = {}\n",
        "  for im in instances:\n",
        "    if im in tokenized_descriptions.keys():\n",
        "      d[im] = tokenized_descriptions[im]\n",
        "  return d  "
      ],
      "execution_count": null,
      "outputs": []
    },
    {
      "cell_type": "code",
      "metadata": {
        "id": "XwI-MgKeEzKl",
        "colab_type": "code",
        "colab": {}
      },
      "source": [
        "train = get_dataset(train_images_names)\n",
        "test = get_dataset(test_images_names)\n",
        "validation = get_dataset(validation_images_names)"
      ],
      "execution_count": null,
      "outputs": []
    },
    {
      "cell_type": "code",
      "metadata": {
        "id": "p0QBgfu3FDob",
        "colab_type": "code",
        "colab": {
          "base_uri": "https://localhost:8080/",
          "height": 72
        },
        "outputId": "cf66b685-e059-4e5b-b921-d177a00a958c"
      },
      "source": [
        "print(f\"Number of instances in train data: {len(train)}\")\n",
        "print(f\"Number of instances in test data: {len(test)}\")\n",
        "print(f\"Number of instances in validation data: {len(validation)}\")"
      ],
      "execution_count": null,
      "outputs": [
        {
          "output_type": "stream",
          "text": [
            "Number of instances in train data: 6000\n",
            "Number of instances in test data: 1000\n",
            "Number of instances in validation data: 1000\n"
          ],
          "name": "stdout"
        }
      ]
    },
    {
      "cell_type": "markdown",
      "metadata": {
        "id": "y89W2oQKFFOA",
        "colab_type": "text"
      },
      "source": [
        "# Define a custom dataloader\n",
        "\n",
        "Now that both the images and captions are ready and processed, we can proceed with defining a loader object to iteratively get batches of the same and work for it. \n",
        "\n",
        "Pytorch provides a good way to do this. We can inherit the Dataset class from torch.utils.data package and define how we want to churn out a single data instance and couple it with the Dataloader class of the same object to retrieve data iteratively.\n",
        "\n",
        "Dataloaders are generator objects which are quite awesome in the respect that because of them we can get batches of images and captions. We don't have to hold everything in memory which makes this datastructure highly useful for efficient memory management."
      ]
    },
    {
      "cell_type": "code",
      "metadata": {
        "id": "DlFerfAcO11a",
        "colab_type": "code",
        "colab": {}
      },
      "source": [
        "# Create a dictionary that holds the names of all images in train\n",
        "# And test datasets\n",
        "partition = {}\n",
        "partition['train'] = train_images_names\n",
        "partition['test'] = test_images_names\n",
        "partition['validation'] = validation_images_names\n",
        "\n",
        "# Create a copy of the tokenized descriptions dictionary\n",
        "# and use it in datasets for extracting caption for images.\n",
        "labels = tokenized_descriptions.copy()"
      ],
      "execution_count": null,
      "outputs": []
    },
    {
      "cell_type": "code",
      "metadata": {
        "id": "V_j-AD_jKUdu",
        "colab_type": "code",
        "colab": {}
      },
      "source": [
        "class ImageDataset(data.Dataset):\n",
        "  \n",
        "  def __init__(self, ids, labels, img_folder, transform = None, resize = 299, mode = \"Train\"):\n",
        "\n",
        "    self.labels = labels\n",
        "    self.ids = ids\n",
        "    self.img_folder = img_folder\n",
        "    self.transform = transform\n",
        "    self.resize = resize\n",
        "    self.mode = mode\n",
        "\n",
        "  def __len__(self):\n",
        "    return len(self.ids)\n",
        "\n",
        "  def __getitem__(self, index):\n",
        "    id_ = self.ids[index]\n",
        "    \n",
        "    # Read the image, convert to RGB image\n",
        "    # Change it's size in order to make sure the input\n",
        "    # To network is consistently sized.\n",
        "    orig_img = Image.open(self.img_folder + '/' + id_)\n",
        "    orig_img = orig_img.convert('RGB')\n",
        "    \n",
        "    if self.transform:\n",
        "      proc_img = self.transform(orig_img)\n",
        "    else:\n",
        "      proc_img = orig_img.resize((self.resize, self.resize))\n",
        "      proc_img = TF.to_tensor(proc_img)\n",
        "      proc_img = proc_img.type(torch.FloatTensor) \n",
        "    \n",
        "    y = random.sample(self.labels[id_], 1)[0]\n",
        "    y = torch.tensor(y, dtype = torch.int64)\n",
        "        \n",
        "    if (self.mode == \"Train\") or (self.mode == \"Validation\"):\n",
        "      # Get any one caption out of the five captions\n",
        "      # Associated with the image and use it for training\n",
        "      return (proc_img, y)\n",
        "\n",
        "    elif self.mode == \"Test\":\n",
        "      orig_img = TF.to_tensor(orig_img)\n",
        "      orig_img = orig_img.type(torch.FloatTensor)\n",
        "      return (orig_img, proc_img, y)"
      ],
      "execution_count": null,
      "outputs": []
    },
    {
      "cell_type": "code",
      "metadata": {
        "id": "JacRZsAxRNyF",
        "colab_type": "code",
        "colab": {}
      },
      "source": [
        "# If a GPU is available for the computations, use it.\n",
        "device = torch.device('cuda:0' if torch.cuda.is_available() else 'cpu')\n",
        "\n",
        "transforms = tfms.Compose([tfms.RandomHorizontalFlip(p = .1),\n",
        "                           tfms.RandomVerticalFlip(p = .1),\n",
        "                           tfms.Resize(size = (299, 299)),\n",
        "                           tfms.RandomRotation(degrees = 15),\n",
        "                           tfms.ToTensor(),\n",
        "                           tfms.Normalize((0.485, 0.456, 0.406),\n",
        "                                          (0.229, 0.224, 0.225))])\n",
        "\n",
        "val_loader_parameters = {'batch_size':64,\n",
        "                         'shuffle':True}\n",
        "\n",
        "trainloader_parameters = {'batch_size':20,\n",
        "                         'shuffle':True}\n",
        "\n",
        "testloader_parameters = {'shuffle':True}"
      ],
      "execution_count": null,
      "outputs": []
    },
    {
      "cell_type": "code",
      "metadata": {
        "id": "BzfDaXAhSJet",
        "colab_type": "code",
        "colab": {}
      },
      "source": [
        "# Dataloaders\n",
        "\n",
        "# Train Generator\n",
        "training_set = ImageDataset(ids = partition['train'], labels = labels, img_folder =  '/content/drive/My Drive/flicker8k-dataset/Flickr8k_Dataset/Train',\n",
        "                            transform = transforms, mode = 'Train')\n",
        "training_generator = data.DataLoader(training_set, **trainloader_parameters)\n",
        "\n",
        "# Validation Generator\n",
        "validation_set = ImageDataset(partition['validation'], labels, '/content/drive/My Drive/flicker8k-dataset/Flickr8k_Dataset/Validation',\n",
        "                              transform = transforms, mode = \"Validation\")\n",
        "validation_generator = data.DataLoader(validation_set, **val_loader_parameters)\n",
        "\n",
        "# Test Generator\n",
        "test_set = ImageDataset(ids = partition['test'], labels = labels, img_folder = '/content/drive/My Drive/flicker8k-dataset/Flickr8k_Dataset/Test',\n",
        "                        transform = transforms, mode = \"Test\")\n",
        "test_generator = data.DataLoader(test_set, **testloader_parameters)"
      ],
      "execution_count": null,
      "outputs": []
    },
    {
      "cell_type": "markdown",
      "metadata": {
        "id": "PdbscGrVgkhJ",
        "colab_type": "text"
      },
      "source": [
        "# Model Training\n",
        "\n",
        "Both the encoder and decoder are defined in the model.py file in the current working directory. \n",
        "\n",
        "*Architecture*:\n",
        "\n",
        "The CNN Encoder is a ResNet50 pretrained model whose architecture is as follows:\n",
        "\n",
        "<img src=\"https://cv-tricks.com/wp-content/uploads/2019/07/ResNet50_architecture-1.png\" width=35%>\n",
        "\n",
        "\n",
        "\n",
        "The encoder grabs the last but one layer from the above model. The final layer is a 1000 class classification layer which we're not interested in. We're only interested in extracting the general hierarchies of information in an image. So, grab the penultimate layer and for the sake of making the output of a CNN Encoder homogeneous with the embeddings of the words in our caption, we stick a linear layer on top of this CNN with output equal to the embedding dimensions.\n",
        "\n",
        "Next we have an Recurrent network with LSTM Cells in place to handle the captions. This RNN Decoder is comprised of three layers:\n",
        "\n",
        "- A Word Embedding layer with num_embeddings = size of the captions vocabulary and output dimensions same as the output dimensions of the CNN Encoder i.e. embed_size.\n",
        "- An LSTM Layer with hidden_size as it's number of output neurons and embed_size as it's input neurons. An argument for dropout is provided if in case we're required to use more than one LSTM layer i.e. num_layers > 1.\n",
        "- A linear layer which accepts input from the LSTM layer and maps every input to a vocab_size number of neurons in the output. This output layer could be thought of as a probability distribution of all those words in our vocabulary and we pick the one with the highest value as our output word.\n",
        "\n",
        "The weights of the model are only modified until the top of the CNN i.e. the newly introduced Linear Layer and not any further. The Resnet50 architecture is kept intact. Let's review the hyperparameters of our model.\n",
        "\n",
        "*Hyperparameters*:\n",
        "\n",
        "[This paper](https://arxiv.org/pdf/1411.4555.pdf) systematically lists down the findings on a neural image caption generator and in section 4.3.1, they've mentioned the following hyperparameters which I have used in my architecture as well.\n",
        "\n",
        "![Neural Image Captioning Paper](Hyper_params.PNG)\n",
        "\n",
        "I experimented with several batch sizes [10, 12, 16, 20] and thought 16 was a decent size based on the training observations. With 10 the training loss was quite fluctuating but with 16, although it did fluctuate, the extent of deviation had gone down. With a small batch size, the outlierish points tend to sway the weight updates away from the local minimum to a larger extent. That is relatively less when it comes to a higher **batch_size, hence 16**. Since the model takes a lot of time to train, I restricted the **number of epochs to a modest 3**."
      ]
    },
    {
      "cell_type": "code",
      "metadata": {
        "id": "xLcmOdePumue",
        "colab_type": "code",
        "colab": {}
      },
      "source": [
        "# Constants for the network that has to be trained below\n",
        "embed_size = 200\n",
        "hidden_size = 256\n",
        "num_epochs = 20\n",
        "periodic_check = 75"
      ],
      "execution_count": null,
      "outputs": []
    },
    {
      "cell_type": "code",
      "metadata": {
        "id": "FvwjespTAUmw",
        "colab_type": "code",
        "colab": {
          "base_uri": "https://localhost:8080/",
          "height": 35
        },
        "outputId": "7dc6e31a-6b73-496d-be41-0a5c63d79b17"
      },
      "source": [
        "# Get the vocab size for embedding layer\n",
        "# 4 for 0, startseq, endseq, other and one for out of vocabulary token\n",
        "vocab_size = len(words) + 5\n",
        "vocab_size"
      ],
      "execution_count": null,
      "outputs": [
        {
          "output_type": "execute_result",
          "data": {
            "text/plain": [
              "4084"
            ]
          },
          "metadata": {
            "tags": []
          },
          "execution_count": 25
        }
      ]
    },
    {
      "cell_type": "markdown",
      "metadata": {
        "id": "ctOcXfw4avXI",
        "colab_type": "text"
      },
      "source": [
        "## Load weights from glove vector embeddings"
      ]
    },
    {
      "cell_type": "code",
      "metadata": {
        "id": "jLbgs6oDObE6",
        "colab_type": "code",
        "colab": {}
      },
      "source": [
        "lines = []\n",
        "with open('/content/drive/My Drive/glove.6B.200d.txt', 'r') as op:\n",
        "  lines = op.readlines()"
      ],
      "execution_count": null,
      "outputs": []
    },
    {
      "cell_type": "code",
      "metadata": {
        "id": "LnczqtViPMto",
        "colab_type": "code",
        "colab": {}
      },
      "source": [
        "dict_words = list(word_to_ix.keys())"
      ],
      "execution_count": null,
      "outputs": []
    },
    {
      "cell_type": "code",
      "metadata": {
        "id": "hTOVDs93P9Dv",
        "colab_type": "code",
        "colab": {}
      },
      "source": [
        "glove_vectors = np.random.randn(vocab_size, embed_size)"
      ],
      "execution_count": null,
      "outputs": []
    },
    {
      "cell_type": "code",
      "metadata": {
        "id": "ikS1UEqnOx3O",
        "colab_type": "code",
        "colab": {}
      },
      "source": [
        "glove_words = []\n",
        "counter = 0\n",
        "# glove_vectors = np.array(len(lines), embed_size)\n",
        "for line in lines:\n",
        "  line = re.sub('\\n', '', line)\n",
        "  everything = line.split(' ')\n",
        "  \n",
        "  word = everything[0]\n",
        "  weights = everything[1:]\n",
        "  weights = np.array([np.float(i) for i in weights], dtype = 'float')\n",
        "\n",
        "  if word in word_to_ix.keys():\n",
        "    counter = counter + 1\n",
        "    index = word_to_ix[word]\n",
        "    glove_vectors[index] = weights"
      ],
      "execution_count": null,
      "outputs": []
    },
    {
      "cell_type": "markdown",
      "metadata": {
        "id": "BNo85udCa11y",
        "colab_type": "text"
      },
      "source": [
        "# Encoder CNN Class Definition"
      ]
    },
    {
      "cell_type": "code",
      "metadata": {
        "id": "RJ8c1NhjahyP",
        "colab_type": "code",
        "colab": {}
      },
      "source": [
        "class EncoderCNN(nn.Module):\n",
        "  def __init__(self, embed_size):\n",
        "    super(EncoderCNN, self).__init__()\n",
        "    resnet = models.resnet50(pretrained=True)\n",
        "    for param in resnet.parameters():\n",
        "        param.requires_grad_(False)\n",
        "    \n",
        "    modules = list(resnet.children())[:-1]\n",
        "    self.resnet = nn.Sequential(*modules)\n",
        "    self.embed = nn.Linear(resnet.fc.in_features, embed_size)\n",
        "\n",
        "  def forward(self, images):\n",
        "    features = self.resnet(images)\n",
        "    features = features.view(features.size(0), -1)\n",
        "    features = self.embed(features)\n",
        "    return features"
      ],
      "execution_count": null,
      "outputs": []
    },
    {
      "cell_type": "markdown",
      "metadata": {
        "id": "iReNp1PDa8AM",
        "colab_type": "text"
      },
      "source": [
        "# Decoder RNN Class Definition"
      ]
    },
    {
      "cell_type": "code",
      "metadata": {
        "id": "pYHOt9qDGLdZ",
        "colab_type": "code",
        "colab": {}
      },
      "source": [
        "class DecoderRNN(nn.Module):\n",
        "  def __init__(self, embed_size, hidden_size, vocab_size, num_layers=1, dropout_prob = 0.1, weights = None):      \n",
        "    super(DecoderRNN, self).__init__()\n",
        "    # Make a note of all the architecture variables. They might come in handy at a later stage\n",
        "    print(\"Initializing Decoder...\")\n",
        "    self.embed_size = embed_size\n",
        "    self.hidden_size = hidden_size\n",
        "    self.vocab_size = vocab_size\n",
        "    self.num_layers = num_layers\n",
        "    self.drop = dropout_prob\n",
        "    self.glove_embedding_weights = torch.FloatTensor(weights)\n",
        "    \n",
        "    # Create a flag to see the shape of tensors for only one forward pass\n",
        "    self.view_tensor_flow = True\n",
        "    self.view_predict_tensor_flow = True\n",
        "    \n",
        "    # Embedding Layer - Create an embedding layer as big as the size of your vocabulary and map each word to a \n",
        "    # vector of length embed_size\n",
        "    self.embedding = None\n",
        "    if not (weights is None):\n",
        "      print('Loading Glove Weights')\n",
        "      weights = torch.FloatTensor(weights)\n",
        "      self.embedding = nn.Embedding.from_pretrained(weights)\n",
        "    else:\n",
        "      self.embedding = nn.Embedding(num_embeddings = vocab_size, embedding_dim = embed_size)\n",
        "    \n",
        "    self.embedding.weight.requires_grad = True\n",
        "    \n",
        "    # LSTM Layer\n",
        "    if num_layers > 1:\n",
        "      self.LSTM_layer = nn.LSTM(input_size = embed_size, hidden_size = hidden_size, num_layers = num_layers, \n",
        "                                  dropout = dropout_prob, batch_first = True)\n",
        "    else:\n",
        "      self.LSTM_layer = nn.LSTM(input_size = embed_size, hidden_size = hidden_size, num_layers = num_layers,\n",
        "                                  batch_first = True)\n",
        "        \n",
        "    \n",
        "    # Linear Output layer - Accepts the LSTM output and does a prediction to map the LSTM output to \n",
        "    # a probability value for each and every word in our vocab.\n",
        "    # self.fc = nn.Linear(in_features = hidden_size, out_features = hidden_size * 2)\n",
        "    self.fc = nn.Linear(in_features = hidden_size, out_features = vocab_size)\n",
        "    \n",
        "  def forward(self, features, captions):\n",
        "    batch_size = features.shape[0]\n",
        "    seq_length = captions.shape[1]\n",
        "    \n",
        "    # Since we're not passing the last token in our sequence remove that\n",
        "    # from our captions. We want to predict the next item given prev item\n",
        "    captions = captions[:batch_size, :(seq_length - 1)]\n",
        "    seq_length = captions.shape[1]\n",
        "    \n",
        "    # Now, engage your gears of attention!\n",
        "    # First get the embeddings for captions. It's dimensions will be - batch_size x seq_length x embed_size\n",
        "    captions_embedded = self.embedding(captions)\n",
        "    \n",
        "    # The embedding_size for a word in a caption is the same as\n",
        "    # The CNN Encoder output vector dimension. So, basically, Number of neurons in the Resnet modified encoder output layer \n",
        "    # is the same as the number of neurons in the embedding layer of the individual words in a caption\n",
        "    # Therefore define the image_size accordingly so as to concatenate with the captions\n",
        "    image_resized = features.unsqueeze(1)\n",
        "    \n",
        "    # Create a container to hold the output words\n",
        "    output_words = []\n",
        "\n",
        "\n",
        "    # Define a hidden state to be of random numbers for first iteration\n",
        "    device = torch.device(\"cuda\" if torch.cuda.is_available() else \"cpu\")\n",
        "    hidden = torch.randn(self.num_layers, batch_size, self.hidden_size).to(device)\n",
        "    cell = torch.randn(self.num_layers, batch_size, self.hidden_size).to(device)\n",
        "    state = (hidden, cell)\n",
        "    \n",
        "    # Iterate for one more than seq_length number of times. Predict a word using image + word\n",
        "    # Image + two words, Image + three words, Image + Four Words and so on and store the predicted\n",
        "    # Word in output words \n",
        "    for iteration in range(seq_length + 1):\n",
        "\n",
        "      LSTM_input = None\n",
        "      \n",
        "      if iteration == 0:\n",
        "        LSTM_input = image_resized\n",
        "      elif iteration == 1:\n",
        "        word = captions_embedded[:, 0, :].unsqueeze(1)\n",
        "        LSTM_input = torch.cat((image_resized, word), 1)\n",
        "      elif iteration > 1:\n",
        "        words = captions_embedded[:, :iteration, :]\n",
        "        LSTM_input = torch.cat((image_resized, words), 1)\n",
        "\n",
        "      LSTM_output, state = self.LSTM_layer(LSTM_input, state)\n",
        "\n",
        "      last_word = LSTM_output[:,-1,:].unsqueeze(0)\n",
        "      out = self.fc(last_word)\n",
        "      output_words.append(out)\n",
        "    \n",
        "    # Concatenate all the words that are generated in the process and return them as output\n",
        "    final_output = torch.cat(output_words, 0).transpose(0, 1)\n",
        "    \n",
        "    if self.view_tensor_flow:\n",
        "      print(f\"Shape of incoming features: {features.shape}\")\n",
        "      print(f\"Shape of incoming captions: {captions.shape}\")\n",
        "      print(f\"Batch Size: {batch_size}, Sequence Length: {seq_length + 1}\")\n",
        "      print(f\"Shape of captions after embedding: {captions_embedded.shape}\")\n",
        "      print(f\"Shape of features altered to concat with captions: {image_resized.shape}\")\n",
        "      print(f\"Hidden state shape: {state[0].shape}, Cell state shape: {state[1].shape}\")\n",
        "      print(f\"Shape of output: {final_output.shape}\\n\\n\")\n",
        "      self.view_tensor_flow = False\n",
        "    return final_output\n",
        "      \n",
        "\n",
        "  def sample(self, inputs, states=None, max_len=13):\n",
        "    \" accepts pre-processed image tensor (inputs) and returns predicted sentence (list of tensor ids of length max_len) \"\n",
        "    # Create an empty list to hold all the indices for words of a sentence\n",
        "    words = []\n",
        "    caption_embeddings = None\n",
        "    embedded_word = None\n",
        "    device = torch.device(\"cuda\" if torch.cuda.is_available() else \"cpu\")\n",
        "\n",
        "    if (states is None):\n",
        "      h = torch.randn(self.num_layers, 1, self.hidden_size).to(device)\n",
        "      c = torch.randn(self.num_layers, 1, self.hidden_size).to(device)\n",
        "      states = (h, c)\n",
        "\n",
        "    # Implement the forward pass to get the first word\n",
        "    word1_, states = self.LSTM_layer(inputs, states)\n",
        "    \n",
        "    # Get the word out of this forward pass\n",
        "    out_ = self.fc(word1_)\n",
        "    \n",
        "    # Output word\n",
        "    out_word = torch.argmax(out_, dim = 2).item()\n",
        "    words.append(out_word)\n",
        "    caption_embeddings = self.embedding(torch.tensor([out_word]).to(device).unsqueeze(1))\n",
        "    # Now feed these words recursively in a for loop to generate words\n",
        "    \n",
        "    for i in range(max_len - 1):\n",
        "      features = torch.cat((inputs, caption_embeddings), 1)\n",
        "      \n",
        "      # Feed this as input to the LSTM layer        \n",
        "      LSTM_out, states = self.LSTM_layer(features, states)\n",
        "      \n",
        "      # Feed the output to a linear layer\n",
        "      last_word = LSTM_out[:,-1,:].unsqueeze(0)\n",
        "      # last_word = LSTM_out\n",
        "      lin_out = self.fc(last_word)\n",
        "      \n",
        "      # Apply the softmax activation function on the output of linear pass\n",
        "      word_index = torch.argmax(lin_out, dim = 2).item()\n",
        "      words.append(word_index)\n",
        "      embedded_word = self.embedding(torch.tensor([word_index]).to(device).unsqueeze(1))\n",
        "      caption_embeddings = torch.cat((caption_embeddings, embedded_word), 1)\n",
        "        \n",
        "    if self.view_predict_tensor_flow:\n",
        "      print(f\"\\nOriginal Input shape: {inputs.shape}\")\n",
        "      print(f\"LSTM 1st Word Output shape: {word1_.shape}\")\n",
        "      print(f\"Output shape: {out_.shape}\")\n",
        "      print(f\"Caption Embeddings Shape: {caption_embeddings.shape}\")\n",
        "      print(f\"Last Embedded word shape: {embedded_word.shape}\")\n",
        "\n",
        "      self.view_predict_tensor_flow = False  \n",
        "    \n",
        "    return words"
      ],
      "execution_count": null,
      "outputs": []
    },
    {
      "cell_type": "code",
      "metadata": {
        "id": "FNRV_xMHK8xq",
        "colab_type": "code",
        "colab": {
          "base_uri": "https://localhost:8080/",
          "height": 122,
          "referenced_widgets": [
            "57836f6dcc6f4fe3bf1b9e59ee83e7d8",
            "73240809d25b4fc7aabdd78f144810e7",
            "7ac8aaf0938043939c5408e5132ba73c",
            "df05ccf477ff476d944b2edcbaf7da87",
            "3f7a8a5ed56546ca8866099ae72e85c0",
            "7ac713972c9b4489afc617fe69d14897",
            "452fd520592e41fba5ead1fc5bb639f8",
            "2a31687525774c579d6460daf688fc21"
          ]
        },
        "outputId": "7027d197-2ba3-41ea-fdff-00efefffd9ee"
      },
      "source": [
        "# Initialize the encoder and decoder. \n",
        "encoder = EncoderCNN(embed_size)\n",
        "decoder = DecoderRNN(embed_size, hidden_size, vocab_size, weights = glove_vectors)"
      ],
      "execution_count": null,
      "outputs": [
        {
          "output_type": "stream",
          "text": [
            "Downloading: \"http://download.pytorch.org/models/resnet50-19c8e357.pth\" to /root/.cache/torch/checkpoints/resnet50-19c8e357.pth\n"
          ],
          "name": "stderr"
        },
        {
          "output_type": "display_data",
          "data": {
            "application/vnd.jupyter.widget-view+json": {
              "model_id": "57836f6dcc6f4fe3bf1b9e59ee83e7d8",
              "version_minor": 0,
              "version_major": 2
            },
            "text/plain": [
              "HBox(children=(IntProgress(value=0, max=102502400), HTML(value='')))"
            ]
          },
          "metadata": {
            "tags": []
          }
        },
        {
          "output_type": "stream",
          "text": [
            "\n",
            "Initializing Decoder...\n",
            "Loading Glove Weights\n"
          ],
          "name": "stdout"
        }
      ]
    },
    {
      "cell_type": "code",
      "metadata": {
        "id": "HCOdTrO-MhLE",
        "colab_type": "code",
        "colab": {}
      },
      "source": [
        "# Define the loss function\n",
        "criterion = nn.CrossEntropyLoss().cuda() if torch.cuda.is_available() else nn.CrossEntropyLoss()"
      ],
      "execution_count": null,
      "outputs": []
    },
    {
      "cell_type": "code",
      "metadata": {
        "id": "5_T_SGaPMn5c",
        "colab_type": "code",
        "colab": {}
      },
      "source": [
        "# Define the learnable parameters\n",
        "params = list(decoder.parameters()) + list(encoder.embed.parameters())"
      ],
      "execution_count": null,
      "outputs": []
    },
    {
      "cell_type": "code",
      "metadata": {
        "id": "5s-A-AQGMskH",
        "colab_type": "code",
        "colab": {}
      },
      "source": [
        "# Define the optimizer.\n",
        "optimizer = torch.optim.Adam(params, lr = 9e-3)"
      ],
      "execution_count": null,
      "outputs": []
    },
    {
      "cell_type": "code",
      "metadata": {
        "id": "vcY-oyMqSeEw",
        "colab_type": "code",
        "colab": {
          "base_uri": "https://localhost:8080/",
          "height": 35
        },
        "outputId": "ccf05fac-d9c0-4675-c190-580c01f32bac"
      },
      "source": [
        "# Find out the total number of batches that you're gonna train for\n",
        "# By dividing the total number of samples by the batch size\n",
        "total_steps = math.ceil(len(training_generator.dataset.ids) / training_generator.batch_size)\n",
        "print(total_steps)"
      ],
      "execution_count": null,
      "outputs": [
        {
          "output_type": "stream",
          "text": [
            "300\n"
          ],
          "name": "stdout"
        }
      ]
    },
    {
      "cell_type": "code",
      "metadata": {
        "id": "57dY69JmDq1G",
        "colab_type": "code",
        "colab": {
          "base_uri": "https://localhost:8080/",
          "height": 35
        },
        "outputId": "ab5869de-ebb5-4a37-9f92-741079ab010f"
      },
      "source": [
        "decoder.load_state_dict(torch.load('/content/drive/My Drive/decoder_temp_image_greedy_glove.pkl'))\n",
        "encoder.load_state_dict(torch.load('/content/drive/My Drive/encoder_temp_image_greedy_glove.pkl'))"
      ],
      "execution_count": null,
      "outputs": [
        {
          "output_type": "execute_result",
          "data": {
            "text/plain": [
              "<All keys matched successfully>"
            ]
          },
          "metadata": {
            "tags": []
          },
          "execution_count": 37
        }
      ]
    },
    {
      "cell_type": "code",
      "metadata": {
        "id": "1nIBVzUSWeX8",
        "colab_type": "code",
        "colab": {
          "base_uri": "https://localhost:8080/",
          "height": 108
        },
        "outputId": "a6679046-701f-4d73-b317-60cb3741ab89"
      },
      "source": [
        "# Move models to GPU if CUDA is available. \n",
        "encoder.to(device)\n",
        "decoder.to(device)"
      ],
      "execution_count": null,
      "outputs": [
        {
          "output_type": "execute_result",
          "data": {
            "text/plain": [
              "DecoderRNN(\n",
              "  (embedding): Embedding(4084, 200)\n",
              "  (LSTM_layer): LSTM(200, 256, batch_first=True)\n",
              "  (fc): Linear(in_features=256, out_features=4084, bias=True)\n",
              ")"
            ]
          },
          "metadata": {
            "tags": []
          },
          "execution_count": 38
        }
      ]
    },
    {
      "cell_type": "code",
      "metadata": {
        "id": "L1MGY2dnw9pW",
        "colab_type": "code",
        "colab": {}
      },
      "source": [
        "def validate_model():\n",
        "  num_batches = math.ceil(len(validation_generator.dataset.ids) / validation_generator.batch_size)\n",
        "  torch.set_grad_enabled(False)\n",
        "  total_loss = 0\n",
        "\n",
        "  for batch in range(num_batches):\n",
        "    valid_images, valid_captions = next(iter(validation_generator))\n",
        "    valid_images = valid_images.to(device)\n",
        "    valid_captions = valid_captions.to(device)\n",
        "\n",
        "    valid_image_features = encoder(valid_images)\n",
        "    output = decoder(valid_image_features, valid_captions)\n",
        "\n",
        "    loss = criterion(output.reshape(-1, vocab_size), valid_captions.reshape(-1))\n",
        "    total_loss += loss.item()\n",
        "  \n",
        "  average_validation_loss = total_loss / num_batches\n",
        "  torch.set_grad_enabled(True)\n",
        "  return average_validation_loss"
      ],
      "execution_count": null,
      "outputs": []
    },
    {
      "cell_type": "code",
      "metadata": {
        "id": "z8DlCARbMvOW",
        "colab_type": "code",
        "colab": {
          "base_uri": "https://localhost:8080/",
          "height": 1000
        },
        "outputId": "c403be8d-3fe3-42f4-9bf9-33d678591b69"
      },
      "source": [
        "# Training Process\n",
        "training_log = []\n",
        "validation_loss_history = []\n",
        "num_batches = total_steps\n",
        "\n",
        "torch.set_grad_enabled(True)\n",
        "encoder.train()\n",
        "decoder.train()\n",
        "decoder.view_tensor_flow = True\n",
        "\n",
        "for epochs in range(1, num_epochs+1):\n",
        "  \n",
        "  batch_train_time = 0\n",
        "  # Adapt the learning rate\n",
        "  if epochs >= 7:\n",
        "    optimizer = torch.optim.Adam(params, lr = 5e-3)\n",
        "  elif epochs >= 10:\n",
        "    optimizer = torch.optim.Adam(params, lr = 1e-3)\n",
        "  elif epochs >= 13:\n",
        "    optimizer = torch.optim.Adam(params, lr = 9e-4)\n",
        "  \n",
        "  epoch_loss = 0  \n",
        "  # Actual Training loop\n",
        "  for step in range(num_batches):\n",
        "    start = time.time()\n",
        "    train_images, train_captions = next(iter(training_generator))\n",
        "\n",
        "    # Move to cuda if GPU is available\n",
        "    train_images = train_images.to(device)\n",
        "    train_captions = train_captions.to(device)\n",
        "\n",
        "    # Reset the gradients else they'll get accumulated\n",
        "    encoder.zero_grad()\n",
        "    decoder.zero_grad()\n",
        "\n",
        "    # Forward Pass\n",
        "    image_features = encoder(train_images)\n",
        "    output = decoder(image_features, train_captions)\n",
        "\n",
        "    # Find the batch loss\n",
        "    # Output is in the shape bs X seq_len X embedding\n",
        "    # For calculation of loss, we need to reshape the arrays for comparison\n",
        "    if step == 0 and epochs == 1:\n",
        "      print(f\"The shape of adjusted output (for loss calc): {output.reshape(-1, vocab_size).shape}\")\n",
        "      print(f\"The shape of adjusted caption (for loss calc): {train_captions.reshape(-1).shape}\\n\")\n",
        "    loss = criterion(output.reshape(-1, vocab_size), train_captions.reshape(-1))\n",
        "    \n",
        "    # Backpropogate the loss\n",
        "    loss.backward()\n",
        "\n",
        "    # Update the parameters in the optimizer\n",
        "    optimizer.step()\n",
        "\n",
        "    # Get the statistics about network learning\n",
        "    ep = epochs\n",
        "    current_step = \"{0:>5}\".format(step + 1)\n",
        "    numerical_loss = \"{0:>7}\".format(np.round(loss.item(), 5))\n",
        "    epoch_loss += float(numerical_loss)\n",
        "\n",
        "    # Get the statistics about time i.e. avergae batch completion time and epoch completion time\n",
        "    curr_batch_training_time = np.round(time.time() - start, 2)\n",
        "    batch_train_time += curr_batch_training_time\n",
        "    avg_batch_train_time = \"{0:>5}\".format(np.round(batch_train_time / (1 + step), 3))\n",
        "    expected_remaining_time = \"{0:>5}\".format(np.round(float(avg_batch_train_time) * (num_batches - step), 2))\n",
        "\n",
        "    avg_batch_loss = \"{0:>7}\".format(np.round(epoch_loss / (1 + step), 5))\n",
        "    \n",
        "\n",
        "    # Display the statistics mentioned above in output.\n",
        "    measures = f\"Epoch: {ep}/{num_epochs}, Batch: {current_step}/{num_batches}, Avg Batch Loss: {avg_batch_loss}, Current Batch Loss: {numerical_loss}, Average Batch Train Time: {avg_batch_train_time}s, Time remaining for Epoch: {expected_remaining_time}s\"\n",
        "    print(f'\\r{measures}', end = \"\")\n",
        "    sys.stdout.flush()\n",
        "\n",
        "    if (step) % periodic_check == 0:\n",
        "      print(f'\\r{measures}')\n",
        "      \n",
        "      entry = {'Epoch': int(ep), 'Batch': int(current_step), 'Loss': float(avg_batch_loss), 'Btch Train Time': float(avg_batch_train_time)}\n",
        "      training_log.append(entry)\n",
        "      \n",
        "    \n",
        "    # Save the model with weights after every periodic check batches\n",
        "    if (1 + step) % periodic_check == 0:\n",
        "      torch.save(decoder.state_dict(), os.path.join('/content/drive/My Drive', f'decoder_temp_image_greedy_glove.pkl'))\n",
        "      torch.save(encoder.state_dict(), os.path.join('/content/drive/My Drive', f'encoder_temp_image_greedy_glove.pkl'))\n",
        "    \n",
        "  valid_loss = \"{0:>4}\".format(np.round(validate_model(), 4))\n",
        "  print(f\"\\nAt the end of epoch {ep}, validation loss: {valid_loss}\\n\")\n",
        "  validation_loss_history.append(valid_loss)"
      ],
      "execution_count": null,
      "outputs": [
        {
          "output_type": "stream",
          "text": [
            "Shape of incoming features: torch.Size([20, 200])\n",
            "Shape of incoming captions: torch.Size([20, 11])\n",
            "Batch Size: 20, Sequence Length: 12\n",
            "Shape of captions after embedding: torch.Size([20, 11, 200])\n",
            "Shape of features altered to concat with captions: torch.Size([20, 1, 200])\n",
            "Hidden state shape: torch.Size([1, 20, 256]), Cell state shape: torch.Size([1, 20, 256])\n",
            "Shape of output: torch.Size([20, 12, 4084])\n",
            "\n",
            "\n",
            "The shape of adjusted output (for loss calc): torch.Size([240, 4084])\n",
            "The shape of adjusted caption (for loss calc): torch.Size([240])\n",
            "\n",
            "Epoch: 1/20, Batch:     1/300, Avg Batch Loss: 8.35454, Current Batch Loss: 8.35454, Average Batch Train Time:  0.42s, Time remaining for Epoch: 126.0s\n",
            "Epoch: 1/20, Batch:    76/300, Avg Batch Loss: 3.90448, Current Batch Loss: 3.31049, Average Batch Train Time: 0.362s, Time remaining for Epoch: 81.45s\n",
            "Epoch: 1/20, Batch:   151/300, Avg Batch Loss: 3.54507, Current Batch Loss: 2.91247, Average Batch Train Time: 0.364s, Time remaining for Epoch:  54.6s\n",
            "Epoch: 1/20, Batch:   226/300, Avg Batch Loss: 3.38259, Current Batch Loss: 2.88089, Average Batch Train Time: 0.364s, Time remaining for Epoch:  27.3s\n",
            "Epoch: 1/20, Batch:   300/300, Avg Batch Loss: 3.26682, Current Batch Loss: 2.76694, Average Batch Train Time: 0.364s, Time remaining for Epoch:  0.36s\n",
            "At the end of epoch 1, validation loss: 2.9938\n",
            "\n",
            "Epoch: 2/20, Batch:     1/300, Avg Batch Loss: 2.73947, Current Batch Loss: 2.73947, Average Batch Train Time:  0.35s, Time remaining for Epoch: 105.0s\n",
            "Epoch: 2/20, Batch:    76/300, Avg Batch Loss: 2.86214, Current Batch Loss: 2.97524, Average Batch Train Time: 0.363s, Time remaining for Epoch: 81.68s\n",
            "Epoch: 2/20, Batch:   151/300, Avg Batch Loss: 2.81502, Current Batch Loss: 2.81861, Average Batch Train Time: 0.364s, Time remaining for Epoch:  54.6s\n",
            "Epoch: 2/20, Batch:   226/300, Avg Batch Loss:  2.7845, Current Batch Loss: 2.70261, Average Batch Train Time: 0.366s, Time remaining for Epoch: 27.45s\n",
            "Epoch: 2/20, Batch:   300/300, Avg Batch Loss: 2.77569, Current Batch Loss: 2.44367, Average Batch Train Time: 0.365s, Time remaining for Epoch:  0.36s\n",
            "At the end of epoch 2, validation loss: 2.9286\n",
            "\n",
            "Epoch: 3/20, Batch:     1/300, Avg Batch Loss: 2.57764, Current Batch Loss: 2.57764, Average Batch Train Time:  0.37s, Time remaining for Epoch: 111.0s\n",
            "Epoch: 3/20, Batch:    76/300, Avg Batch Loss: 2.65826, Current Batch Loss:  2.5671, Average Batch Train Time: 0.364s, Time remaining for Epoch:  81.9s\n",
            "Epoch: 3/20, Batch:   151/300, Avg Batch Loss: 2.67315, Current Batch Loss:  2.9024, Average Batch Train Time: 0.365s, Time remaining for Epoch: 54.75s\n",
            "Epoch: 3/20, Batch:   226/300, Avg Batch Loss: 2.64912, Current Batch Loss: 2.49122, Average Batch Train Time: 0.367s, Time remaining for Epoch: 27.52s\n",
            "Epoch: 3/20, Batch:   300/300, Avg Batch Loss: 2.64382, Current Batch Loss: 2.64504, Average Batch Train Time: 0.366s, Time remaining for Epoch:  0.37s\n",
            "At the end of epoch 3, validation loss: 2.8148\n",
            "\n",
            "Epoch: 4/20, Batch:     1/300, Avg Batch Loss: 2.56689, Current Batch Loss: 2.56689, Average Batch Train Time:  0.34s, Time remaining for Epoch: 102.0s\n",
            "Epoch: 4/20, Batch:    76/300, Avg Batch Loss: 2.59645, Current Batch Loss:   2.278, Average Batch Train Time: 0.362s, Time remaining for Epoch: 81.45s\n",
            "Epoch: 4/20, Batch:   151/300, Avg Batch Loss: 2.60513, Current Batch Loss: 2.71933, Average Batch Train Time: 0.365s, Time remaining for Epoch: 54.75s\n",
            "Epoch: 4/20, Batch:   226/300, Avg Batch Loss: 2.57385, Current Batch Loss: 2.58817, Average Batch Train Time: 0.365s, Time remaining for Epoch: 27.38s\n",
            "Epoch: 4/20, Batch:   300/300, Avg Batch Loss: 2.56568, Current Batch Loss: 2.22042, Average Batch Train Time: 0.365s, Time remaining for Epoch:  0.36s\n",
            "At the end of epoch 4, validation loss: 2.7917\n",
            "\n",
            "Epoch: 5/20, Batch:     1/300, Avg Batch Loss:  2.5315, Current Batch Loss:  2.5315, Average Batch Train Time:  0.37s, Time remaining for Epoch: 111.0s\n",
            "Epoch: 5/20, Batch:    76/300, Avg Batch Loss: 2.53832, Current Batch Loss: 2.88848, Average Batch Train Time:  0.36s, Time remaining for Epoch:  81.0s\n",
            "Epoch: 5/20, Batch:   151/300, Avg Batch Loss: 2.52786, Current Batch Loss: 2.67624, Average Batch Train Time: 0.362s, Time remaining for Epoch:  54.3s\n",
            "Epoch: 5/20, Batch:   226/300, Avg Batch Loss: 2.50404, Current Batch Loss: 2.65942, Average Batch Train Time: 0.364s, Time remaining for Epoch:  27.3s\n",
            "Epoch: 5/20, Batch:   300/300, Avg Batch Loss: 2.49665, Current Batch Loss: 2.30874, Average Batch Train Time: 0.364s, Time remaining for Epoch:  0.36s\n",
            "At the end of epoch 5, validation loss: 2.7803\n",
            "\n",
            "Epoch: 6/20, Batch:     1/300, Avg Batch Loss: 2.47369, Current Batch Loss: 2.47369, Average Batch Train Time:  0.36s, Time remaining for Epoch: 108.0s\n",
            "Epoch: 6/20, Batch:    76/300, Avg Batch Loss: 2.46772, Current Batch Loss: 2.37106, Average Batch Train Time: 0.361s, Time remaining for Epoch: 81.22s\n",
            "Epoch: 6/20, Batch:   151/300, Avg Batch Loss: 2.45426, Current Batch Loss: 2.35373, Average Batch Train Time: 0.364s, Time remaining for Epoch:  54.6s\n",
            "Epoch: 6/20, Batch:   226/300, Avg Batch Loss: 2.44929, Current Batch Loss: 2.40267, Average Batch Train Time: 0.363s, Time remaining for Epoch: 27.22s\n",
            "Epoch: 6/20, Batch:   300/300, Avg Batch Loss: 2.44504, Current Batch Loss: 2.29651, Average Batch Train Time: 0.365s, Time remaining for Epoch:  0.36s\n",
            "At the end of epoch 6, validation loss: 2.7745\n",
            "\n",
            "Epoch: 7/20, Batch:     1/300, Avg Batch Loss: 2.61843, Current Batch Loss: 2.61843, Average Batch Train Time:  0.37s, Time remaining for Epoch: 111.0s\n",
            "Epoch: 7/20, Batch:    76/300, Avg Batch Loss: 2.41874, Current Batch Loss: 2.58454, Average Batch Train Time: 0.363s, Time remaining for Epoch: 81.68s\n",
            "Epoch: 7/20, Batch:   151/300, Avg Batch Loss: 2.43372, Current Batch Loss: 2.47421, Average Batch Train Time: 0.365s, Time remaining for Epoch: 54.75s\n",
            "Epoch: 7/20, Batch:   226/300, Avg Batch Loss: 2.43314, Current Batch Loss: 2.64839, Average Batch Train Time: 0.365s, Time remaining for Epoch: 27.38s\n",
            "Epoch: 7/20, Batch:   300/300, Avg Batch Loss: 2.43075, Current Batch Loss: 2.03452, Average Batch Train Time: 0.365s, Time remaining for Epoch:  0.36s\n",
            "At the end of epoch 7, validation loss: 2.7201\n",
            "\n",
            "Epoch: 8/20, Batch:     1/300, Avg Batch Loss: 2.55545, Current Batch Loss: 2.55545, Average Batch Train Time:  0.35s, Time remaining for Epoch: 105.0s\n",
            "Epoch: 8/20, Batch:    76/300, Avg Batch Loss:  2.4605, Current Batch Loss: 2.77069, Average Batch Train Time: 0.362s, Time remaining for Epoch: 81.45s\n",
            "Epoch: 8/20, Batch:   151/300, Avg Batch Loss: 2.48717, Current Batch Loss: 2.62643, Average Batch Train Time: 0.365s, Time remaining for Epoch: 54.75s\n",
            "Epoch: 8/20, Batch:   226/300, Avg Batch Loss: 2.49763, Current Batch Loss: 2.26228, Average Batch Train Time: 0.365s, Time remaining for Epoch: 27.38s\n",
            "Epoch: 8/20, Batch:   300/300, Avg Batch Loss: 2.50102, Current Batch Loss:  2.4708, Average Batch Train Time: 0.365s, Time remaining for Epoch:  0.36s\n",
            "At the end of epoch 8, validation loss: 2.7995\n",
            "\n",
            "Epoch: 9/20, Batch:     1/300, Avg Batch Loss:  2.5641, Current Batch Loss:  2.5641, Average Batch Train Time:  0.37s, Time remaining for Epoch: 111.0s\n",
            "Epoch: 9/20, Batch:    76/300, Avg Batch Loss: 2.54642, Current Batch Loss:   2.449, Average Batch Train Time: 0.365s, Time remaining for Epoch: 82.12s\n",
            "Epoch: 9/20, Batch:   151/300, Avg Batch Loss: 2.53524, Current Batch Loss: 2.19363, Average Batch Train Time: 0.364s, Time remaining for Epoch:  54.6s\n",
            "Epoch: 9/20, Batch:   226/300, Avg Batch Loss: 2.54521, Current Batch Loss:  2.3865, Average Batch Train Time: 0.364s, Time remaining for Epoch:  27.3s\n",
            "Epoch: 9/20, Batch:   300/300, Avg Batch Loss: 2.53133, Current Batch Loss: 2.19068, Average Batch Train Time: 0.364s, Time remaining for Epoch:  0.36s\n",
            "At the end of epoch 9, validation loss: 2.8104\n",
            "\n",
            "Epoch: 10/20, Batch:     1/300, Avg Batch Loss: 2.48986, Current Batch Loss: 2.48986, Average Batch Train Time:  0.35s, Time remaining for Epoch: 105.0s\n",
            "Epoch: 10/20, Batch:    76/300, Avg Batch Loss: 2.53344, Current Batch Loss: 2.75944, Average Batch Train Time: 0.364s, Time remaining for Epoch:  81.9s\n",
            "Epoch: 10/20, Batch:   151/300, Avg Batch Loss: 2.53411, Current Batch Loss:  2.7209, Average Batch Train Time: 0.363s, Time remaining for Epoch: 54.45s\n",
            "Epoch: 10/20, Batch:   226/300, Avg Batch Loss: 2.53283, Current Batch Loss: 2.44984, Average Batch Train Time: 0.364s, Time remaining for Epoch:  27.3s\n",
            "Epoch: 10/20, Batch:   300/300, Avg Batch Loss: 2.53202, Current Batch Loss:  2.8722, Average Batch Train Time: 0.364s, Time remaining for Epoch:  0.36s\n",
            "At the end of epoch 10, validation loss: 2.8563\n",
            "\n",
            "Epoch: 11/20, Batch:     1/300, Avg Batch Loss: 2.74605, Current Batch Loss: 2.74605, Average Batch Train Time:  0.36s, Time remaining for Epoch: 108.0s\n",
            "Epoch: 11/20, Batch:    76/300, Avg Batch Loss: 2.51209, Current Batch Loss: 2.48218, Average Batch Train Time: 0.363s, Time remaining for Epoch: 81.68s\n",
            "Epoch: 11/20, Batch:   151/300, Avg Batch Loss: 2.54466, Current Batch Loss: 2.82634, Average Batch Train Time: 0.362s, Time remaining for Epoch:  54.3s\n",
            "Epoch: 11/20, Batch:   226/300, Avg Batch Loss: 2.54915, Current Batch Loss:  2.5482, Average Batch Train Time: 0.362s, Time remaining for Epoch: 27.15s\n",
            "Epoch: 11/20, Batch:   300/300, Avg Batch Loss: 2.54888, Current Batch Loss:  2.6277, Average Batch Train Time: 0.362s, Time remaining for Epoch:  0.36s\n",
            "At the end of epoch 11, validation loss: 2.8912\n",
            "\n",
            "Epoch: 12/20, Batch:     1/300, Avg Batch Loss: 2.54842, Current Batch Loss: 2.54842, Average Batch Train Time:  0.37s, Time remaining for Epoch: 111.0s\n",
            "Epoch: 12/20, Batch:    76/300, Avg Batch Loss: 2.61854, Current Batch Loss: 2.68283, Average Batch Train Time: 0.361s, Time remaining for Epoch: 81.22s\n",
            "Epoch: 12/20, Batch:   151/300, Avg Batch Loss: 2.60333, Current Batch Loss: 2.53615, Average Batch Train Time: 0.362s, Time remaining for Epoch:  54.3s\n",
            "Epoch: 12/20, Batch:   226/300, Avg Batch Loss:  2.5822, Current Batch Loss: 2.50232, Average Batch Train Time: 0.362s, Time remaining for Epoch: 27.15s\n",
            "Epoch: 12/20, Batch:   300/300, Avg Batch Loss:  2.5695, Current Batch Loss: 2.75342, Average Batch Train Time: 0.362s, Time remaining for Epoch:  0.36s\n",
            "At the end of epoch 12, validation loss: 2.8527\n",
            "\n",
            "Epoch: 13/20, Batch:     1/300, Avg Batch Loss: 2.69127, Current Batch Loss: 2.69127, Average Batch Train Time:  0.36s, Time remaining for Epoch: 108.0s\n",
            "Epoch: 13/20, Batch:    76/300, Avg Batch Loss: 2.58552, Current Batch Loss: 2.78182, Average Batch Train Time: 0.362s, Time remaining for Epoch: 81.45s\n",
            "Epoch: 13/20, Batch:   151/300, Avg Batch Loss: 2.57939, Current Batch Loss: 3.05983, Average Batch Train Time: 0.364s, Time remaining for Epoch:  54.6s\n",
            "Epoch: 13/20, Batch:   226/300, Avg Batch Loss: 2.56749, Current Batch Loss: 2.31938, Average Batch Train Time: 0.364s, Time remaining for Epoch:  27.3s\n",
            "Epoch: 13/20, Batch:   300/300, Avg Batch Loss: 2.56507, Current Batch Loss:  2.0012, Average Batch Train Time: 0.364s, Time remaining for Epoch:  0.36s\n",
            "At the end of epoch 13, validation loss: 2.8952\n",
            "\n",
            "Epoch: 14/20, Batch:     1/300, Avg Batch Loss: 2.37103, Current Batch Loss: 2.37103, Average Batch Train Time:  0.36s, Time remaining for Epoch: 108.0s\n",
            "Epoch: 14/20, Batch:    76/300, Avg Batch Loss: 2.58381, Current Batch Loss: 2.34707, Average Batch Train Time:  0.36s, Time remaining for Epoch:  81.0s\n",
            "Epoch: 14/20, Batch:   151/300, Avg Batch Loss: 2.58791, Current Batch Loss:  2.6997, Average Batch Train Time: 0.363s, Time remaining for Epoch: 54.45s\n",
            "Epoch: 14/20, Batch:   226/300, Avg Batch Loss: 2.58198, Current Batch Loss: 2.46949, Average Batch Train Time: 0.362s, Time remaining for Epoch: 27.15s\n",
            "Epoch: 14/20, Batch:   300/300, Avg Batch Loss: 2.57329, Current Batch Loss: 2.53235, Average Batch Train Time: 0.363s, Time remaining for Epoch:  0.36s\n",
            "At the end of epoch 14, validation loss: 2.939\n",
            "\n",
            "Epoch: 15/20, Batch:     1/300, Avg Batch Loss: 2.56294, Current Batch Loss: 2.56294, Average Batch Train Time:  0.37s, Time remaining for Epoch: 111.0s\n",
            "Epoch: 15/20, Batch:    76/300, Avg Batch Loss:  2.6202, Current Batch Loss: 2.25817, Average Batch Train Time: 0.362s, Time remaining for Epoch: 81.45s\n",
            "Epoch: 15/20, Batch:   151/300, Avg Batch Loss: 2.58132, Current Batch Loss: 2.56539, Average Batch Train Time: 0.363s, Time remaining for Epoch: 54.45s\n",
            "Epoch: 15/20, Batch:   226/300, Avg Batch Loss: 2.55872, Current Batch Loss: 2.27119, Average Batch Train Time: 0.363s, Time remaining for Epoch: 27.22s\n",
            "Epoch: 15/20, Batch:   300/300, Avg Batch Loss: 2.57644, Current Batch Loss: 2.92714, Average Batch Train Time: 0.364s, Time remaining for Epoch:  0.36s\n",
            "At the end of epoch 15, validation loss: 2.9645\n",
            "\n",
            "Epoch: 16/20, Batch:     1/300, Avg Batch Loss: 2.53409, Current Batch Loss: 2.53409, Average Batch Train Time:  0.36s, Time remaining for Epoch: 108.0s\n",
            "Epoch: 16/20, Batch:    76/300, Avg Batch Loss: 2.54636, Current Batch Loss: 2.67023, Average Batch Train Time: 0.363s, Time remaining for Epoch: 81.68s\n",
            "Epoch: 16/20, Batch:   151/300, Avg Batch Loss: 2.59226, Current Batch Loss: 2.57573, Average Batch Train Time: 0.365s, Time remaining for Epoch: 54.75s\n",
            "Epoch: 16/20, Batch:   226/300, Avg Batch Loss:   2.601, Current Batch Loss: 2.71025, Average Batch Train Time: 0.364s, Time remaining for Epoch:  27.3s\n",
            "Epoch: 16/20, Batch:   300/300, Avg Batch Loss: 2.58347, Current Batch Loss: 2.48025, Average Batch Train Time: 0.365s, Time remaining for Epoch:  0.36s\n",
            "At the end of epoch 16, validation loss: 2.9619\n",
            "\n",
            "Epoch: 17/20, Batch:     1/300, Avg Batch Loss: 2.46139, Current Batch Loss: 2.46139, Average Batch Train Time:  0.38s, Time remaining for Epoch: 114.0s\n",
            "Epoch: 17/20, Batch:    76/300, Avg Batch Loss: 2.60071, Current Batch Loss: 2.80341, Average Batch Train Time: 0.365s, Time remaining for Epoch: 82.12s\n",
            "Epoch: 17/20, Batch:   151/300, Avg Batch Loss: 2.58622, Current Batch Loss: 2.59646, Average Batch Train Time: 0.364s, Time remaining for Epoch:  54.6s\n",
            "Epoch: 17/20, Batch:   226/300, Avg Batch Loss: 2.58236, Current Batch Loss: 2.43224, Average Batch Train Time: 0.365s, Time remaining for Epoch: 27.38s\n",
            "Epoch: 17/20, Batch:   300/300, Avg Batch Loss: 2.57433, Current Batch Loss: 2.77741, Average Batch Train Time: 0.364s, Time remaining for Epoch:  0.36s\n",
            "At the end of epoch 17, validation loss: 2.9965\n",
            "\n",
            "Epoch: 18/20, Batch:     1/300, Avg Batch Loss: 2.39201, Current Batch Loss: 2.39201, Average Batch Train Time:  0.37s, Time remaining for Epoch: 111.0s\n",
            "Epoch: 18/20, Batch:    76/300, Avg Batch Loss: 2.58442, Current Batch Loss: 2.55061, Average Batch Train Time: 0.368s, Time remaining for Epoch:  82.8s\n",
            "Epoch: 18/20, Batch:   151/300, Avg Batch Loss: 2.57463, Current Batch Loss: 2.65518, Average Batch Train Time: 0.368s, Time remaining for Epoch:  55.2s\n",
            "Epoch: 18/20, Batch:   226/300, Avg Batch Loss: 2.57165, Current Batch Loss: 2.63903, Average Batch Train Time: 0.368s, Time remaining for Epoch:  27.6s\n",
            "Epoch: 18/20, Batch:   300/300, Avg Batch Loss: 2.57238, Current Batch Loss: 2.84252, Average Batch Train Time: 0.368s, Time remaining for Epoch:  0.37s\n",
            "At the end of epoch 18, validation loss: 3.0298\n",
            "\n",
            "Epoch: 19/20, Batch:     1/300, Avg Batch Loss: 3.08125, Current Batch Loss: 3.08125, Average Batch Train Time:  0.36s, Time remaining for Epoch: 108.0s\n",
            "Epoch: 19/20, Batch:    76/300, Avg Batch Loss: 2.58559, Current Batch Loss: 2.58676, Average Batch Train Time: 0.364s, Time remaining for Epoch:  81.9s\n",
            "Epoch: 19/20, Batch:   151/300, Avg Batch Loss: 2.58345, Current Batch Loss:  2.3684, Average Batch Train Time: 0.366s, Time remaining for Epoch:  54.9s\n",
            "Epoch: 19/20, Batch:   226/300, Avg Batch Loss: 2.57904, Current Batch Loss:   2.698, Average Batch Train Time: 0.366s, Time remaining for Epoch: 27.45s\n",
            "Epoch: 19/20, Batch:   300/300, Avg Batch Loss: 2.57973, Current Batch Loss:  2.3972, Average Batch Train Time: 0.367s, Time remaining for Epoch:  0.37s\n",
            "At the end of epoch 19, validation loss: 2.9925\n",
            "\n",
            "Epoch: 20/20, Batch:     1/300, Avg Batch Loss: 2.71829, Current Batch Loss: 2.71829, Average Batch Train Time:  0.36s, Time remaining for Epoch: 108.0s\n",
            "Epoch: 20/20, Batch:    76/300, Avg Batch Loss: 2.59287, Current Batch Loss:  2.7674, Average Batch Train Time: 0.364s, Time remaining for Epoch:  81.9s\n",
            "Epoch: 20/20, Batch:   151/300, Avg Batch Loss:  2.6077, Current Batch Loss: 2.70896, Average Batch Train Time: 0.368s, Time remaining for Epoch:  55.2s\n",
            "Epoch: 20/20, Batch:   226/300, Avg Batch Loss:  2.6135, Current Batch Loss: 2.46087, Average Batch Train Time: 0.369s, Time remaining for Epoch: 27.68s\n",
            "Epoch: 20/20, Batch:   300/300, Avg Batch Loss: 2.60039, Current Batch Loss: 2.84878, Average Batch Train Time: 0.369s, Time remaining for Epoch:  0.37s\n",
            "At the end of epoch 20, validation loss: 3.0479\n",
            "\n"
          ],
          "name": "stdout"
        }
      ]
    },
    {
      "cell_type": "code",
      "metadata": {
        "id": "vjI5BGKdWgoi",
        "colab_type": "code",
        "colab": {
          "base_uri": "https://localhost:8080/",
          "height": 369
        },
        "outputId": "0ad6397e-31da-4e1e-e5f3-c996524c7856"
      },
      "source": [
        "import pandas as pd\n",
        "log = pd.DataFrame(training_log)\n",
        "log = log.groupby(by = ['Epoch']).mean()\n",
        "log['Valid_loss'] = [float(i) for i in validation_loss_history]\n",
        "\n",
        "fig, ax = plt.subplots(1, 1, figsize = (10,5))\n",
        "log.plot(y = 'Loss', kind = 'line', ax = ax)\n",
        "log.plot(y = 'Valid_loss', kind = 'line', ax = ax)\n",
        "fig.tight_layout();"
      ],
      "execution_count": null,
      "outputs": [
        {
          "output_type": "display_data",
          "data": {
            "image/png": "[encoded data removed]",
            "text/plain": [
              "<Figure size 720x360 with 1 Axes>"
            ]
          },
          "metadata": {
            "tags": []
          }
        }
      ]
    },
    {
      "cell_type": "markdown",
      "metadata": {
        "id": "N5a1UxCZiK01",
        "colab_type": "text"
      },
      "source": [
        "# Evaluating the Model"
      ]
    },
    {
      "cell_type": "code",
      "metadata": {
        "id": "mVb58kfdcqe-",
        "colab_type": "code",
        "colab": {}
      },
      "source": [
        "def get_caption(prediction, index_to_word = None):\n",
        "  '''\n",
        "  Given a prediction in numericalized tokenized format,\n",
        "  cleans the tokens of <other>, <startseq>, <endseq>\n",
        "  and outputs a caption as a contiguous string\n",
        "  '''\n",
        "  caption = [index_to_word[i] for i in prediction]\n",
        "  c = []\n",
        "\n",
        "  # End the caption at endseq\n",
        "  for cap in caption:\n",
        "    if cap == '<endseq>':\n",
        "      break\n",
        "    else:\n",
        "      c.append(cap)\n",
        "  \n",
        "  # Remove startseq\n",
        "  if '<startseq>' in c:\n",
        "    c.remove('<startseq>')\n",
        "  \n",
        "  # Remove the padding word if any\n",
        "  while '<0>' in c:\n",
        "    c.remove('<0>')\n",
        "  while '<other>' in c:\n",
        "    c.remove('<other>')\n",
        "  \n",
        "  return \" \".join(c)"
      ],
      "execution_count": null,
      "outputs": []
    },
    {
      "cell_type": "code",
      "metadata": {
        "id": "KQ9a3p3sXAjL",
        "colab_type": "code",
        "colab": {}
      },
      "source": [
        "def get_prediction():\n",
        "  features = None\n",
        "  original, processed, caption = next(iter(test_generator))\n",
        "  orig_image = original[0].transpose(0,1).transpose(1,2).numpy()\n",
        "  plt.imshow(orig_image)\n",
        "  plt.title('Sample Image')\n",
        "  plt.axis('off')\n",
        "\n",
        "  encoder.eval()\n",
        "  decoder.eval()\n",
        "  image = processed.to(device)\n",
        "  features = encoder(image).unsqueeze(1)\n",
        "  # print(features[0][0][:10])\n",
        "  # print(features.shape)\n",
        "  output = decoder.sample(features) \n",
        "\n",
        "  predicted_sentence = get_caption(output, ix_to_word)\n",
        "  actual_sentence = get_caption(caption[0].numpy(), ix_to_word)\n",
        "\n",
        "  print(f\"\\nPrediction: {predicted_sentence}\\ntokens: {output}\")\n",
        "  print(f\"Actual: {actual_sentence}\")\n",
        "  print()\n",
        "  encoder.train()\n",
        "  decoder.train()"
      ],
      "execution_count": null,
      "outputs": []
    },
    {
      "cell_type": "code",
      "metadata": {
        "id": "hAKTGtu9QAks",
        "colab_type": "code",
        "colab": {
          "base_uri": "https://localhost:8080/",
          "height": 355
        },
        "outputId": "8a60d772-6adc-4180-ac69-c1f928595774"
      },
      "source": [
        "get_prediction()"
      ],
      "execution_count": null,
      "outputs": [
        {
          "output_type": "stream",
          "text": [
            "\n",
            "Prediction: a man in a red shirt and blue jeans is\n",
            "tokens: [1, 4, 76, 6, 4, 108, 156, 30, 157, 158, 9, 2, 0]\n",
            "Actual: a young german shepherd runs with a toy in his\n",
            "\n"
          ],
          "name": "stdout"
        },
        {
          "output_type": "display_data",
          "data": {
            "image/png": "[encoded data removed]",
            "text/plain": [
              "<Figure size 432x288 with 1 Axes>"
            ]
          },
          "metadata": {
            "tags": []
          }
        }
      ]
    },
    {
      "cell_type": "code",
      "metadata": {
        "id": "YoLDVRmlj66h",
        "colab_type": "code",
        "colab": {
          "base_uri": "https://localhost:8080/",
          "height": 126
        },
        "outputId": "cf777fe5-0be6-474c-acbe-34d09cc6cb93"
      },
      "source": [
        "original, processed, caption = next(iter(test_generator))\n",
        "encoder.eval()\n",
        "decoder.eval()\n",
        "i = encoder(processed.to(device))\n",
        "de = decoder(i, caption.to(device))\n",
        "\n",
        "actual = caption[0].numpy()\n",
        "aided_prediction = de.argmax(dim = 2)[0].to('cpu').numpy()\n",
        "\n",
        "print(\"Actual:\")\n",
        "print(\" \".join([ix_to_word[i] for i in actual]))\n",
        "print(\"Aided Prediction\")\n",
        "print(\" \".join([ix_to_word[i] for i in aided_prediction]))\n",
        "\n",
        "print(actual)\n",
        "print(aided_prediction)"
      ],
      "execution_count": null,
      "outputs": [
        {
          "output_type": "stream",
          "text": [
            "Actual:\n",
            "<startseq> two skinny dogs are running towards camera across a grassy <endseq>\n",
            "Aided Prediction\n",
            "<startseq> a dogs dogs are running through the other a grassy <endseq>\n",
            "[  1  47 572  48  32 114 223 342 454   4 115   2]\n",
            "[  1   4  48  48  32 114 119  24  38   4 115   2]\n"
          ],
          "name": "stdout"
        }
      ]
    },
    {
      "cell_type": "code",
      "metadata": {
        "id": "D5WAert_YZf6",
        "colab_type": "code",
        "colab": {}
      },
      "source": [
        "# # cumulative BLEU scores\n",
        "# def get_BLEU(reference, predicted):\n",
        "#   onegram_cumsum = sentence_bleu(reference, predicted, weights=(1, 0, 0, 0))\n",
        "#   twogram_cumsum = sentence_bleu(reference, predicted, weights=(0.5, 0.5, 0, 0))\n",
        "#   threegram_cumsum = sentence_bleu(reference, predicted, weights=(0.33, 0.33, 0.33, 0))\n",
        "#   fourgram_cumsum = sentence_bleu(reference, predicted, weights=(0.25, 0.25, 0.25, 0.25))\n",
        "#   return {'1g_BLEU':onegram_cumsum, '2g_BLEU':twogram_cumsum, '3g_BLEU':threegram_cumsum, '4g_BLEU':fourgram_cumsum}"
      ],
      "execution_count": null,
      "outputs": []
    },
    {
      "cell_type": "code",
      "metadata": {
        "id": "Yk7bG_rRUIfB",
        "colab_type": "code",
        "colab": {}
      },
      "source": [
        "# class DecoderRNN(nn.Module):\n",
        "#     def __init__(self, embed_size, hidden_size, vocab_size, num_layers=1):\n",
        "#         super().__init__()\n",
        "#         self.embed = nn.Embedding(num_embeddings=vocab_size, embedding_dim=embed_size)\n",
        "#         self.lstm = nn.LSTM(input_size=embed_size, hidden_size=hidden_size, num_layers=num_layers, batch_first=True)\n",
        "#         self.linear = nn.Linear(hidden_size, vocab_size)\n",
        "\n",
        "#     def forward(self, features, captions):\n",
        "#         # Remove end-token from all captions\n",
        "#         captions = captions[:, :-1]\n",
        "#         embeddings = self.embed(captions)\n",
        "#         # pass embeddings to LSTM\n",
        "#         hiddens, states = self.lstm(embeddings)\n",
        "#         # merge features and output of LSTM - merged architecture\n",
        "#         merged = torch.cat((features.unsqueeze(1), hiddens), dim=1)\n",
        "#         # pass merged to final feed-forward network\n",
        "#         outputs = self.linear(merged)\n",
        "#         return outputs"
      ],
      "execution_count": null,
      "outputs": []
    }
  ]
}