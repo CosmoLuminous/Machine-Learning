{
 "cells": [
  {
   "cell_type": "code",
   "execution_count": 48,
   "metadata": {
    "scrolled": false
   },
   "outputs": [],
   "source": [
    "'''\n",
    "************************************************\n",
    "** COL774 Machine Learning\n",
    "** Assignment 1: Least Squares Linear Regression\n",
    "** Question 2\n",
    "** @Author: Aman Bhardwaj\n",
    "** @Entry No. 2019SIY7580\n",
    "** @Date: 23 Jan 2020\n",
    "************************************************\n",
    "'''\n",
    "\n",
    "import numpy as np\n",
    "import pandas as pa\n",
    "import math\n",
    "import matplotlib.pyplot as plt\n",
    "import seaborn as sns\n",
    "\n",
    "#Sample Training Dataset DTrain\n",
    "#For given Theta coefficients [t0,t1,t2] = [3,1,2] (as per question) and x = [x0=1,x1,x2]\n",
    "#Also for Gaussian noise epsilon (ep) and given Standard Deviation sqrt(2)\n",
    "def sampleData(n, theta, standDev):\n",
    "    thetaArr = np.array(theta[1:])\n",
    "    thetaMat = thetaArr.reshape(len(thetaArr),1) #Create Matrix of theta x 1\n",
    "    l = len(thetaArr)\n",
    "    \n",
    "    x1 = np.random.normal(3, 2, n)\n",
    "    x2 = np.random.normal(-1, 2, n)\n",
    "    #plt.plot(x1)\n",
    "    #plt.show()\n",
    "    #plt.plot(x2)\n",
    "    #plt.show()\n",
    "    x = np.c_[x1,x2]\n",
    "    ep = np.random.normal(0, standDev, n) #calculate noise values\n",
    "    #sns.distplot(ep) #Plot PDF of ep Noise to show it is Gaussian Noise and follows Nornal Distribution\n",
    "    #plt.xlabel(\"Gaussian Noise Value\")\n",
    "    #plt.ylabel(\"Density\")\n",
    "    #plt.title(\"Gaussian Noise added in Samples Generation\")\n",
    "    #plt.show()\n",
    "    \n",
    "    #xDotTheta = np.dot(x,thetaMat)\n",
    "    \n",
    "    y = theta[0] + theta[1]*x1 + theta[2]*x2 + ep # y = (x*t)Transpose + noise(ep)\n",
    "    return x,y\n",
    "\n",
    "\n",
    "theta = [3,1,2] #for sampling\n",
    "n = 1000000 #sample size\n",
    "x,y = sampleData(n, theta, math.sqrt(2))\n",
    "#for i in range(2):\n",
    "#    xtemp,ytemp = sampleData(n, theta, math.sqrt(2))    \n",
    "#    x = np.append(x,xtemp, axis=0)\n",
    "#    y = np.append(y,ytemp, axis=1)    \n",
    "#    print(x.shape, y.shape)\n",
    "x = np.c_[np.ones(n),x]\n",
    "y = y.T\n",
    "#X = pa.DataFrame(x)\n",
    "#Y = pa.DataFrame(y.T)\n",
    "#plt.plot(Y)\n",
    "#plt.show()\n",
    "#x = pa.read_csv('q2test.csv')\n",
    "#Y = x[['Y']]\n",
    "#x = x[['X_1','X_2']]\n",
    "#x = np.c_[np.ones(n),x]\n",
    "#X = pa.DataFrame(x)"
   ]
  },
  {
   "cell_type": "code",
   "execution_count": 54,
   "metadata": {
    "scrolled": false
   },
   "outputs": [
    {
     "name": "stdout",
     "output_type": "stream",
     "text": [
      "----------Results---------\n",
      "Number of epoch: 5.0\n",
      "Learning Rate: 0.001\n",
      "Final Parameters i.e. Theta values\n",
      "Stopping Criteria: Difference in J(i) - J(i-1)<= Epsilon(ep). ep = ) 1.1e-19\n",
      "----------------------------------\n"
     ]
    },
    {
     "data": {
      "image/png": "[encoded data removed]",
      "text/plain": [
       "<Figure size 432x288 with 1 Axes>"
      ]
     },
     "metadata": {
      "needs_background": "light"
     },
     "output_type": "display_data"
    }
   ],
   "source": [
    "def errorFunction(xb, yb, t, bs):\n",
    "    error = yb - (xb @ t)\n",
    "    sumOfLeastSquares = np.sum(error**2)\n",
    "    errorFun = sumOfLeastSquares/(2)\n",
    "    return errorFun\n",
    "\n",
    "\n",
    "def batchGradientDescent(ep, maxIterations, bs, lr):\n",
    "    jThetaList = []\n",
    "    jPrev = 0.0\n",
    "    thetaList = []\n",
    "    count = 0\n",
    "    converge = False\n",
    "    currentBatch = 0\n",
    "    t = np.zeros((3,1))#as per instructions taking Theta0 = vector of 0s\n",
    "    \n",
    "    while not converge and count != maxIterations:\n",
    "        start = currentBatch*bs\n",
    "        end = (currentBatch+1)*bs\n",
    "        xb = x[start:end]\n",
    "        yb = y[start:end]\n",
    "        #print(xb)\n",
    "        gradient = xb.T@(yb - (xb @ t))\n",
    "        \n",
    "        t = t + lr*(gradient)\n",
    "        thetaList.append(t)\n",
    "        count += 1\n",
    "        currentBatch += 1\n",
    "        currentBatch = currentBatch%totalBatches\n",
    "                \n",
    "        jTheta = errorFunction(xb, yb, t, bs)\n",
    "        jThetaList.append(jTheta)\n",
    "        jDiff = abs(jPrev - jTheta) < ep\n",
    "\n",
    "        if jDiff:\n",
    "            converge = True\n",
    "        jPrev = jTheta\n",
    "    return jThetaList, thetaList, count\n",
    "\n",
    "def reportResults(i, t, lr, ep):\n",
    "    print(\"----------Results---------\")\n",
    "    print(\"Number of epoch:\", i/totalBatches)    \n",
    "    print(\"Learning Rate:\", lr)\n",
    "    print(\"Final Parameters i.e. Theta values\")\n",
    "    #print(\"Theta[0]\",t[0])\n",
    "    #print(\"Theta[1]\",t[1])\n",
    "    #print(\"Theta[2]\",t[2])\n",
    "    print(\"Stopping Criteria: Difference in J(i) - J(i-1)<= Epsilon(ep). ep = )\",ep)\n",
    "    print(\"----------------------------------\")\n",
    "    return\n",
    "\n",
    "def plotGradDescent(jTheta):    \n",
    "    plt.plot(jTheta[50:])\n",
    "    plt.xlabel(\"No. of Iterations\")\n",
    "    plt.ylabel(\"jTheta\")\n",
    "    plt.title(\"J(theta) Convergence\")\n",
    "    plt.show()\n",
    "\n",
    "bSize = 100 #Batch Size\n",
    "LR = 0.001 #Learning Rate\n",
    "epsilon = 1.1e-19\n",
    "totalBatches = round(n/bSize)\n",
    "jThetaList, thetaList, itr = batchGradientDescent(epsilon, 50000, bSize, LR)\n",
    "reportResults(itr, thetaList[-1], LR, epsilon)\n",
    "plotGradDescent(jThetaList)\n",
    "\n",
    "\n",
    "#print(\"ITR\", itr, \"JT\", jThetaList[-1], \"Theta\", thetaList[-1])\n",
    "#print(X)\n",
    "#plt.plot(X)\n",
    "#plt.plot(y,\"o\")\n",
    "#plt.show()\n",
    "#print(x)\n",
    "#plt.show()\n",
    "#plt.plot(x,\"o\")\n",
    "#plt.show()"
   ]
  },
  {
   "cell_type": "code",
   "execution_count": 51,
   "metadata": {
    "scrolled": false
   },
   "outputs": [
    {
     "name": "stdout",
     "output_type": "stream",
     "text": [
      "----------Results---------\n",
      "Number of epoch: 0.012835\n",
      "Learning Rate: 0.001\n",
      "Final Parameters i.e. Theta values\n",
      "Stopping Criteria: Difference in J(i) - J(i-1)<= Epsilon(ep). ep = ) 1.1e-06\n",
      "----------------------------------\n"
     ]
    },
    {
     "data": {
      "image/png": "[encoded data removed]",
      "text/plain": [
       "<Figure size 432x288 with 1 Axes>"
      ]
     },
     "metadata": {
      "needs_background": "light"
     },
     "output_type": "display_data"
    }
   ],
   "source": [
    "\n",
    "bSize = 1 #Batch Size\n",
    "LR = 0.001 #Learning Rate\n",
    "epsilon = 1.1e-6\n",
    "totalBatches = round(n/bSize)\n",
    "jThetaList, thetaList, itr = batchGradientDescent(epsilon, 100000000, bSize, LR)\n",
    "reportResults(itr, thetaList[-1], LR, epsilon)\n",
    "plotGradDescent(jThetaList)"
   ]
  },
  {
   "cell_type": "code",
   "execution_count": null,
   "metadata": {
    "scrolled": false
   },
   "outputs": [],
   "source": [
    "bSize = 10000 #Batch Size\n",
    "LR = 0.001 #Learning Rate\n",
    "epsilon = 2.1e-7\n",
    "totalBatches = round(n/bSize)\n",
    "jThetaList, thetaList, itr = batchGradientDescent(epsilon, 10000, bSize, LR)\n",
    "reportResults(itr, thetaList[-1], LR, epsilon)\n",
    "plotGradDescent(jThetaList)"
   ]
  },
  {
   "cell_type": "code",
   "execution_count": null,
   "metadata": {},
   "outputs": [],
   "source": [
    "\n",
    "bSize = 1000000 #Batch Size\n",
    "LR = 0.001 #Learning Rate\n",
    "epsilon = 1.1e-6\n",
    "totalBatches = round(n/bSize)\n",
    "jThetaList, thetaList, itr = batchGradientDescent(epsilon, 4000, bSize, LR)\n",
    "reportResults(itr, thetaList[-1], LR, epsilon)\n",
    "plotGradDescent(jThetaList)"
   ]
  },
  {
   "cell_type": "code",
   "execution_count": null,
   "metadata": {
    "scrolled": false
   },
   "outputs": [],
   "source": [
    "xData = pa.read_csv('q2test.csv')\n",
    "\n",
    "print(xData)\n",
    "plt.plot(xData['X_1'])\n",
    "plt.title(\"xData['X_1']\")\n",
    "plt.show()\n",
    "plt.plot(xData['X_2'])\n",
    "plt.title(\"xData['X_2']\")\n",
    "plt.show()\n",
    "plt.plot(xData['Y'])\n",
    "plt.title(\"xData['Y']\")\n",
    "plt.show()\n",
    "\n",
    "plt.plot(X[1])\n",
    "plt.title(\"X1\")\n",
    "plt.show()\n",
    "plt.plot(X[2])\n",
    "plt.title(\"X2\")\n",
    "plt.show()\n",
    "plt.plot(Y)\n",
    "plt.title(\"Y\")\n",
    "plt.show()\n",
    "\n",
    "sns.distplot(xData['X_1'])\n",
    "sns.distplot(x[1])"
   ]
  },
  {
   "cell_type": "code",
   "execution_count": 46,
   "metadata": {},
   "outputs": [],
   "source": [
    "def errorFunction(xb, yb, t, bs):\n",
    "    error = yb - (xb @ t)\n",
    "    sumOfLeastSquares = np.sum(error**2)\n",
    "    errorFun = sumOfLeastSquares/(2*bs)\n",
    "    return errorFun\n",
    "\n",
    "\n",
    "def batchGradientDescent(ep, maxIterations, bs, lr):\n",
    "    jThetaList = []\n",
    "    jPrev = 0.0\n",
    "    thetaList = []\n",
    "    count = 0\n",
    "    converge = False\n",
    "    currentBatch = 0\n",
    "    t = np.zeros((3,1))#as per instructions taking Theta0 = vector of 0s\n",
    "    xb = X[0:100]\n",
    "    yb = Y[0:100]\n",
    "    while (count <= maxIterations):\n",
    "        xb = X[0:100]\n",
    "        yb = Y[0:100]\n",
    "        #start = currentBatch*bs\n",
    "        #end = (currentBatch+1)*bs\n",
    "        #xb = X[start:end]\n",
    "        #yb = Y[start:end]\n",
    "        #print(xb)\n",
    "        #gradient = xb.T@(yb - (xb @ t))\n",
    "        \n",
    "        #t = t + lr*(gradient/(bs))\n",
    "        #thetaList.append(t)\n",
    "        count += 1\n",
    "        \n",
    "        #currentBatch += 1\n",
    "        #currentBatch = currentBatch%totalBatches\n",
    "        \n",
    "        #if(count%50 == 0):\n",
    "        #jTheta = errorFunction(xb, yb, t, bs)\n",
    "        #jThetaList.append(jTheta)\n",
    "        #jDiff = abs(jPrev - jTheta) < ep\n",
    "\n",
    "        #if jDiff[0]:\n",
    "        #    converge = True\n",
    "        #jPrev = jTheta\n",
    "        #print(jTheta)\n",
    "    return  count\n"
   ]
  },
  {
   "cell_type": "code",
   "execution_count": 47,
   "metadata": {},
   "outputs": [],
   "source": [
    "#print(xb @ t)\n",
    "#print(np.dot(xb, t))\n",
    "bSize = 1 #Batch Size\n",
    "LR = 0.001 #Learning Rate\n",
    "epsilon = 2.1e-7\n",
    "totalBatches = round(n/bSize)\n",
    "itr = batchGradientDescent(epsilon, 10000, bSize, LR)\n",
    "#reportResults(itr, thetaList[-1], LR, epsilon)"
   ]
  },
  {
   "cell_type": "code",
   "execution_count": 57,
   "metadata": {},
   "outputs": [
    {
     "name": "stdout",
     "output_type": "stream",
     "text": [
      "604487.850045635 21829.95985168519\n"
     ]
    }
   ],
   "source": [
    "print(np.max(jThetaList), np.min(jThetaList))\n"
   ]
  },
  {
   "cell_type": "code",
   "execution_count": null,
   "metadata": {},
   "outputs": [],
   "source": []
  }
 ],
 "metadata": {
  "kernelspec": {
   "display_name": "Python 3",
   "language": "python",
   "name": "python3"
  },
  "language_info": {
   "codemirror_mode": {
    "name": "ipython",
    "version": 3
   },
   "file_extension": ".py",
   "mimetype": "text/x-python",
   "name": "python",
   "nbconvert_exporter": "python",
   "pygments_lexer": "ipython3",
   "version": "3.7.4"
  }
 },
 "nbformat": 4,
 "nbformat_minor": 2
}
