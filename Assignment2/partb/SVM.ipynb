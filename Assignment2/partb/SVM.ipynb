{
 "cells": [
  {
   "cell_type": "code",
   "execution_count": 1,
   "metadata": {},
   "outputs": [],
   "source": [
    "'''\n",
    "************************************************\n",
    "** COL774 Machine Learning\n",
    "** Assignment 2\n",
    "** Part B: Support Vector Machines | Fashion MNIST Classification\n",
    "** @Author: Aman Bhardwaj\n",
    "** @Entry No. 2019SIY7580\n",
    "** @Date: 29 Feb 2020\n",
    "************************************************\n",
    "'''\n",
    "\n",
    "import pandas as pd\n",
    "import numpy as np\n",
    "#import cvxopt\n",
    "import matplotlib.pyplot as plt\n",
    "from cvxopt import matrix as cvxopt_matrix\n",
    "from cvxopt import solvers as cvxopt_solvers\n",
    "from collections import Counter\n",
    "from sklearn.svm import SVC\n",
    "import time\n",
    "from scipy.spatial.distance import cdist, pdist, squareform\n",
    "from scipy import stats\n",
    "import seaborn as sns\n",
    "from sklearn.metrics import confusion_matrix\n",
    "from sklearn.model_selection import KFold"
   ]
  },
  {
   "cell_type": "code",
   "execution_count": 2,
   "metadata": {},
   "outputs": [],
   "source": [
    "votesTest = {}\n",
    "votesVal = {}\n",
    "votesTest_sk = {}\n",
    "votesVal_sk = {}\n",
    "votesTest_KF = {}\n",
    "votesVal_KF = {}\n",
    "oVoLearnTime = []\n",
    "KFold_Train = {}\n",
    "KFold_Test = {}\n",
    "AccuraciesKF = {}\n",
    "testAccuracies_KF = {}"
   ]
  },
  {
   "cell_type": "code",
   "execution_count": 4,
   "metadata": {},
   "outputs": [],
   "source": [
    "def processData(df):\n",
    "    colList = []\n",
    "    for i in range(784):\n",
    "        colList.append(\"Pxl\"+str(i))\n",
    "    colList.append(\"label\")\n",
    "    \n",
    "    df.columns = colList\n",
    "    for (c_name, c_data) in df.iteritems():\n",
    "        if(c_name != \"label\"):\n",
    "            df[c_name] = (c_data/255)\n",
    "    return df\n",
    "\n",
    "FMnistTrain = pd.read_csv(\"train.csv\")\n",
    "\n",
    "FMnistTrain = processData(FMnistTrain)\n",
    "\n",
    "entryNo = 7\n",
    "\n",
    "FTrain0 = FMnistTrain[FMnistTrain[\"label\"] == entryNo]\n",
    "FTrain1 = FMnistTrain[FMnistTrain[\"label\"] == entryNo + 1]\n",
    "\n",
    "FTrain0.label = -1\n",
    "FTrain1.label = 1\n",
    "binaryDTrain = pd.concat([FTrain0, FTrain1])\n",
    "\n",
    "FMnistVal = pd.read_csv(\"val.csv\")\n",
    "FMnistVal = processData(FMnistVal)\n",
    "\n",
    "    \n",
    "FVal0 = FMnistVal[FMnistVal[\"label\"] == entryNo]\n",
    "FVal1 = FMnistVal[FMnistVal[\"label\"] == entryNo + 1]\n",
    "\n",
    "\n",
    "FVal0.label = -1\n",
    "FVal1.label = 1\n",
    "binaryDVal = pd.concat([FVal0, FVal1])\n",
    "\n",
    "FMnistTest = pd.read_csv(\"test.csv\")\n",
    "FMnistTest = processData(FMnistTest)\n",
    "    \n",
    "FTest0 = FMnistTest[FMnistTest[\"label\"] == entryNo]\n",
    "FTest1 = FMnistTest[FMnistTest[\"label\"] == entryNo + 1]\n",
    "\n",
    "FTest0.label = -1\n",
    "FTest1.label = 1\n",
    "binaryDTest = pd.concat([FTest0, FTest1])"
   ]
  },
  {
   "cell_type": "code",
   "execution_count": 4,
   "metadata": {},
   "outputs": [],
   "source": [
    "def linearKernel(W):\n",
    "    return np.dot(W, W.T)\n",
    "\n",
    "def gaussianKernel(x, g):\n",
    "    #print(\"\\nCalculating gaussian kernel matrix...\")\n",
    "    cDists = cdist(x, x,'sqeuclidean')\n",
    "    KMat = np.exp(-g * cDists)\n",
    "    #print(\"Calculation Complete.\")\n",
    "    #print(\"KMAT SIZE\", KMat.shape)\n",
    "    return KMat\n",
    "\n",
    "def fitBinaryClassifierSVM(ftMat, labels, kernelType):\n",
    "    rows, cols = ftMat.shape\n",
    "    C = 1.0\n",
    "    t0 = time.time()\n",
    "    if kernelType == \"linear\":\n",
    "        W = ftMat * labels\n",
    "        #print(ftMat.shape, labels.shape, W.shape)\n",
    "        H = linearKernel(W)\n",
    "    elif kernelType == \"gaussian\":\n",
    "        K = gaussianKernel(ftMat, 0.05)\n",
    "        labelsMat = np.outer(labels, labels)\n",
    "        H = K * labelsMat\n",
    "    else:\n",
    "        print(\"Error: Specify correct Kernel Type\")\n",
    "        return\n",
    "    ident = np.eye(rows)\n",
    "    vStack = np.vstack((ident*(-1),ident))\n",
    "    G = cvxopt_matrix(vStack)\n",
    "    P = cvxopt_matrix(H)\n",
    "    onesArr = np.ones((rows, 1))\n",
    "    q = cvxopt_matrix(-onesArr)\n",
    "    zerosArr = np.zeros(rows)\n",
    "\n",
    "    h = cvxopt_matrix(np.hstack((np.zeros(rows), np.ones(rows) * C)))\n",
    "\n",
    "    A = cvxopt_matrix(labels.reshape(1, -1))\n",
    "    b = cvxopt_matrix(np.zeros(1))\n",
    "    cvxopt_solvers.options['show_progress'] = False\n",
    "    sol = cvxopt_solvers.qp(P, q, G, h, A, b)\n",
    "    t1 = time.time()\n",
    "    oVoLearnTime.append(round(t1-t0, 3))\n",
    "    print(\"{} kernel learning time = {}s\".format(kernelType, round(t1-t0, 3)))\n",
    "    #print(sol)\n",
    "    return sol, H\n",
    "\n",
    "def calcParameters(ftMat, labels, sol, th):\n",
    "    solX = sol['x']\n",
    "    alphaValues = np.array(solX)\n",
    "    \n",
    "    boolArr = (alphaValues > th).flatten()\n",
    "    w = ((labels[boolArr] * alphaValues[boolArr]).T @ ftMat[boolArr]).reshape(-1,1)\n",
    "    #b = labels[boolArr] - np.dot(ftMat[boolArr], w)\n",
    "    #b = np.mean(b)\n",
    "    #print(b)\n",
    "    print(\"\\nTotal Number of support vectors=\", Counter(boolArr)[True])   \n",
    "    posClass = (labels > 0).flatten()\n",
    "    negClass = (labels < 0).flatten()\n",
    "    \n",
    "    dispPos = np.logical_and(boolArr, posClass)\n",
    "    dispNeg = np.logical_and(boolArr, negClass)\n",
    "    print(\"\\nNumber of support vectors for Class 1 =\",Counter(dispPos)[True],\n",
    "          \"\\nNumber of support vectors for Class -1 =\",Counter(dispNeg)[True])\n",
    "    \n",
    "    b = -0.5*(max(np.dot(ftMat[dispNeg], w)) +  min(np.dot(ftMat[dispPos], w)))\n",
    "    return alphaValues, w, b\n",
    "\n",
    "def getAccuracy(data, lbl, w, b):\n",
    "    predict = np.dot(data, w) + b\n",
    "    prediction = []\n",
    "    for i in range(len(predict)):\n",
    "        if predict[i] >= 0:\n",
    "            if lbl[i] == 1:\n",
    "                prediction.append(\"R\")\n",
    "            else:\n",
    "                prediction.append(\"W\")\n",
    "        else:\n",
    "            if lbl[i] == -1:\n",
    "                prediction.append(\"R\")\n",
    "            else:\n",
    "                prediction.append(\"W\")    \n",
    "    counter = Counter(prediction)\n",
    "    accuracy = (counter[\"R\"]/len(prediction))*100\n",
    "    return accuracy\n",
    "\n",
    "def predictGaussianSVM(x, labels, x_dash, y_dash, sol, th, YK):\n",
    "    solX = sol['x']\n",
    "    alphaValues = np.array(solX)\n",
    "    \n",
    "    boolArr = (alphaValues > th).flatten()\n",
    "    posClass = (labels > 0).flatten()\n",
    "    negClass = (labels < 0).flatten()\n",
    "    #print(Counter(boolArr))\n",
    "    dispPos = np.logical_and(boolArr, posClass)\n",
    "    dispNeg = np.logical_and(boolArr, negClass)\n",
    "    print(\"\\nNumber of support vectors for Class -1 =\",Counter(dispNeg)[True],\n",
    "          \"\\nNumber of support vectors for Class 1 =\",Counter(dispPos)[True])\n",
    "    \n",
    "    b = -0.5*(max((alphaValues[dispNeg].T @ YK[dispNeg])[0]) +  min((alphaValues[dispPos].T @ YK[dispPos])[0]))\n",
    "    #print(\"b =\", b)\n",
    "    \n",
    "    KMat = np.exp(-0.05 * cdist(x, x_dash,'sqeuclidean'))\n",
    "    \n",
    "    hypo = np.dot((labels * alphaValues).T, KMat) + b\n",
    "    hypo = hypo[0]\n",
    "    #print(hypo)\n",
    "    \n",
    "    predict = []\n",
    "    prediction = []\n",
    "    for i in range(len(hypo)):\n",
    "        if hypo[i] > 0:\n",
    "            predict.append(1)\n",
    "        else:\n",
    "            predict.append(-1)\n",
    "            \n",
    "    for i in range(len(predict)):\n",
    "        if predict[i] == y_dash[i]:\n",
    "            prediction.append(True)\n",
    "        else:\n",
    "            prediction.append(False)\n",
    "    \n",
    "    accuracy = (Counter(prediction)[True]/len(prediction))*100\n",
    "    #print(accuracy)\n",
    "        \n",
    "    return accuracy, b\n",
    "\n",
    "    \n",
    "def sklearnLinearKernel(ftMat, lbl):\n",
    "    t0 = time.time()\n",
    "    model = SVC(C = 1.0, kernel = \"linear\")\n",
    "    model.fit(ftMat, lbl.ravel())\n",
    "    t1 = time.time()\n",
    "    print(\"SK Learn linear kernel learning time = {}s\".format(round(t1-t0, 3)))\n",
    "    print('Number of support vectors for each class = ', model.n_support_)\n",
    "    return model, model.coef_ , model.intercept_\n",
    "\n",
    "def skPredict(model, data, lbl):\n",
    "    \n",
    "    predict = model.predict(data)\n",
    "    \n",
    "    prediction = []\n",
    "    for i in range(len(predict)):\n",
    "        if predict[i] == lbl[i]:\n",
    "            prediction.append(\"R\")\n",
    "        else:\n",
    "            prediction.append(\"W\")\n",
    "            \n",
    "    counter = Counter(prediction)\n",
    "    accuracy = (counter[\"R\"]/len(prediction))*100\n",
    "    return accuracy\n",
    "\n",
    "def sklearnGaussianKernel(ftMat, lbl):\n",
    "    t0 = time.time()\n",
    "    model = SVC(C = 1.0, kernel = \"rbf\", gamma=0.05)\n",
    "    model.fit(ftMat, lbl.ravel())\n",
    "    t1 = time.time()\n",
    "    oVoLearnTime.append(round(t1-t0, 3))\n",
    "    print(\"SK Learn gaussian kernel learning time = {}s\".format(round(t1-t0, 3)))\n",
    "    print('Number of support vectors for each class = ', model.n_support_)\n",
    "    return model\n",
    "\n",
    "\n",
    "'''@@@@@@@@@@@@@@@@@@@@@@@@@@@@@@-----ONE VS ONE-----@@@@@@@@@@@@@@@@@@@@@@@@@@@@@@'''\n",
    "\n",
    "def initVotesDict():\n",
    "    for i in range(len(FMnistTest)):\n",
    "        votesTest[i] = []\n",
    "        \n",
    "    for j in range(len(FMnistVal)):\n",
    "        votesVal[j] = []\n",
    "        \n",
    "    return\n",
    "\n",
    "def initVotesDict_sk():\n",
    "    for i in range(len(FMnistTest)):\n",
    "        votesTest_sk[i] = []\n",
    "        \n",
    "    for j in range(len(FMnistVal)):\n",
    "        votesVal_sk[j] = []\n",
    "    return\n",
    "\n",
    "def calcGroups(n):\n",
    "    groups = {}\n",
    "    count = 0\n",
    "    for i in range(n-1):\n",
    "        for j in range(i+1, n):\n",
    "            groups[count] = [i, j]\n",
    "            count += 1\n",
    "       \n",
    "    return groups\n",
    "\n",
    "def predicOVO(x, labels, x_dash, y_dash, sol, th, YK, grp):\n",
    "    solX = sol['x']\n",
    "    alphaValues = np.array(solX)\n",
    "    \n",
    "    boolArr = (alphaValues > th).flatten()\n",
    "    posClass = (labels > 0).flatten()\n",
    "    negClass = (labels < 0).flatten()\n",
    "    dispPos = np.logical_and(boolArr, posClass)\n",
    "    dispNeg = np.logical_and(boolArr, negClass)\n",
    "    print(dispPos)\n",
    "    print(dispNeg)\n",
    "    b = -0.5*(max((alphaValues[dispNeg].T @ YK[dispNeg])[0]) +  min((alphaValues[dispPos].T @ YK[dispPos])[0]))\n",
    "    print(b)\n",
    "    KMat = np.exp(-0.05 * cdist(x, x_dash,'sqeuclidean'))\n",
    "    \n",
    "    hypo = np.dot((labels * alphaValues).T, KMat) + b\n",
    "    predict = hypo[0]\n",
    "    \n",
    "    prediction = []\n",
    "    for i in range(len(predict)):\n",
    "        if predict[i] >= 0:\n",
    "            prediction.append(grp[1])\n",
    "        else:  \n",
    "            prediction.append(grp[0])\n",
    "    print(prediction)        \n",
    "    return prediction\n",
    "\n",
    "def predicOVO_SK(model, data, lbl, grp):\n",
    "    predict = model.predict(data)\n",
    "    \n",
    "    prediction = []\n",
    "    for i in range(len(predict)):\n",
    "        if predict[i] == 1:\n",
    "            prediction.append(grp[1])\n",
    "        else:\n",
    "            prediction.append(grp[0])\n",
    "            \n",
    "    return prediction\n",
    "\n",
    "def updateVotes(dfFiltered, predList, dset):\n",
    "    idx = 0\n",
    "    #print(dfFiltered.shape, len(predList))\n",
    "    if dset == \"test\":\n",
    "        for i, row in dfFiltered.iterrows():\n",
    "            votesTest[i].append(predList[idx])\n",
    "            idx += 1\n",
    "    elif dset == \"val\":\n",
    "        for i, row in dfFiltered.iterrows():\n",
    "            votesVal[i].append(predList[idx])\n",
    "            idx += 1\n",
    "    elif dset == \"test_sk\":\n",
    "        for i, row in dfFiltered.iterrows():\n",
    "            votesTest_sk[i].append(predList[idx])\n",
    "            idx += 1\n",
    "    elif dset == \"val_sk\":\n",
    "        for i, row in dfFiltered.iterrows():\n",
    "            votesVal_sk[i].append(predList[idx])\n",
    "            idx += 1\n",
    "    else:\n",
    "        print(\"updates either test or val set only\")\n",
    "        \n",
    "    return    \n",
    "\n",
    "def predictAndUpdate(x, labels, sol, th, YK, grp):\n",
    "    negClass = grp[0]\n",
    "    posClass = grp[1]\n",
    "    \n",
    "    DVal_np = FMnistVal.to_numpy()\n",
    "    Y_Val = DVal_np[:, -1].reshape(len(DVal_np), 1)\n",
    "    X_Val = DVal_np[:, 0:-1]\n",
    "    \n",
    "    DTest_np = FMnistTest.to_numpy()\n",
    "    Y_Test = DTest_np[:, -1].reshape(len(DTest_np), 1)\n",
    "    X_Test = DTest_np[:, 0:-1]\n",
    "    \n",
    "    predictVal = predicOVO(x, labels, X_Val, Y_Val, sol, th, YK, grp)\n",
    "    predictTest = predicOVO(x, labels, X_Test, Y_Test, sol, th, YK, grp)\n",
    "    \n",
    "    updateVotes(FMnistVal, predictVal, \"val\")\n",
    "    updateVotes(FMnistTest, predictTest, \"test\")\n",
    "\n",
    "    return\n",
    "\n",
    "def predictAndUpdateSK(model, grp):\n",
    "    negClass = grp[0]\n",
    "    posClass = grp[1]\n",
    "    \n",
    "    DVal_np = FMnistVal.to_numpy()\n",
    "    Y_Val = DVal_np[:, -1].reshape(len(DVal_np), 1)\n",
    "    X_Val = DVal_np[:, 0:-1]\n",
    "    \n",
    "    DTest_np = FMnistTest.to_numpy()\n",
    "    Y_Test = DTest_np[:, -1].reshape(len(DTest_np), 1)\n",
    "    X_Test = DTest_np[:, 0:-1]\n",
    "    \n",
    "    predictVal = predicOVO_SK(model, X_Val, Y_Val, grp)\n",
    "    predictTest = predicOVO_SK(model, X_Test, Y_Test, grp)\n",
    "    \n",
    "    updateVotes(FMnistVal, predictVal, \"val_sk\")\n",
    "    updateVotes(FMnistTest, predictTest, \"test_sk\")\n",
    "    \n",
    "    return\n",
    "\n",
    "                \n",
    "def oneVsOne(grp, version):\n",
    "    negClass = grp[0]\n",
    "    posClass = grp[1]\n",
    "    \n",
    "    FTrainNeg = FMnistTrain[FMnistTrain[\"label\"] == negClass]\n",
    "    FTrainPos = FMnistTrain[FMnistTrain[\"label\"] == posClass]\n",
    "    \n",
    "    FTrainNeg.label = -1\n",
    "    FTrainPos.label = 1\n",
    "    \n",
    "    DTrain_ovo = pd.concat([FTrainNeg, FTrainPos])\n",
    "    #DTrain\n",
    "    Y = DTrain_ovo.to_numpy()[:, -1].reshape(len(DTrain_ovo), 1)\n",
    "    X = DTrain_ovo.to_numpy()[:, 0: -1]\n",
    "    print(Y[:100])\n",
    "    if version == \"cvxopt\":\n",
    "        solution, H = fitBinaryClassifierSVM(X, Y, \"gaussian\")\n",
    "        predictAndUpdate(X, Y, solution, 0.01, H, grp)\n",
    "    elif version == \"sklearn\":\n",
    "        model = sklearnGaussianKernel(X, Y)\n",
    "        predictAndUpdateSK(model, grp)\n",
    "    return\n",
    "        \n",
    "def runOneVsOneClassifier(n, version):\n",
    "    oVoLearnTime.clear()\n",
    "    t0 = time.time()\n",
    "    grps = calcGroups(n)\n",
    "    #print(grps)\n",
    "    for key in grps:\n",
    "        print(\"grp =\", grps[key])\n",
    "        oneVsOne(grps[key], version)\n",
    "    t1 = time.time()\n",
    "    \n",
    "    t = 0.0\n",
    "    for i in range(len(oVoLearnTime)):\n",
    "        t += oVoLearnTime[i]\n",
    "        \n",
    "    print(\"\\nTraining Time One Vs One for {} Classes is {} Sec\".format(n, t))\n",
    "    print(\"Total Time One Vs One Training and Prediction for {} Classes is {} Sec\".format(n, round(t1-t0, 3)))\n",
    "    return\n",
    "\n",
    "def findMode(arr):\n",
    "    arr.sort(reverse = True)\n",
    "    return stats.mode(arr).mode[0]\n",
    "\n",
    "\n",
    "def calcVotingResults(dataDict):\n",
    "    votingResultsVal = []\n",
    "    for i in dataDict:\n",
    "        votingResultsVal.append(findMode(dataDict[i]))\n",
    "    return votingResultsVal\n",
    "\n",
    "def votingResultsVsLabels(vResults, labels):\n",
    "    finalResults = []\n",
    "    for i in range(len(labels)):\n",
    "        if vResults[i] == labels[i]:\n",
    "            finalResults.append(True)\n",
    "        else: \n",
    "            finalResults.append(False)\n",
    "    countResults = Counter(finalResults)\n",
    "    accuracy = (countResults[True]/len(labels))*100\n",
    "    return accuracy\n",
    "\n",
    "def drawConfusionMatrix(lbl, predictLbl, optmType, dSet):\n",
    "    lbl_List = [0,1,2,3,4,5,6,7,8,9]\n",
    "    cm = confusion_matrix(lbl, predictLbl, labels = lbl_List)\n",
    "    cm_df = pd.DataFrame(cm, index = [i for i in \"0123456789\"], columns = [i for i in \"0123456789\"])\n",
    "    #print(cm_df)\n",
    "    plt.figure(figsize = (12,8))\n",
    "    akws = {'ha':'center', 'va':'center'}\n",
    "    sns.heatmap(cm_df, annot=True, fmt=\"d\", center=1, cmap=\"RdBu_r\", annot_kws = akws)\n",
    "    plt.yticks(rotation=0, fontsize=\"12\", va=\"center\")\n",
    "    plt.xticks(rotation=0, fontsize=\"12\", va=\"center\")\n",
    "    plt.title(\"{} Confusion Matrix Multiclass Classification {}\".format(optmType, dSet))\n",
    "    plt.show()\n",
    "\n",
    "def plotConfusionMatrix(VotingPredictionsTest, VotingPredictionsVal, VotingPredictionsTest_sk, VotingPredictionsVal_sk):\n",
    "    lbl_val = FMnistVal[\"label\"].to_numpy()\n",
    "    lbl_test = FMnistTest[\"label\"].to_numpy()\n",
    "    \n",
    "    drawConfusionMatrix(lbl_val, VotingPredictionsVal, \"Validation\", \"CVXOPT\")\n",
    "    drawConfusionMatrix(lbl_test, VotingPredictionsTest, \"Test\", \"CVXOPT\")\n",
    "    \n",
    "    drawConfusionMatrix(lbl_val, VotingPredictionsVal_sk, \"Validation\", \"Sklearn\")\n",
    "    drawConfusionMatrix(lbl_test, VotingPredictionsTest_sk, \"Test\", \"Sklearn\")\n",
    "    \n",
    "    return\n",
    "\n",
    "\n",
    "'''@@@@@@@@@@@@@@@@@@@@@@@@@@*********KFOLD VALIDATION************@@@@@@@@@@@@@@@@@@@@@@@@@@@@@@@@@@'''\n",
    "\n",
    "def splitKFolds(k):\n",
    "    KFold_Train.clear()\n",
    "    KFold_Test.clear()\n",
    "    KF = KFold(n_splits = k, shuffle = True)\n",
    "    re = KF.split(X_KF)\n",
    "    ct = 0\n",
    "    for i in re:\n",
    "        KFold_Train[ct] = i[0]\n",
    "        KFold_Test[ct] = i[1]\n",
    "        ct +=1\n",
    "    return\n",
    "\n",
    "\n",
    "\n",
    "def calcAccuracy_KF(predict, labels):\n",
    "    prediction = []\n",
    "    for i in range(len(labels)):\n",
    "        if predict[i] == labels[i]:\n",
    "            prediction.append(True)\n",
    "        else:\n",
    "            prediction.append(False)\n",
    "    ctr = Counter(prediction)\n",
    "    acc = (ctr[True]/len(labels))*100\n",
    "    return acc\n",
    "\n",
    "def runMultiClass_KF(k, n, c):\n",
    "    accuracies = []\n",
    "    DTrainKF = FMnistTrain.to_numpy()\n",
    "    Y_KF = DTrainKF[:, -1].reshape(len(DTrainKF), 1)\n",
    "    X_KF = DTrainKF[:, 0:-1]\n",
    "    \n",
    "    for i in range(k):\n",
    "        print(\"KFold =\", i)\n",
    "        trainData = X_KF[KFold_Train[i]]\n",
    "        trainLabels = Y_KF[KFold_Train[i]]\n",
    "        \n",
    "        testData = X_KF[KFold_Train[i]]\n",
    "        testLabels = Y_KF[KFold_Train[i]]\n",
    "        \n",
    "        model = SVC(C = c, kernel = \"rbf\", gamma=0.05, decision_function_shape = \"ovo\")\n",
    "        model.fit(trainData, trainLabels.ravel())\n",
    "        \n",
    "        predict = model.predict(testData)\n",
    "        accu = calcAccuracy_KF(predict, testLabels)\n",
    "        accuracies.append(accu)\n",
    "        print(accu)\n",
    "    \n",
    "    return np.mean(accuracies)\n",
    "    \n",
    "\n",
    "def implementKFoldValidation(kFold, n):\n",
    "    splitKFolds(kFold)\n",
    "    AccuraciesKF.clear()\n",
    "    C = [1e-05, 1e-03, 1, 5, 10]\n",
    "    tStart = time.time()\n",
    "    for i in range(len(C)):\n",
    "        print(\"\\n $$$$ Value of C =\", C[i], \"\\n\")\n",
    "        \n",
    "        t0 = time.time()\n",
    "        AccuraciesKF[C[i]] = runMultiClass_KF(kFold, n,  C[i])\n",
    "        t1 = time.time()\n",
    "        print(\"Time Taken for {} Fold Validation for C = {}: {}Mins\".format(kFold, C[i], round((t1-t0)/60, 3)))\n",
    "    tEnd = time.time()\n",
    "    print(\"Total Time Taken for {} Fold Validation: {}Mins\".format(kFold, round((tEnd-tStart)/60, 3)))\n",
    "        \n",
    "    return AccuraciesKF\n",
    "\n",
    "\n",
    "def kFoldTestAccuracies():\n",
    "    C = [10, 5, 1, 1e-03, 1e-05]\n",
    "    testAccuracies_KF.clear()\n",
    "    tStart = time.time()\n",
    "    trainData = FMnistTrain.to_numpy()\n",
    "    lbls_Train = trainData[:, -1].reshape(len(trainData), 1)\n",
    "    dMat_Train = trainData[:, 0:-1]\n",
    "    print(dMat_Train.shape, lbls_Train.shape)\n",
    "    \n",
    "    testData = FMnistTest.to_numpy()\n",
    "    lbls_Test = testData[:, -1].reshape(len(testData), 1)\n",
    "    dMat_Test = testData[:, 0:-1]\n",
    "    for i in range(len(C)):\n",
    "        print(\"\\n $$$$ Calculating Test Accuracy for C =\", C[i], \"\\n\")\n",
    "        \n",
    "        t0 = time.time()\n",
    "        model = SVC(C = C[i], kernel = \"rbf\", gamma=0.05, decision_function_shape = \"ovo\")\n",
    "        model.fit(dMat_Train, lbls_Train.ravel())\n",
    "        \n",
    "        predict = model.predict(dMat_Test)\n",
    "        acc = calcAccuracy_KF(predict, lbls_Test)\n",
    "        testAccuracies_KF[C[i]] = acc\n",
    "        print(\"Test Accuracy = {}%\".format(round(acc, 3)))\n",
    "        t1 = time.time()\n",
    "        print(\"Time Taken for C = {}: {}Mins\".format(KF, C[i], round((t1-t0)/60, 3)))\n",
    "    tEnd = time.time()\n",
    "    print(\"Total Time Taken for Test Accuracy Calculation: {}Mins\".format(round((tEnd-tStart)/60, 3)))\n",
    "    return testAccuracies_KF"
   ]
  },
  {
   "cell_type": "code",
   "execution_count": 1,
   "metadata": {
    "scrolled": false
   },
   "outputs": [
    {
     "ename": "NameError",
     "evalue": "name 'FMnistTrain' is not defined",
     "output_type": "error",
     "traceback": [
      "\u001b[1;31m---------------------------------------------------------------------------\u001b[0m",
      "\u001b[1;31mNameError\u001b[0m                                 Traceback (most recent call last)",
      "\u001b[1;32m<ipython-input-1-81461014e7da>\u001b[0m in \u001b[0;36m<module>\u001b[1;34m\u001b[0m\n\u001b[1;32m----> 1\u001b[1;33m \u001b[0mDTrainKF\u001b[0m \u001b[1;33m=\u001b[0m \u001b[0mFMnistTrain\u001b[0m\u001b[1;33m.\u001b[0m\u001b[0mto_numpy\u001b[0m\u001b[1;33m(\u001b[0m\u001b[1;33m)\u001b[0m\u001b[1;33m\u001b[0m\u001b[1;33m\u001b[0m\u001b[0m\n\u001b[0m\u001b[0;32m      2\u001b[0m \u001b[0mY_KF\u001b[0m \u001b[1;33m=\u001b[0m \u001b[0mDTrainKF\u001b[0m\u001b[1;33m[\u001b[0m\u001b[1;33m:\u001b[0m\u001b[1;33m,\u001b[0m \u001b[1;33m-\u001b[0m\u001b[1;36m1\u001b[0m\u001b[1;33m]\u001b[0m\u001b[1;33m.\u001b[0m\u001b[0mreshape\u001b[0m\u001b[1;33m(\u001b[0m\u001b[0mlen\u001b[0m\u001b[1;33m(\u001b[0m\u001b[0mDTrainKF\u001b[0m\u001b[1;33m)\u001b[0m\u001b[1;33m,\u001b[0m \u001b[1;36m1\u001b[0m\u001b[1;33m)\u001b[0m\u001b[1;33m\u001b[0m\u001b[1;33m\u001b[0m\u001b[0m\n\u001b[0;32m      3\u001b[0m \u001b[0mX_KF\u001b[0m \u001b[1;33m=\u001b[0m \u001b[0mDTrainKF\u001b[0m\u001b[1;33m[\u001b[0m\u001b[1;33m:\u001b[0m\u001b[1;33m,\u001b[0m \u001b[1;36m0\u001b[0m\u001b[1;33m:\u001b[0m\u001b[1;33m-\u001b[0m\u001b[1;36m1\u001b[0m\u001b[1;33m]\u001b[0m\u001b[1;33m\u001b[0m\u001b[1;33m\u001b[0m\u001b[0m\n\u001b[0;32m      4\u001b[0m \u001b[1;33m\u001b[0m\u001b[0m\n\u001b[0;32m      5\u001b[0m \u001b[1;32mdef\u001b[0m \u001b[0msplitKFolds\u001b[0m\u001b[1;33m(\u001b[0m\u001b[0mk\u001b[0m\u001b[1;33m)\u001b[0m\u001b[1;33m:\u001b[0m\u001b[1;33m\u001b[0m\u001b[1;33m\u001b[0m\u001b[0m\n",
      "\u001b[1;31mNameError\u001b[0m: name 'FMnistTrain' is not defined"
     ]
    }
   ],
   "source": [
    "DTrainKF = FMnistTrain.to_numpy()\n",
    "Y_KF = DTrainKF[:, -1].reshape(len(DTrainKF), 1)\n",
    "X_KF = DTrainKF[:, 0:-1]\n",
    "\n",
    "def splitKFolds(k):\n",
    "    KFold_Train.clear()\n",
    "    KFold_Test.clear()\n",
    "    KF = KFold(n_splits = k, shuffle = True)\n",
    "    re = KF.split(X_KF)\n",
    "    ct = 0\n",
    "    for i in re:\n",
    "        KFold_Train[ct] = i[0]\n",
    "        KFold_Test[ct] = i[1]\n",
    "        ct +=1\n"
   ]
  },
  {
   "cell_type": "code",
   "execution_count": 2,
   "metadata": {},
   "outputs": [
    {
     "ename": "NameError",
     "evalue": "name 'splitKFolds' is not defined",
     "output_type": "error",
     "traceback": [
      "\u001b[1;31m---------------------------------------------------------------------------\u001b[0m",
      "\u001b[1;31mNameError\u001b[0m                                 Traceback (most recent call last)",
      "\u001b[1;32m<ipython-input-2-d9d4c152f0b2>\u001b[0m in \u001b[0;36m<module>\u001b[1;34m\u001b[0m\n\u001b[0;32m     49\u001b[0m \u001b[1;33m\u001b[0m\u001b[0m\n\u001b[0;32m     50\u001b[0m \u001b[1;33m\u001b[0m\u001b[0m\n\u001b[1;32m---> 51\u001b[1;33m \u001b[0mAccuKF\u001b[0m \u001b[1;33m=\u001b[0m \u001b[0mimplementKFoldValidation\u001b[0m\u001b[1;33m(\u001b[0m\u001b[1;36m1\u001b[0m\u001b[1;33m,\u001b[0m \u001b[1;36m2\u001b[0m\u001b[1;33m)\u001b[0m\u001b[1;33m\u001b[0m\u001b[1;33m\u001b[0m\u001b[0m\n\u001b[0m\u001b[0;32m     52\u001b[0m \u001b[0mprint\u001b[0m\u001b[1;33m(\u001b[0m\u001b[0mAccuKF\u001b[0m\u001b[1;33m)\u001b[0m\u001b[1;33m\u001b[0m\u001b[1;33m\u001b[0m\u001b[0m\n",
      "\u001b[1;32m<ipython-input-2-d9d4c152f0b2>\u001b[0m in \u001b[0;36mimplementKFoldValidation\u001b[1;34m(kFold, n)\u001b[0m\n\u001b[0;32m     33\u001b[0m \u001b[1;33m\u001b[0m\u001b[0m\n\u001b[0;32m     34\u001b[0m \u001b[1;32mdef\u001b[0m \u001b[0mimplementKFoldValidation\u001b[0m\u001b[1;33m(\u001b[0m\u001b[0mkFold\u001b[0m\u001b[1;33m,\u001b[0m \u001b[0mn\u001b[0m\u001b[1;33m)\u001b[0m\u001b[1;33m:\u001b[0m\u001b[1;33m\u001b[0m\u001b[1;33m\u001b[0m\u001b[0m\n\u001b[1;32m---> 35\u001b[1;33m     \u001b[0msplitKFolds\u001b[0m\u001b[1;33m(\u001b[0m\u001b[0mkFold\u001b[0m\u001b[1;33m)\u001b[0m\u001b[1;33m\u001b[0m\u001b[1;33m\u001b[0m\u001b[0m\n\u001b[0m\u001b[0;32m     36\u001b[0m     \u001b[0mC\u001b[0m \u001b[1;33m=\u001b[0m \u001b[1;33m[\u001b[0m\u001b[1;36m1e-05\u001b[0m\u001b[1;33m,\u001b[0m \u001b[1;36m1e-03\u001b[0m\u001b[1;33m,\u001b[0m \u001b[1;36m1\u001b[0m\u001b[1;33m,\u001b[0m \u001b[1;36m5\u001b[0m\u001b[1;33m,\u001b[0m \u001b[1;36m10\u001b[0m\u001b[1;33m]\u001b[0m\u001b[1;33m\u001b[0m\u001b[1;33m\u001b[0m\u001b[0m\n\u001b[0;32m     37\u001b[0m     \u001b[0mtStart\u001b[0m \u001b[1;33m=\u001b[0m \u001b[0mtime\u001b[0m\u001b[1;33m.\u001b[0m\u001b[0mtime\u001b[0m\u001b[1;33m(\u001b[0m\u001b[1;33m)\u001b[0m\u001b[1;33m\u001b[0m\u001b[1;33m\u001b[0m\u001b[0m\n",
      "\u001b[1;31mNameError\u001b[0m: name 'splitKFolds' is not defined"
     ]
    }
   ],
   "source": [
    "\n",
    "\n",
    "def calcAccuracy_KF(predict, labels):\n",
    "    prediction = []\n",
    "    for i in range(len(labels)):\n",
    "        if predict[i] == labels[i]:\n",
    "            prediction.append(True)\n",
    "        else:\n",
    "            prediction.append(False)\n",
    "    ctr = Counter(prediction)\n",
    "    acc = (ctr[True]/len(labels))*100\n",
    "    return acc\n",
    "\n",
    "def runMultiClass_KF(k, n, c):\n",
    "    accuracies = []\n",
    "    \n",
    "    for i in range(k):\n",
    "        print(\"KFold =\", i)\n",
    "        trainData = X_KF[KFold_Train[i]]\n",
    "        trainLabels = Y_KF[KFold_Train[i]]\n",
    "        \n",
    "        testData = X_KF[KFold_Train[i]]\n",
    "        testLabels = Y_KF[KFold_Train[i]]\n",
    "        \n",
    "        model = SVC(C = c, kernel = \"rbf\", gamma=0.05, decision_function_shape = \"ovo\")\n",
    "        model.fit(trainData, trainLabels.ravel())\n",
    "        \n",
    "        predict = model.predict(testData)\n",
    "        accu = calcAccuracy_KF(predict, testLabels)\n",
    "        accuracies.append(accu)\n",
    "        print(accu)\n",
    "    \n",
    "    return np.mean(accuracies)\n",
    "    \n",
    "\n",
    "def implementKFoldValidation(kFold, n):\n",
    "    splitKFolds(kFold)\n",
    "    AccuraciesKF.clear()\n",
    "    C = [1e-05, 1e-03, 1, 5, 10]\n",
    "    tStart = time.time()\n",
    "    for i in range(len(C)):\n",
    "        print(\"\\n $$$$ Value of C =\", C[i], \"\\n\")\n",
    "        \n",
    "        t0 = time.time()\n",
    "        AccuraciesKF[C[i]] = runMultiClass_KF(kFold, n,  C[i])\n",
    "        t1 = time.time()\n",
    "        print(\"Time Taken for {} Fold Validation for C = {}: {}Mins\".format(kFold, C[i], round((t1-t0)/60, 3)))\n",
    "    tEnd = time.time()\n",
    "    print(\"Total Time Taken for {} Fold Validation: {}Mins\".format(kFold, round((tEnd-tStart)/60, 3)))\n",
    "        \n",
    "    return AccuraciesKF\n",
    "\n",
    "\n",
    "AccuKF = implementKFoldValidation(1, 2)\n",
    "print(AccuKF)"
   ]
  },
  {
   "cell_type": "code",
   "execution_count": null,
   "metadata": {},
   "outputs": [
    {
     "name": "stdout",
     "output_type": "stream",
     "text": [
      "(22499, 784) (22499, 1)\n",
      "\n",
      " $$$$ Calculating Test Accuracy for C = 10 \n",
      "\n",
      "Test Accuracy = 88.238%\n",
      "Time Taken for C = KFold(n_splits=5, random_state=None, shuffle=True): 10Mins\n",
      "\n",
      " $$$$ Calculating Test Accuracy for C = 5 \n",
      "\n"
     ]
    }
   ],
   "source": [
    "\n",
    "def kFoldTestAccuracies():\n",
    "    C = [10, 5, 1, 1e-03, 1e-05]\n",
    "    testAccuracies_KF.clear()\n",
    "    tStart = time.time()\n",
    "    trainData = FMnistTrain.to_numpy()\n",
    "    lbls_Train = trainData[:, -1].reshape(len(trainData), 1)\n",
    "    dMat_Train = trainData[:, 0:-1]\n",
    "    print(dMat_Train.shape, lbls_Train.shape)\n",
    "    \n",
    "    testData = FMnistTest.to_numpy()\n",
    "    lbls_Test = testData[:, -1].reshape(len(testData), 1)\n",
    "    dMat_Test = testData[:, 0:-1]\n",
    "    for i in range(len(C)):\n",
    "        print(\"\\n $$$$ Calculating Test Accuracy for C =\", C[i], \"\\n\")\n",
    "        \n",
    "        t0 = time.time()\n",
    "        model = SVC(C = C[i], kernel = \"rbf\", gamma=0.05, decision_function_shape = \"ovo\")\n",
    "        model.fit(dMat_Train, lbls_Train.ravel())\n",
    "        \n",
    "        predict = model.predict(dMat_Test)\n",
    "        acc = calcAccuracy_KF(predict, lbls_Test)\n",
    "        testAccuracies_KF[C[i]] = acc\n",
    "        print(\"Test Accuracy = {}%\".format(round(acc, 3)))\n",
    "        t1 = time.time()\n",
    "        print(\"Time Taken for C = {}: {}Mins\".format(KF, C[i], round((t1-t0)/60, 3)))\n",
    "    tEnd = time.time()\n",
    "    print(\"Total Time Taken for Test Accuracy Calculation: {}Mins\".format(round((tEnd-tStart)/60, 3)))\n",
    "    print(testAccuracies_KF)\n",
    "    return\n",
    "\n",
    "kFoldTestAccuracies()\n",
    "        "
   ]
  },
  {
   "cell_type": "code",
   "execution_count": 10,
   "metadata": {},
   "outputs": [
    {
     "data": {
      "text/plain": [
       "{1e-05: 10.133896327573753}"
      ]
     },
     "execution_count": 10,
     "metadata": {},
     "output_type": "execute_result"
    }
   ],
   "source": [
    "AccuraciesKF"
   ]
  },
  {
   "cell_type": "code",
   "execution_count": 89,
   "metadata": {},
   "outputs": [
    {
     "name": "stdout",
     "output_type": "stream",
     "text": [
      "1e-05\n"
     ]
    }
   ],
   "source": [
    "print(10**(-5))"
   ]
  },
  {
   "cell_type": "code",
   "execution_count": null,
   "metadata": {
    "scrolled": false
   },
   "outputs": [],
   "source": [
    "initVotesDict()\n",
    "runOneVsOneClassifier(2, \"cvxopt\")\n",
    "lbl_test = FMnistTest[\"label\"].to_numpy()\n",
    "print(\"lbl_test\",lbl_test)\n",
    "VotingPredictionsTest = calcVotingResults(votesTest)\n",
    "TestOVO_sk = votingResultsVsLabels(VotingPredictionsTest, lbl_test)\n",
    "print(TestOVO_sk)"
   ]
  },
  {
   "cell_type": "code",
   "execution_count": null,
   "metadata": {
    "scrolled": false
   },
   "outputs": [],
   "source": [
    "print(2 == 2.0)\n",
    "print(lbl_test[1] == 1)\n",
    "for n in range(1000):\n",
    "    if (lbl_test[n] == 0):\n",
    "        print(n, stats.mode(votesTest[n]).mode[0], lbl_test[n])\n",
    "    \n",
    "n=25\n",
    "#print(votesTest[n])\n",
    "#print(n, stats.mode(votesTest[n]).mode[0], lbl_test[n])"
   ]
  },
  {
   "cell_type": "code",
   "execution_count": 6,
   "metadata": {},
   "outputs": [
    {
     "name": "stdout",
     "output_type": "stream",
     "text": [
      "grp = [0, 1]\n",
      "SK Learn gaussian kernel learning time = 3.277s\n",
      "Number of support vectors for each class =  [546 265]\n",
      "\n",
      "Training Time One Vs One for 2 Classes is 0.0 Sec\n",
      "Total Time One Vs One Training and Prediction for 2 Classes is 8.686 Sec\n",
      "\n",
      " Test Accuracy OneVsOne using Sklearn = 19.76395279055811\n",
      "\n",
      " Val Accuracy OneVsOne using Sklearn= 19.727891156462583\n"
     ]
    }
   ],
   "source": [
    "initVotesDict_sk()\n",
    "runOneVsOneClassifier(2, \"sklearn\")\n",
    "\n",
    "labels = FMnistTest[\"label\"].to_numpy()      \n",
    "VotingPredictionsTest_sk = calcVotingResults(votesTest_sk)\n",
    "TestOVO_sk = votingResultsVsLabels(VotingPredictionsTest_sk, labels)\n",
    "\n",
    "labels = FMnistVal[\"label\"].to_numpy()      \n",
    "VotingPredictionsVal_sk = calcVotingResults(votesVal_sk)\n",
    "ValOVO_sk = votingResultsVsLabels(VotingPredictionsVal_sk, labels)\n",
    "\n",
    "print(\"\\n Test Accuracy OneVsOne using Sklearn =\", TestOVO_sk)\n",
    "print(\"\\n Val Accuracy OneVsOne using Sklearn=\", ValOVO_sk)"
   ]
  },
  {
   "cell_type": "code",
   "execution_count": 50,
   "metadata": {},
   "outputs": [
    {
     "name": "stdout",
     "output_type": "stream",
     "text": [
      "gaussian kernel learning time = 54.749s\n",
      "\n",
      "Number of support vectors for Class -1 = 763 \n",
      "Number of support vectors for Class 1 = 441\n",
      "\n",
      "Number of support vectors for Class -1 = 763 \n",
      "Number of support vectors for Class 1 = 441\n",
      "Calculate b for Test Set = -0.47460654122577894\n",
      "Test Accuracy CVXOPT Gaussian Kernel = 99.8%\n"
     ]
    }
   ],
   "source": [
    "DTrainBin = binaryDTrain.to_numpy()\n",
    "Y_G = DTrainBin[:, -1].reshape(len(DTrainBin), 1)\n",
    "X_G = DTrainBin[:, 0:-1]\n",
    "SolutionGau, H = fitBinaryClassifierSVM(X_G, Y_G, \"gaussian\")\n",
    "\n",
    "DTrainBin_Val = binaryDVal.to_numpy()\n",
    "YVal_G = DTrainBin_Val[:, -1].reshape(len(DTrainBin_Val), 1)\n",
    "XVal_G = DTrainBin_Val[:, 0:-1]\n",
    "\n",
    "predictGaussianSVM(X_G, Y_G, XVal_G, YVal_G, SolutionGau, 0.01, H)\n",
    "\n",
    "DTest_G = binaryDTest.to_numpy()\n",
    "Y_Test = DTest_G[:, -1].reshape(len(DTest_G), 1)\n",
    "X_Test = DTest_G[:, 0:-1]\n",
    "\n",
    "TestAccu_G, b_G_Test = predictGaussianSVM(X_G, Y_G, X_Test, Y_Test, SolutionGau, 0.01, H)\n",
    "print(\"Calculate b for Test Set =\", b_G_Test)\n",
    "print(\"Test Accuracy CVXOPT Gaussian Kernel = {}%\".format(round(TestAccu_G, 3)))"
   ]
  },
  {
   "cell_type": "code",
   "execution_count": null,
   "metadata": {},
   "outputs": [],
   "source": [
    "DTrainBin = binaryDTrain.to_numpy()\n",
    "Y = DTrainBin[:, -1].reshape(len(DTrainBin), 1)\n",
    "X = DTrainBin[:, 0:-1]\n",
    "\n",
    "'''@@@@@@@@@@@@@@@@@**********-----Q1_A-----**********@@@@@@@@@@@@@@@@@'''\n",
    "print(\"\\n#################\\n-------Q1_A-------\\n################\")\n",
    "SolutionLin, H = fitBinaryClassifierSVM(X, Y, \"linear\")\n",
    "alphaValues , W, b = calcParameters(X, Y, SolutionLin, 1e-04)\n",
    "print(\"b =\", b)\n",
    "DVal = binaryDVal.to_numpy()\n",
    "Y_Val = DVal[:, -1].reshape(len(DVal), 1)\n",
    "X_Val = DVal[:, 0:-1]\n",
    "\n",
    "ValAccu = getAccuracy(X_Val, Y_Val, W, b)\n",
    "print(\"Validation Accuracy CVXOPT Linear Kernel = {}%\".format(round(ValAccu, 3)))\n",
    "\n",
    "DTest = binaryDTest.to_numpy()\n",
    "Y_Test = DTest[:, -1].reshape(len(DTest), 1)\n",
    "X_Test = DTest[:, 0:-1]\n",
    "\n",
    "TestAccu = getAccuracy(X_Test, Y_Test, W, b)\n",
    "print(\"Test Accuracy CVXOPT Linear Kernel = {}%\", .format(round(TestAccu, 3)))\n",
    "\n",
    "\n",
    "\n",
    "\n",
    "'''@@@@@@@@@@@@@@@@@**********-----Q1_B-----**********@@@@@@@@@@@@@@@@@'''\n",
    "print(\"\\n#################\\n-------Q1_B-------\\n################\")\n",
    "SolutionGau, H = fitBinaryClassifierSVM(X, Y, \"gaussian\")\n",
    "\n",
    "DVal = binaryDVal.to_numpy()\n",
    "Y_Val = DVal[:, -1].reshape(len(DVal), 1)\n",
    "X_Val = DVal[:, 0:-1]\n",
    "\n",
    "ValAccu_G, b_G_Val = predictGaussianSVM(X, Y, X_Val, Y_Val, SolutionGau, 0.01, H)\n",
    "print(\"Calculate b for Validation Set =\", b_G_Val)\n",
    "print(\"Validation Accuracy CVXOPT Gaussian Kernel = {}%\".format(round(ValAccu_G, 3)))\n",
    "\n",
    "DTest_G = binaryDTest.to_numpy()\n",
    "Y_Test = DTest[:, -1].reshape(len(DTest), 1)\n",
    "X_Test = DTest[:, 0:-1]\n",
    "\n",
    "TestAccu_G, b_G_Test = predictGaussianSVM(X, Y, X_Test, Y_Test, SolutionGau, 0.01, H)\n",
    "print(\"Calculate b for Test Set =\", b_G_Test)\n",
    "print(\"Test Accuracy CVXOPT Gaussian Kernel = {}%\".format(round(TestAccu_G, 3)))\n",
    "\n",
    "\n",
    "'''@@@@@@@@@@@@@@@@@**********-----Q1_C-----**********@@@@@@@@@@@@@@@@@'''\n",
    "print(\"\\n#################\\n-------Q1_C-------\\n################\")\n",
    "#linear kernel\n",
    "ta = time.time()\n",
    "sk_linear, W_sk, b_sk = sklearnLinearKernel(X, Y)\n",
    "tb = time.time()\n",
    "print(\"Computational Time | Linear Kernel | Sklearn = {}s\".format(round(tb-ta, 3)))\n",
    "print(\"b sklearn =\", b_sk)\n",
    "DVal = binaryDVal.to_numpy()\n",
    "Y_Val = DVal[:, -1].reshape(len(DVal), 1)\n",
    "X_Val = DVal[:, 0:-1]\n",
    "\n",
    "ValAccu_sk = skPredict(sk_linear, X_Val, Y_Val)\n",
    "print(\"SK Learn Validation Accuracy =\", ValAccu_sk)\n",
    "\n",
    "DTest = binaryDTest.to_numpy()\n",
    "Y_Test = DTest[:, -1].reshape(len(DTest), 1)\n",
    "X_Test = DTest[:, 0:-1]\n",
    "\n",
    "TestAccu_sk = skPredict(sk_linear, X_Test, Y_Test)\n",
    "print(\"SK Learn Test Accuracy =\", TestAccu_sk)\n",
    "\n",
    "#Gaussian (RBF) Kernel\n",
    "tc = time.time()\n",
    "sk_gaussian = sklearnGaussianKernel(X, Y)\n",
    "td = time.time()\n",
    "print(\"Computational Time | Gaussian Kernel | Sklearn = {}s\".format(round(td-tc, 3)))\n",
    "print(\"\\nb SKlearn Gaussian =\", sk_gaussian.intercept_)\n",
    "\n",
    "DVal = binaryDVal.to_numpy()\n",
    "Y_Val = DVal[:, -1].reshape(len(DVal), 1)\n",
    "X_Val = DVal[:, 0:-1]\n",
    "\n",
    "ValAccu_sk = skPredict(sk_gaussian, X_Val, Y_Val)\n",
    "print(\"\\nSK Learn Gaussian Validation Accuracy =\", ValAccu_sk)\n",
    "\n",
    "DTest = binaryDTest.to_numpy()\n",
    "Y_Test = DTest[:, -1].reshape(len(DTest), 1)\n",
    "X_Test = DTest[:, 0:-1]\n",
    "\n",
    "TestAccu_sk = skPredict(sk_gaussian, X_Test, Y_Test)\n",
    "print(\"SK Learn Gaussian Test Accuracy =\", TestAccu_sk)\n",
    "\n",
    "\n",
    " \n",
    "    \n",
    "    \n",
    "'''@@@@@@@@@@@@@@@@@**********-----Q2_A-----**********@@@@@@@@@@@@@@@@@'''\n",
    "print(\"\\n#################\\n-------Q2_A-------\\n################\")\n",
    "initVotesDict()\n",
    "runOneVsOneClassifier(10, \"cvxopt\")\n",
    "\n",
    "labels = FMnistTest[\"label\"].to_numpy()      \n",
    "VotingPredictionsTest = calcVotingResults(votesTest)\n",
    "TestOVO = votingResultsVsLabels(VotingPredictionsTest, labels)\n",
    "\n",
    "labels = FMnistVal[\"label\"].to_numpy()      \n",
    "VotingPredictionsVal = calcVotingResults(votesVal)\n",
    "ValOVO = votingResultsVsLabels(VotingPredictionsVal, labels)\n",
    "\n",
    "print(\"\\n Test Accuracy OneVsOne using CVXOPT =\", TestOVO)\n",
    "print(\"\\n Val Accuracy OneVsOne using CVXOPT =\", ValOVO)\n",
    "\n",
    "\n",
    "\n",
    "'''@@@@@@@@@@@@@@@@@**********-----Q2_B-----**********@@@@@@@@@@@@@@@@@'''\n",
    "print(\"\\n#################\\n-------Q2_B-------\\n################\")\n",
    "initVotesDict_sk()\n",
    "runOneVsOneClassifier(10, \"sklearn\")\n",
    "\n",
    "labels = FMnistTest[\"label\"].to_numpy()      \n",
    "VotingPredictionsTest_sk = calcVotingResults(votesTest_sk)\n",
    "TestOVO_sk = votingResultsVsLabels(VotingPredictionsTest_sk, labels)\n",
    "\n",
    "labels = FMnistVal[\"label\"].to_numpy()      \n",
    "VotingPredictionsVal_sk = calcVotingResults(votesVal_sk)\n",
    "ValOVO_sk = votingResultsVsLabels(VotingPredictionsVal_sk, labels)\n",
    "\n",
    "print(\"\\n Test Accuracy OneVsOne using Sklearn =\", TestOVO_sk)\n",
    "print(\"\\n Val Accuracy OneVsOne using Sklearn=\", ValOVO_sk)\n",
    "\n",
    "\n",
    "\n",
    "'''@@@@@@@@@@@@@@@@@**********-----Q2_C-----**********@@@@@@@@@@@@@@@@@'''\n",
    "print(\"\\n#################\\n-------Q2_C-------\\n################\")\n",
    "plotConfusionMatrix(VotingPredictionsTest, VotingPredictionsVal, VotingPredictionsTest_sk, VotingPredictionsVal_sk)\n",
    "\n",
    "\n",
    "'''@@@@@@@@@@@@@@@@@**********-----Q2_D-----**********@@@@@@@@@@@@@@@@@'''\n",
    "print(\"\\n#################\\n-------Q2_D-------\\n################\")\n",
    "\n",
    "\n",
    "AccuKF = implementKFoldValidation(1, 2)\n",
    "print(\"\\n5 Fold Validation Accuracy values for different values of C\\n\",AccuKF)\n",
    "kFoldTestAccuracies()"
   ]
  },
  {
   "cell_type": "code",
   "execution_count": 58,
   "metadata": {
    "scrolled": true
   },
   "outputs": [
    {
     "name": "stdout",
     "output_type": "stream",
     "text": [
      "grp = [0, 1]\n"
     ]
    },
    {
     "name": "stderr",
     "output_type": "stream",
     "text": [
      "C:\\Users\\Aman\\Anaconda3\\lib\\site-packages\\pandas\\core\\generic.py:5208: SettingWithCopyWarning: \n",
      "A value is trying to be set on a copy of a slice from a DataFrame.\n",
      "Try using .loc[row_indexer,col_indexer] = value instead\n",
      "\n",
      "See the caveats in the documentation: http://pandas.pydata.org/pandas-docs/stable/user_guide/indexing.html#returning-a-view-versus-a-copy\n",
      "  self[name] = value\n"
     ]
    },
    {
     "name": "stdout",
     "output_type": "stream",
     "text": [
      "SK Learn gaussian kernel learning time = 3.321s\n",
      "Number of support vectors for each class =  [546 265]\n",
      "grp = [0, 2]\n"
     ]
    },
    {
     "name": "stderr",
     "output_type": "stream",
     "text": [
      "C:\\Users\\Aman\\Anaconda3\\lib\\site-packages\\pandas\\core\\generic.py:5208: SettingWithCopyWarning: \n",
      "A value is trying to be set on a copy of a slice from a DataFrame.\n",
      "Try using .loc[row_indexer,col_indexer] = value instead\n",
      "\n",
      "See the caveats in the documentation: http://pandas.pydata.org/pandas-docs/stable/user_guide/indexing.html#returning-a-view-versus-a-copy\n",
      "  self[name] = value\n"
     ]
    },
    {
     "name": "stdout",
     "output_type": "stream",
     "text": [
      "SK Learn gaussian kernel learning time = 5.464s\n",
      "Number of support vectors for each class =  [641 653]\n",
      "grp = [0, 3]\n"
     ]
    },
    {
     "name": "stderr",
     "output_type": "stream",
     "text": [
      "C:\\Users\\Aman\\Anaconda3\\lib\\site-packages\\pandas\\core\\generic.py:5208: SettingWithCopyWarning: \n",
      "A value is trying to be set on a copy of a slice from a DataFrame.\n",
      "Try using .loc[row_indexer,col_indexer] = value instead\n",
      "\n",
      "See the caveats in the documentation: http://pandas.pydata.org/pandas-docs/stable/user_guide/indexing.html#returning-a-view-versus-a-copy\n",
      "  self[name] = value\n"
     ]
    },
    {
     "name": "stdout",
     "output_type": "stream",
     "text": [
      "SK Learn gaussian kernel learning time = 6.019s\n",
      "Number of support vectors for each class =  [789 738]\n",
      "grp = [0, 4]\n"
     ]
    },
    {
     "name": "stderr",
     "output_type": "stream",
     "text": [
      "C:\\Users\\Aman\\Anaconda3\\lib\\site-packages\\pandas\\core\\generic.py:5208: SettingWithCopyWarning: \n",
      "A value is trying to be set on a copy of a slice from a DataFrame.\n",
      "Try using .loc[row_indexer,col_indexer] = value instead\n",
      "\n",
      "See the caveats in the documentation: http://pandas.pydata.org/pandas-docs/stable/user_guide/indexing.html#returning-a-view-versus-a-copy\n",
      "  self[name] = value\n"
     ]
    },
    {
     "name": "stdout",
     "output_type": "stream",
     "text": [
      "SK Learn gaussian kernel learning time = 4.839s\n",
      "Number of support vectors for each class =  [541 530]\n",
      "grp = [0, 5]\n"
     ]
    },
    {
     "name": "stderr",
     "output_type": "stream",
     "text": [
      "C:\\Users\\Aman\\Anaconda3\\lib\\site-packages\\pandas\\core\\generic.py:5208: SettingWithCopyWarning: \n",
      "A value is trying to be set on a copy of a slice from a DataFrame.\n",
      "Try using .loc[row_indexer,col_indexer] = value instead\n",
      "\n",
      "See the caveats in the documentation: http://pandas.pydata.org/pandas-docs/stable/user_guide/indexing.html#returning-a-view-versus-a-copy\n",
      "  self[name] = value\n"
     ]
    },
    {
     "name": "stdout",
     "output_type": "stream",
     "text": [
      "SK Learn gaussian kernel learning time = 4.185s\n",
      "Number of support vectors for each class =  [410 606]\n",
      "grp = [0, 6]\n"
     ]
    },
    {
     "name": "stderr",
     "output_type": "stream",
     "text": [
      "C:\\Users\\Aman\\Anaconda3\\lib\\site-packages\\pandas\\core\\generic.py:5208: SettingWithCopyWarning: \n",
      "A value is trying to be set on a copy of a slice from a DataFrame.\n",
      "Try using .loc[row_indexer,col_indexer] = value instead\n",
      "\n",
      "See the caveats in the documentation: http://pandas.pydata.org/pandas-docs/stable/user_guide/indexing.html#returning-a-view-versus-a-copy\n",
      "  self[name] = value\n"
     ]
    },
    {
     "name": "stdout",
     "output_type": "stream",
     "text": [
      "SK Learn gaussian kernel learning time = 9.319s\n",
      "Number of support vectors for each class =  [1175 1155]\n",
      "grp = [0, 7]\n"
     ]
    },
    {
     "name": "stderr",
     "output_type": "stream",
     "text": [
      "C:\\Users\\Aman\\Anaconda3\\lib\\site-packages\\pandas\\core\\generic.py:5208: SettingWithCopyWarning: \n",
      "A value is trying to be set on a copy of a slice from a DataFrame.\n",
      "Try using .loc[row_indexer,col_indexer] = value instead\n",
      "\n",
      "See the caveats in the documentation: http://pandas.pydata.org/pandas-docs/stable/user_guide/indexing.html#returning-a-view-versus-a-copy\n",
      "  self[name] = value\n"
     ]
    },
    {
     "name": "stdout",
     "output_type": "stream",
     "text": [
      "SK Learn gaussian kernel learning time = 2.322s\n",
      "Number of support vectors for each class =  [392 205]\n",
      "grp = [0, 8]\n"
     ]
    },
    {
     "name": "stderr",
     "output_type": "stream",
     "text": [
      "C:\\Users\\Aman\\Anaconda3\\lib\\site-packages\\pandas\\core\\generic.py:5208: SettingWithCopyWarning: \n",
      "A value is trying to be set on a copy of a slice from a DataFrame.\n",
      "Try using .loc[row_indexer,col_indexer] = value instead\n",
      "\n",
      "See the caveats in the documentation: http://pandas.pydata.org/pandas-docs/stable/user_guide/indexing.html#returning-a-view-versus-a-copy\n",
      "  self[name] = value\n"
     ]
    },
    {
     "name": "stdout",
     "output_type": "stream",
     "text": [
      "SK Learn gaussian kernel learning time = 5.081s\n",
      "Number of support vectors for each class =  [472 834]\n",
      "grp = [0, 9]\n"
     ]
    },
    {
     "name": "stderr",
     "output_type": "stream",
     "text": [
      "C:\\Users\\Aman\\Anaconda3\\lib\\site-packages\\pandas\\core\\generic.py:5208: SettingWithCopyWarning: \n",
      "A value is trying to be set on a copy of a slice from a DataFrame.\n",
      "Try using .loc[row_indexer,col_indexer] = value instead\n",
      "\n",
      "See the caveats in the documentation: http://pandas.pydata.org/pandas-docs/stable/user_guide/indexing.html#returning-a-view-versus-a-copy\n",
      "  self[name] = value\n"
     ]
    },
    {
     "name": "stdout",
     "output_type": "stream",
     "text": [
      "SK Learn gaussian kernel learning time = 3.181s\n",
      "Number of support vectors for each class =  [409 417]\n",
      "grp = [1, 2]\n"
     ]
    },
    {
     "name": "stderr",
     "output_type": "stream",
     "text": [
      "C:\\Users\\Aman\\Anaconda3\\lib\\site-packages\\pandas\\core\\generic.py:5208: SettingWithCopyWarning: \n",
      "A value is trying to be set on a copy of a slice from a DataFrame.\n",
      "Try using .loc[row_indexer,col_indexer] = value instead\n",
      "\n",
      "See the caveats in the documentation: http://pandas.pydata.org/pandas-docs/stable/user_guide/indexing.html#returning-a-view-versus-a-copy\n",
      "  self[name] = value\n"
     ]
    },
    {
     "name": "stdout",
     "output_type": "stream",
     "text": [
      "SK Learn gaussian kernel learning time = 3.302s\n",
      "Number of support vectors for each class =  [250 566]\n",
      "grp = [1, 3]\n"
     ]
    },
    {
     "name": "stderr",
     "output_type": "stream",
     "text": [
      "C:\\Users\\Aman\\Anaconda3\\lib\\site-packages\\pandas\\core\\generic.py:5208: SettingWithCopyWarning: \n",
      "A value is trying to be set on a copy of a slice from a DataFrame.\n",
      "Try using .loc[row_indexer,col_indexer] = value instead\n",
      "\n",
      "See the caveats in the documentation: http://pandas.pydata.org/pandas-docs/stable/user_guide/indexing.html#returning-a-view-versus-a-copy\n",
      "  self[name] = value\n"
     ]
    },
    {
     "name": "stdout",
     "output_type": "stream",
     "text": [
      "SK Learn gaussian kernel learning time = 3.688s\n",
      "Number of support vectors for each class =  [308 642]\n",
      "grp = [1, 4]\n"
     ]
    },
    {
     "name": "stderr",
     "output_type": "stream",
     "text": [
      "C:\\Users\\Aman\\Anaconda3\\lib\\site-packages\\pandas\\core\\generic.py:5208: SettingWithCopyWarning: \n",
      "A value is trying to be set on a copy of a slice from a DataFrame.\n",
      "Try using .loc[row_indexer,col_indexer] = value instead\n",
      "\n",
      "See the caveats in the documentation: http://pandas.pydata.org/pandas-docs/stable/user_guide/indexing.html#returning-a-view-versus-a-copy\n",
      "  self[name] = value\n"
     ]
    },
    {
     "name": "stdout",
     "output_type": "stream",
     "text": [
      "SK Learn gaussian kernel learning time = 2.948s\n",
      "Number of support vectors for each class =  [261 489]\n",
      "grp = [1, 5]\n"
     ]
    },
    {
     "name": "stderr",
     "output_type": "stream",
     "text": [
      "C:\\Users\\Aman\\Anaconda3\\lib\\site-packages\\pandas\\core\\generic.py:5208: SettingWithCopyWarning: \n",
      "A value is trying to be set on a copy of a slice from a DataFrame.\n",
      "Try using .loc[row_indexer,col_indexer] = value instead\n",
      "\n",
      "See the caveats in the documentation: http://pandas.pydata.org/pandas-docs/stable/user_guide/indexing.html#returning-a-view-versus-a-copy\n",
      "  self[name] = value\n"
     ]
    },
    {
     "name": "stdout",
     "output_type": "stream",
     "text": [
      "SK Learn gaussian kernel learning time = 3.04s\n",
      "Number of support vectors for each class =  [210 564]\n",
      "grp = [1, 6]\n"
     ]
    },
    {
     "name": "stderr",
     "output_type": "stream",
     "text": [
      "C:\\Users\\Aman\\Anaconda3\\lib\\site-packages\\pandas\\core\\generic.py:5208: SettingWithCopyWarning: \n",
      "A value is trying to be set on a copy of a slice from a DataFrame.\n",
      "Try using .loc[row_indexer,col_indexer] = value instead\n",
      "\n",
      "See the caveats in the documentation: http://pandas.pydata.org/pandas-docs/stable/user_guide/indexing.html#returning-a-view-versus-a-copy\n",
      "  self[name] = value\n"
     ]
    },
    {
     "name": "stdout",
     "output_type": "stream",
     "text": [
      "SK Learn gaussian kernel learning time = 3.613s\n",
      "Number of support vectors for each class =  [263 666]\n",
      "grp = [1, 7]\n"
     ]
    },
    {
     "name": "stderr",
     "output_type": "stream",
     "text": [
      "C:\\Users\\Aman\\Anaconda3\\lib\\site-packages\\pandas\\core\\generic.py:5208: SettingWithCopyWarning: \n",
      "A value is trying to be set on a copy of a slice from a DataFrame.\n",
      "Try using .loc[row_indexer,col_indexer] = value instead\n",
      "\n",
      "See the caveats in the documentation: http://pandas.pydata.org/pandas-docs/stable/user_guide/indexing.html#returning-a-view-versus-a-copy\n",
      "  self[name] = value\n"
     ]
    },
    {
     "name": "stdout",
     "output_type": "stream",
     "text": [
      "SK Learn gaussian kernel learning time = 1.547s\n",
      "Number of support vectors for each class =  [201 195]\n",
      "grp = [1, 8]\n"
     ]
    },
    {
     "name": "stderr",
     "output_type": "stream",
     "text": [
      "C:\\Users\\Aman\\Anaconda3\\lib\\site-packages\\pandas\\core\\generic.py:5208: SettingWithCopyWarning: \n",
      "A value is trying to be set on a copy of a slice from a DataFrame.\n",
      "Try using .loc[row_indexer,col_indexer] = value instead\n",
      "\n",
      "See the caveats in the documentation: http://pandas.pydata.org/pandas-docs/stable/user_guide/indexing.html#returning-a-view-versus-a-copy\n",
      "  self[name] = value\n"
     ]
    },
    {
     "name": "stdout",
     "output_type": "stream",
     "text": [
      "SK Learn gaussian kernel learning time = 3.687s\n",
      "Number of support vectors for each class =  [221 743]\n",
      "grp = [1, 9]\n"
     ]
    },
    {
     "name": "stderr",
     "output_type": "stream",
     "text": [
      "C:\\Users\\Aman\\Anaconda3\\lib\\site-packages\\pandas\\core\\generic.py:5208: SettingWithCopyWarning: \n",
      "A value is trying to be set on a copy of a slice from a DataFrame.\n",
      "Try using .loc[row_indexer,col_indexer] = value instead\n",
      "\n",
      "See the caveats in the documentation: http://pandas.pydata.org/pandas-docs/stable/user_guide/indexing.html#returning-a-view-versus-a-copy\n",
      "  self[name] = value\n"
     ]
    },
    {
     "name": "stdout",
     "output_type": "stream",
     "text": [
      "SK Learn gaussian kernel learning time = 2.431s\n",
      "Number of support vectors for each class =  [210 412]\n",
      "grp = [2, 3]\n"
     ]
    },
    {
     "name": "stderr",
     "output_type": "stream",
     "text": [
      "C:\\Users\\Aman\\Anaconda3\\lib\\site-packages\\pandas\\core\\generic.py:5208: SettingWithCopyWarning: \n",
      "A value is trying to be set on a copy of a slice from a DataFrame.\n",
      "Try using .loc[row_indexer,col_indexer] = value instead\n",
      "\n",
      "See the caveats in the documentation: http://pandas.pydata.org/pandas-docs/stable/user_guide/indexing.html#returning-a-view-versus-a-copy\n",
      "  self[name] = value\n"
     ]
    },
    {
     "name": "stdout",
     "output_type": "stream",
     "text": [
      "SK Learn gaussian kernel learning time = 4.301s\n",
      "Number of support vectors for each class =  [565 537]\n",
      "grp = [2, 4]\n"
     ]
    },
    {
     "name": "stderr",
     "output_type": "stream",
     "text": [
      "C:\\Users\\Aman\\Anaconda3\\lib\\site-packages\\pandas\\core\\generic.py:5208: SettingWithCopyWarning: \n",
      "A value is trying to be set on a copy of a slice from a DataFrame.\n",
      "Try using .loc[row_indexer,col_indexer] = value instead\n",
      "\n",
      "See the caveats in the documentation: http://pandas.pydata.org/pandas-docs/stable/user_guide/indexing.html#returning-a-view-versus-a-copy\n",
      "  self[name] = value\n"
     ]
    },
    {
     "name": "stdout",
     "output_type": "stream",
     "text": [
      "SK Learn gaussian kernel learning time = 9.236s\n",
      "Number of support vectors for each class =  [1168 1152]\n",
      "grp = [2, 5]\n"
     ]
    },
    {
     "name": "stderr",
     "output_type": "stream",
     "text": [
      "C:\\Users\\Aman\\Anaconda3\\lib\\site-packages\\pandas\\core\\generic.py:5208: SettingWithCopyWarning: \n",
      "A value is trying to be set on a copy of a slice from a DataFrame.\n",
      "Try using .loc[row_indexer,col_indexer] = value instead\n",
      "\n",
      "See the caveats in the documentation: http://pandas.pydata.org/pandas-docs/stable/user_guide/indexing.html#returning-a-view-versus-a-copy\n",
      "  self[name] = value\n"
     ]
    },
    {
     "name": "stdout",
     "output_type": "stream",
     "text": [
      "SK Learn gaussian kernel learning time = 4.014s\n",
      "Number of support vectors for each class =  [429 619]\n",
      "grp = [2, 6]\n"
     ]
    },
    {
     "name": "stderr",
     "output_type": "stream",
     "text": [
      "C:\\Users\\Aman\\Anaconda3\\lib\\site-packages\\pandas\\core\\generic.py:5208: SettingWithCopyWarning: \n",
      "A value is trying to be set on a copy of a slice from a DataFrame.\n",
      "Try using .loc[row_indexer,col_indexer] = value instead\n",
      "\n",
      "See the caveats in the documentation: http://pandas.pydata.org/pandas-docs/stable/user_guide/indexing.html#returning-a-view-versus-a-copy\n",
      "  self[name] = value\n"
     ]
    },
    {
     "name": "stdout",
     "output_type": "stream",
     "text": [
      "SK Learn gaussian kernel learning time = 9.884s\n",
      "Number of support vectors for each class =  [1248 1263]\n",
      "grp = [2, 7]\n"
     ]
    },
    {
     "name": "stderr",
     "output_type": "stream",
     "text": [
      "C:\\Users\\Aman\\Anaconda3\\lib\\site-packages\\pandas\\core\\generic.py:5208: SettingWithCopyWarning: \n",
      "A value is trying to be set on a copy of a slice from a DataFrame.\n",
      "Try using .loc[row_indexer,col_indexer] = value instead\n",
      "\n",
      "See the caveats in the documentation: http://pandas.pydata.org/pandas-docs/stable/user_guide/indexing.html#returning-a-view-versus-a-copy\n",
      "  self[name] = value\n"
     ]
    },
    {
     "name": "stdout",
     "output_type": "stream",
     "text": [
      "SK Learn gaussian kernel learning time = 2.418s\n",
      "Number of support vectors for each class =  [412 207]\n",
      "grp = [2, 8]\n"
     ]
    },
    {
     "name": "stderr",
     "output_type": "stream",
     "text": [
      "C:\\Users\\Aman\\Anaconda3\\lib\\site-packages\\pandas\\core\\generic.py:5208: SettingWithCopyWarning: \n",
      "A value is trying to be set on a copy of a slice from a DataFrame.\n",
      "Try using .loc[row_indexer,col_indexer] = value instead\n",
      "\n",
      "See the caveats in the documentation: http://pandas.pydata.org/pandas-docs/stable/user_guide/indexing.html#returning-a-view-versus-a-copy\n",
      "  self[name] = value\n"
     ]
    },
    {
     "name": "stdout",
     "output_type": "stream",
     "text": [
      "SK Learn gaussian kernel learning time = 5.509s\n",
      "Number of support vectors for each class =  [545 849]\n",
      "grp = [2, 9]\n"
     ]
    },
    {
     "name": "stderr",
     "output_type": "stream",
     "text": [
      "C:\\Users\\Aman\\Anaconda3\\lib\\site-packages\\pandas\\core\\generic.py:5208: SettingWithCopyWarning: \n",
      "A value is trying to be set on a copy of a slice from a DataFrame.\n",
      "Try using .loc[row_indexer,col_indexer] = value instead\n",
      "\n",
      "See the caveats in the documentation: http://pandas.pydata.org/pandas-docs/stable/user_guide/indexing.html#returning-a-view-versus-a-copy\n",
      "  self[name] = value\n"
     ]
    },
    {
     "name": "stdout",
     "output_type": "stream",
     "text": [
      "SK Learn gaussian kernel learning time = 3.291s\n",
      "Number of support vectors for each class =  [441 420]\n",
      "grp = [3, 4]\n"
     ]
    },
    {
     "name": "stderr",
     "output_type": "stream",
     "text": [
      "C:\\Users\\Aman\\Anaconda3\\lib\\site-packages\\pandas\\core\\generic.py:5208: SettingWithCopyWarning: \n",
      "A value is trying to be set on a copy of a slice from a DataFrame.\n",
      "Try using .loc[row_indexer,col_indexer] = value instead\n",
      "\n",
      "See the caveats in the documentation: http://pandas.pydata.org/pandas-docs/stable/user_guide/indexing.html#returning-a-view-versus-a-copy\n",
      "  self[name] = value\n"
     ]
    },
    {
     "name": "stdout",
     "output_type": "stream",
     "text": [
      "SK Learn gaussian kernel learning time = 4.88s\n",
      "Number of support vectors for each class =  [627 632]\n",
      "grp = [3, 5]\n"
     ]
    },
    {
     "name": "stderr",
     "output_type": "stream",
     "text": [
      "C:\\Users\\Aman\\Anaconda3\\lib\\site-packages\\pandas\\core\\generic.py:5208: SettingWithCopyWarning: \n",
      "A value is trying to be set on a copy of a slice from a DataFrame.\n",
      "Try using .loc[row_indexer,col_indexer] = value instead\n",
      "\n",
      "See the caveats in the documentation: http://pandas.pydata.org/pandas-docs/stable/user_guide/indexing.html#returning-a-view-versus-a-copy\n",
      "  self[name] = value\n"
     ]
    },
    {
     "name": "stdout",
     "output_type": "stream",
     "text": [
      "SK Learn gaussian kernel learning time = 3.577s\n",
      "Number of support vectors for each class =  [344 577]\n",
      "grp = [3, 6]\n"
     ]
    },
    {
     "name": "stderr",
     "output_type": "stream",
     "text": [
      "C:\\Users\\Aman\\Anaconda3\\lib\\site-packages\\pandas\\core\\generic.py:5208: SettingWithCopyWarning: \n",
      "A value is trying to be set on a copy of a slice from a DataFrame.\n",
      "Try using .loc[row_indexer,col_indexer] = value instead\n",
      "\n",
      "See the caveats in the documentation: http://pandas.pydata.org/pandas-docs/stable/user_guide/indexing.html#returning-a-view-versus-a-copy\n",
      "  self[name] = value\n"
     ]
    },
    {
     "name": "stdout",
     "output_type": "stream",
     "text": [
      "SK Learn gaussian kernel learning time = 6.577s\n",
      "Number of support vectors for each class =  [722 891]\n",
      "grp = [3, 7]\n"
     ]
    },
    {
     "name": "stderr",
     "output_type": "stream",
     "text": [
      "C:\\Users\\Aman\\Anaconda3\\lib\\site-packages\\pandas\\core\\generic.py:5208: SettingWithCopyWarning: \n",
      "A value is trying to be set on a copy of a slice from a DataFrame.\n",
      "Try using .loc[row_indexer,col_indexer] = value instead\n",
      "\n",
      "See the caveats in the documentation: http://pandas.pydata.org/pandas-docs/stable/user_guide/indexing.html#returning-a-view-versus-a-copy\n",
      "  self[name] = value\n"
     ]
    },
    {
     "name": "stdout",
     "output_type": "stream",
     "text": [
      "SK Learn gaussian kernel learning time = 2.078s\n",
      "Number of support vectors for each class =  [332 196]\n",
      "grp = [3, 8]\n"
     ]
    },
    {
     "name": "stderr",
     "output_type": "stream",
     "text": [
      "C:\\Users\\Aman\\Anaconda3\\lib\\site-packages\\pandas\\core\\generic.py:5208: SettingWithCopyWarning: \n",
      "A value is trying to be set on a copy of a slice from a DataFrame.\n",
      "Try using .loc[row_indexer,col_indexer] = value instead\n",
      "\n",
      "See the caveats in the documentation: http://pandas.pydata.org/pandas-docs/stable/user_guide/indexing.html#returning-a-view-versus-a-copy\n",
      "  self[name] = value\n"
     ]
    },
    {
     "name": "stdout",
     "output_type": "stream",
     "text": [
      "SK Learn gaussian kernel learning time = 4.644s\n",
      "Number of support vectors for each class =  [406 793]\n",
      "grp = [3, 9]\n"
     ]
    },
    {
     "name": "stderr",
     "output_type": "stream",
     "text": [
      "C:\\Users\\Aman\\Anaconda3\\lib\\site-packages\\pandas\\core\\generic.py:5208: SettingWithCopyWarning: \n",
      "A value is trying to be set on a copy of a slice from a DataFrame.\n",
      "Try using .loc[row_indexer,col_indexer] = value instead\n",
      "\n",
      "See the caveats in the documentation: http://pandas.pydata.org/pandas-docs/stable/user_guide/indexing.html#returning-a-view-versus-a-copy\n",
      "  self[name] = value\n"
     ]
    },
    {
     "name": "stdout",
     "output_type": "stream",
     "text": [
      "SK Learn gaussian kernel learning time = 2.957s\n",
      "Number of support vectors for each class =  [343 412]\n",
      "grp = [4, 5]\n"
     ]
    },
    {
     "name": "stderr",
     "output_type": "stream",
     "text": [
      "C:\\Users\\Aman\\Anaconda3\\lib\\site-packages\\pandas\\core\\generic.py:5208: SettingWithCopyWarning: \n",
      "A value is trying to be set on a copy of a slice from a DataFrame.\n",
      "Try using .loc[row_indexer,col_indexer] = value instead\n",
      "\n",
      "See the caveats in the documentation: http://pandas.pydata.org/pandas-docs/stable/user_guide/indexing.html#returning-a-view-versus-a-copy\n",
      "  self[name] = value\n"
     ]
    },
    {
     "name": "stdout",
     "output_type": "stream",
     "text": [
      "SK Learn gaussian kernel learning time = 3.754s\n",
      "Number of support vectors for each class =  [387 593]\n",
      "grp = [4, 6]\n"
     ]
    },
    {
     "name": "stderr",
     "output_type": "stream",
     "text": [
      "C:\\Users\\Aman\\Anaconda3\\lib\\site-packages\\pandas\\core\\generic.py:5208: SettingWithCopyWarning: \n",
      "A value is trying to be set on a copy of a slice from a DataFrame.\n",
      "Try using .loc[row_indexer,col_indexer] = value instead\n",
      "\n",
      "See the caveats in the documentation: http://pandas.pydata.org/pandas-docs/stable/user_guide/indexing.html#returning-a-view-versus-a-copy\n",
      "  self[name] = value\n"
     ]
    },
    {
     "name": "stdout",
     "output_type": "stream",
     "text": [
      "SK Learn gaussian kernel learning time = 10.041s\n",
      "Number of support vectors for each class =  [1134 1203]\n",
      "grp = [4, 7]\n"
     ]
    },
    {
     "name": "stderr",
     "output_type": "stream",
     "text": [
      "C:\\Users\\Aman\\Anaconda3\\lib\\site-packages\\pandas\\core\\generic.py:5208: SettingWithCopyWarning: \n",
      "A value is trying to be set on a copy of a slice from a DataFrame.\n",
      "Try using .loc[row_indexer,col_indexer] = value instead\n",
      "\n",
      "See the caveats in the documentation: http://pandas.pydata.org/pandas-docs/stable/user_guide/indexing.html#returning-a-view-versus-a-copy\n",
      "  self[name] = value\n"
     ]
    },
    {
     "name": "stdout",
     "output_type": "stream",
     "text": [
      "SK Learn gaussian kernel learning time = 2.26s\n",
      "Number of support vectors for each class =  [374 198]\n",
      "grp = [4, 8]\n"
     ]
    },
    {
     "name": "stderr",
     "output_type": "stream",
     "text": [
      "C:\\Users\\Aman\\Anaconda3\\lib\\site-packages\\pandas\\core\\generic.py:5208: SettingWithCopyWarning: \n",
      "A value is trying to be set on a copy of a slice from a DataFrame.\n",
      "Try using .loc[row_indexer,col_indexer] = value instead\n",
      "\n",
      "See the caveats in the documentation: http://pandas.pydata.org/pandas-docs/stable/user_guide/indexing.html#returning-a-view-versus-a-copy\n",
      "  self[name] = value\n"
     ]
    },
    {
     "name": "stdout",
     "output_type": "stream",
     "text": [
      "SK Learn gaussian kernel learning time = 5.144s\n",
      "Number of support vectors for each class =  [469 851]\n",
      "grp = [4, 9]\n"
     ]
    },
    {
     "name": "stderr",
     "output_type": "stream",
     "text": [
      "C:\\Users\\Aman\\Anaconda3\\lib\\site-packages\\pandas\\core\\generic.py:5208: SettingWithCopyWarning: \n",
      "A value is trying to be set on a copy of a slice from a DataFrame.\n",
      "Try using .loc[row_indexer,col_indexer] = value instead\n",
      "\n",
      "See the caveats in the documentation: http://pandas.pydata.org/pandas-docs/stable/user_guide/indexing.html#returning-a-view-versus-a-copy\n",
      "  self[name] = value\n"
     ]
    },
    {
     "name": "stdout",
     "output_type": "stream",
     "text": [
      "SK Learn gaussian kernel learning time = 3.228s\n",
      "Number of support vectors for each class =  [389 416]\n",
      "grp = [5, 6]\n"
     ]
    },
    {
     "name": "stderr",
     "output_type": "stream",
     "text": [
      "C:\\Users\\Aman\\Anaconda3\\lib\\site-packages\\pandas\\core\\generic.py:5208: SettingWithCopyWarning: \n",
      "A value is trying to be set on a copy of a slice from a DataFrame.\n",
      "Try using .loc[row_indexer,col_indexer] = value instead\n",
      "\n",
      "See the caveats in the documentation: http://pandas.pydata.org/pandas-docs/stable/user_guide/indexing.html#returning-a-view-versus-a-copy\n",
      "  self[name] = value\n"
     ]
    },
    {
     "name": "stdout",
     "output_type": "stream",
     "text": [
      "SK Learn gaussian kernel learning time = 4.379s\n",
      "Number of support vectors for each class =  [629 492]\n",
      "grp = [5, 7]\n"
     ]
    },
    {
     "name": "stderr",
     "output_type": "stream",
     "text": [
      "C:\\Users\\Aman\\Anaconda3\\lib\\site-packages\\pandas\\core\\generic.py:5208: SettingWithCopyWarning: \n",
      "A value is trying to be set on a copy of a slice from a DataFrame.\n",
      "Try using .loc[row_indexer,col_indexer] = value instead\n",
      "\n",
      "See the caveats in the documentation: http://pandas.pydata.org/pandas-docs/stable/user_guide/indexing.html#returning-a-view-versus-a-copy\n",
      "  self[name] = value\n"
     ]
    },
    {
     "name": "stdout",
     "output_type": "stream",
     "text": [
      "SK Learn gaussian kernel learning time = 5.688s\n",
      "Number of support vectors for each class =  [860 555]\n",
      "grp = [5, 8]\n"
     ]
    },
    {
     "name": "stderr",
     "output_type": "stream",
     "text": [
      "C:\\Users\\Aman\\Anaconda3\\lib\\site-packages\\pandas\\core\\generic.py:5208: SettingWithCopyWarning: \n",
      "A value is trying to be set on a copy of a slice from a DataFrame.\n",
      "Try using .loc[row_indexer,col_indexer] = value instead\n",
      "\n",
      "See the caveats in the documentation: http://pandas.pydata.org/pandas-docs/stable/user_guide/indexing.html#returning-a-view-versus-a-copy\n",
      "  self[name] = value\n"
     ]
    },
    {
     "name": "stdout",
     "output_type": "stream",
     "text": [
      "SK Learn gaussian kernel learning time = 5.987s\n",
      "Number of support vectors for each class =  [752 777]\n",
      "grp = [5, 9]\n"
     ]
    },
    {
     "name": "stderr",
     "output_type": "stream",
     "text": [
      "C:\\Users\\Aman\\Anaconda3\\lib\\site-packages\\pandas\\core\\generic.py:5208: SettingWithCopyWarning: \n",
      "A value is trying to be set on a copy of a slice from a DataFrame.\n",
      "Try using .loc[row_indexer,col_indexer] = value instead\n",
      "\n",
      "See the caveats in the documentation: http://pandas.pydata.org/pandas-docs/stable/user_guide/indexing.html#returning-a-view-versus-a-copy\n",
      "  self[name] = value\n"
     ]
    },
    {
     "name": "stdout",
     "output_type": "stream",
     "text": [
      "SK Learn gaussian kernel learning time = 5.145s\n",
      "Number of support vectors for each class =  [778 548]\n",
      "grp = [6, 7]\n"
     ]
    },
    {
     "name": "stderr",
     "output_type": "stream",
     "text": [
      "C:\\Users\\Aman\\Anaconda3\\lib\\site-packages\\pandas\\core\\generic.py:5208: SettingWithCopyWarning: \n",
      "A value is trying to be set on a copy of a slice from a DataFrame.\n",
      "Try using .loc[row_indexer,col_indexer] = value instead\n",
      "\n",
      "See the caveats in the documentation: http://pandas.pydata.org/pandas-docs/stable/user_guide/indexing.html#returning-a-view-versus-a-copy\n",
      "  self[name] = value\n"
     ]
    },
    {
     "name": "stdout",
     "output_type": "stream",
     "text": [
      "SK Learn gaussian kernel learning time = 2.781s\n",
      "Number of support vectors for each class =  [459 215]\n",
      "grp = [6, 8]\n"
     ]
    },
    {
     "name": "stderr",
     "output_type": "stream",
     "text": [
      "C:\\Users\\Aman\\Anaconda3\\lib\\site-packages\\pandas\\core\\generic.py:5208: SettingWithCopyWarning: \n",
      "A value is trying to be set on a copy of a slice from a DataFrame.\n",
      "Try using .loc[row_indexer,col_indexer] = value instead\n",
      "\n",
      "See the caveats in the documentation: http://pandas.pydata.org/pandas-docs/stable/user_guide/indexing.html#returning-a-view-versus-a-copy\n",
      "  self[name] = value\n"
     ]
    },
    {
     "name": "stdout",
     "output_type": "stream",
     "text": [
      "SK Learn gaussian kernel learning time = 6.228s\n",
      "Number of support vectors for each class =  [638 912]\n",
      "grp = [6, 9]\n"
     ]
    },
    {
     "name": "stderr",
     "output_type": "stream",
     "text": [
      "C:\\Users\\Aman\\Anaconda3\\lib\\site-packages\\pandas\\core\\generic.py:5208: SettingWithCopyWarning: \n",
      "A value is trying to be set on a copy of a slice from a DataFrame.\n",
      "Try using .loc[row_indexer,col_indexer] = value instead\n",
      "\n",
      "See the caveats in the documentation: http://pandas.pydata.org/pandas-docs/stable/user_guide/indexing.html#returning-a-view-versus-a-copy\n",
      "  self[name] = value\n"
     ]
    },
    {
     "name": "stdout",
     "output_type": "stream",
     "text": [
      "SK Learn gaussian kernel learning time = 3.823s\n",
      "Number of support vectors for each class =  [497 423]\n",
      "grp = [7, 8]\n"
     ]
    },
    {
     "name": "stderr",
     "output_type": "stream",
     "text": [
      "C:\\Users\\Aman\\Anaconda3\\lib\\site-packages\\pandas\\core\\generic.py:5208: SettingWithCopyWarning: \n",
      "A value is trying to be set on a copy of a slice from a DataFrame.\n",
      "Try using .loc[row_indexer,col_indexer] = value instead\n",
      "\n",
      "See the caveats in the documentation: http://pandas.pydata.org/pandas-docs/stable/user_guide/indexing.html#returning-a-view-versus-a-copy\n",
      "  self[name] = value\n"
     ]
    },
    {
     "name": "stdout",
     "output_type": "stream",
     "text": [
      "SK Learn gaussian kernel learning time = 4.367s\n",
      "Number of support vectors for each class =  [282 759]\n",
      "grp = [7, 9]\n"
     ]
    },
    {
     "name": "stderr",
     "output_type": "stream",
     "text": [
      "C:\\Users\\Aman\\Anaconda3\\lib\\site-packages\\pandas\\core\\generic.py:5208: SettingWithCopyWarning: \n",
      "A value is trying to be set on a copy of a slice from a DataFrame.\n",
      "Try using .loc[row_indexer,col_indexer] = value instead\n",
      "\n",
      "See the caveats in the documentation: http://pandas.pydata.org/pandas-docs/stable/user_guide/indexing.html#returning-a-view-versus-a-copy\n",
      "  self[name] = value\n"
     ]
    },
    {
     "name": "stdout",
     "output_type": "stream",
     "text": [
      "SK Learn gaussian kernel learning time = 5.108s\n",
      "Number of support vectors for each class =  [508 715]\n",
      "grp = [8, 9]\n"
     ]
    },
    {
     "name": "stderr",
     "output_type": "stream",
     "text": [
      "C:\\Users\\Aman\\Anaconda3\\lib\\site-packages\\pandas\\core\\generic.py:5208: SettingWithCopyWarning: \n",
      "A value is trying to be set on a copy of a slice from a DataFrame.\n",
      "Try using .loc[row_indexer,col_indexer] = value instead\n",
      "\n",
      "See the caveats in the documentation: http://pandas.pydata.org/pandas-docs/stable/user_guide/indexing.html#returning-a-view-versus-a-copy\n",
      "  self[name] = value\n"
     ]
    },
    {
     "name": "stdout",
     "output_type": "stream",
     "text": [
      "SK Learn gaussian kernel learning time = 4.98s\n",
      "Number of support vectors for each class =  [787 449]\n",
      "Training Time One Vs One for 10 Classes is 540.899 Sec\n",
      "\n",
      " Test Accuracy OVO = 88.07761552310463\n",
      "\n",
      " Val Accuracy OVO = 87.91516606642658\n"
     ]
    }
   ],
   "source": [
    "initVotesDict_sk()\n",
    "runOneVsOneClassifier(10, \"sklearn\")\n",
    "\n",
    "labels = FMnistTest[\"label\"].to_numpy()      \n",
    "VotingPredictionsTest_sk = calcVotingResults(votesTest_sk)\n",
    "TestOVO_sk = votingResultsVsLabels(VotingPredictionsTest_sk, labels)\n",
    "\n",
    "labels = FMnistVal[\"label\"].to_numpy()      \n",
    "VotingPredictionsVal_sk = calcVotingResults(votesVal_sk)\n",
    "ValOVO_sk = votingResultsVsLabels(VotingPredictionsVal_sk, labels)\n",
    "print(\"\\n Test Accuracy OneVsOne =\", TestOVO_sk)\n",
    "print(\"\\n Val Accuracy OVO =\", ValOVO_sk)"
   ]
  },
  {
   "cell_type": "code",
   "execution_count": 102,
   "metadata": {},
   "outputs": [
    {
     "data": {
      "image/png": "[encoded data removed]",
      "text/plain": [
       "<Figure size 864x576 with 2 Axes>"
      ]
     },
     "metadata": {
      "needs_background": "light"
     },
     "output_type": "display_data"
    }
   ],
   "source": [
    "lbl_val = FMnistVal[\"label\"].to_numpy()\n",
    "drawConfusionMatrix(lbl_val, VotingPredictionsVal_sk, \"Validation\", \"Sklearn\")"
   ]
  },
  {
   "cell_type": "code",
   "execution_count": 80,
   "metadata": {},
   "outputs": [
    {
     "data": {
      "text/plain": [
       "0"
      ]
     },
     "execution_count": 80,
     "metadata": {},
     "output_type": "execute_result"
    }
   ],
   "source": [
    "len(votesTest_sk)"
   ]
  },
  {
   "cell_type": "code",
   "execution_count": 129,
   "metadata": {},
   "outputs": [],
   "source": [
    "DTrainBin = binaryDTrain.to_numpy()\n",
    "Y = DTrainBin[:, -1].reshape(len(DTrainBin), 1)\n",
    "X = DTrainBin[:, 0:-1]\n"
   ]
  },
  {
   "cell_type": "code",
   "execution_count": 130,
   "metadata": {
    "scrolled": false
   },
   "outputs": [
    {
     "name": "stdout",
     "output_type": "stream",
     "text": [
      "(4500, 784) (4500, 1) (4500, 784)\n",
      "linear kernel learning time = 45.525s\n"
     ]
    }
   ],
   "source": [
    "SolutionLin, H = fitBinaryClassifierSVM(X, Y, \"linear\")"
   ]
  },
  {
   "cell_type": "code",
   "execution_count": 177,
   "metadata": {
    "scrolled": false
   },
   "outputs": [
    {
     "name": "stdout",
     "output_type": "stream",
     "text": [
      "\n",
      "Total Number of support vectors= 198\n",
      "\n",
      "Number of support vectors for Class 1 = 87 \n",
      "Number of support vectors for Class -1 = 111\n",
      "b = [-1.62821354]\n",
      "Validation Accuracy = 97.39999999999999\n",
      "Test Accuracy = 98.1981981981982\n"
     ]
    }
   ],
   "source": [
    "alphaValues , W, b = calcParameters(X, Y, SolutionLin, 1e-04)\n",
    "print(\"b =\", b)\n",
    "DVal = binaryDVal.to_numpy()\n",
    "Y_Val = DVal[:, -1].reshape(len(DVal), 1)\n",
    "X_Val = DVal[:, 0:-1]\n",
    "\n",
    "ValAccu = getAccuracy(X_Val, Y_Val, W, b)\n",
    "print(\"Validation Accuracy =\", ValAccu)\n",
    "\n",
    "DTest = binaryDTest.to_numpy()\n",
    "Y_Test = DTest[:, -1].reshape(len(DTest), 1)\n",
    "X_Test = DTest[:, 0:-1]\n",
    "\n",
    "TestAccu = getAccuracy(X_Test, Y_Test, W, b)\n",
    "print(\"Test Accuracy =\", TestAccu)\n"
   ]
  },
  {
   "cell_type": "code",
   "execution_count": null,
   "metadata": {},
   "outputs": [],
   "source": []
  },
  {
   "cell_type": "code",
   "execution_count": null,
   "metadata": {},
   "outputs": [],
   "source": [
    "alphaValues_G , W_G, b_G = calcParameters(X, Y, SolutionGau, 0)\n",
    "print(\"b =\", b_G)\n",
    "DVal = binaryDVal.to_numpy()\n",
    "Y_Val = DVal[:, -1].reshape(len(DVal), 1)\n",
    "X_Val = DVal[:, 0:-1]\n",
    "\n",
    "ValAccu_G = getAccuracy(X_Val, Y_Val, W_G, b_G)\n",
    "print(\"Validation Accuracy =\", ValAccu_G)\n",
    "\n",
    "DTest_G = binaryDTest.to_numpy()\n",
    "Y_Test = DTest[:, -1].reshape(len(DTest), 1)\n",
    "X_Test = DTest[:, 0:-1]\n",
    "\n",
    "TestAccu_G = getAccuracy(X_Test, Y_Test, W_G, b_G)\n",
    "print(\"Test Accuracy =\", TestAccu_G)\n"
   ]
  },
  {
   "cell_type": "code",
   "execution_count": null,
   "metadata": {
    "scrolled": false
   },
   "outputs": [],
   "source": [
    "sk_linear, W_sk, b_sk = sklearnLinearKernel(X, Y)\n",
    "print(\"b sklearn =\", b_sk)\n",
    "DVal = binaryDVal.to_numpy()\n",
    "Y_Val = DVal[:, -1].reshape(len(DVal), 1)\n",
    "X_Val = DVal[:, 0:-1]\n",
    "\n",
    "ValAccu_sk = skPredict(sk_linear, X_Val, Y_Val)\n",
    "print(\"SK Learn Validation Accuracy =\", ValAccu_sk)\n",
    "\n",
    "DTest = binaryDTest.to_numpy()\n",
    "Y_Test = DTest[:, -1].reshape(len(DTest), 1)\n",
    "X_Test = DTest[:, 0:-1]\n",
    "\n",
    "TestAccu_sk = skPredict(sk_linear, X_Test, Y_Test)\n",
    "print(\"SK Learn Test Accuracy =\", TestAccu_sk)\n"
   ]
  },
  {
   "cell_type": "code",
   "execution_count": 55,
   "metadata": {},
   "outputs": [
    {
     "name": "stdout",
     "output_type": "stream",
     "text": [
      "SK Learn gaussian kernel learning time = 3.174s\n",
      "Number of support vectors for each class =  [546 265]\n",
      "\n",
      "b SKlearn Gaussian = [-0.51746964]\n",
      "\n",
      "SK Learn Gaussian Validation Accuracy = 98.6\n",
      "SK Learn Gaussian Test Accuracy = 98.8988988988989\n"
     ]
    }
   ],
   "source": [
    "sk_gaussian = sklearnGaussianKernel(X, Y)\n",
    "\n",
    "print(\"\\nb SKlearn Gaussian =\", sk_gaussian.intercept_)\n",
    "\n",
    "DVal = binaryDVal.to_numpy()\n",
    "Y_Val = DVal[:, -1].reshape(len(DVal), 1)\n",
    "X_Val = DVal[:, 0:-1]\n",
    "\n",
    "ValAccu_sk = skPredict(sk_gaussian, X_Val, Y_Val)\n",
    "print(\"\\nSK Learn Gaussian Validation Accuracy =\", ValAccu_sk)\n",
    "\n",
    "DTest = binaryDTest.to_numpy()\n",
    "Y_Test = DTest[:, -1].reshape(len(DTest), 1)\n",
    "X_Test = DTest[:, 0:-1]\n",
    "\n",
    "TestAccu_sk = skPredict(sk_gaussian, X_Test, Y_Test)\n",
    "print(\"SK Learn Gaussian Test Accuracy =\", TestAccu_sk)"
   ]
  },
  {
   "cell_type": "code",
   "execution_count": null,
   "metadata": {},
   "outputs": [],
   "source": []
  },
  {
   "cell_type": "code",
   "execution_count": null,
   "metadata": {},
   "outputs": [],
   "source": []
  },
  {
   "cell_type": "code",
   "execution_count": null,
   "metadata": {
    "scrolled": true
   },
   "outputs": [],
   "source": []
  },
  {
   "cell_type": "code",
   "execution_count": null,
   "metadata": {},
   "outputs": [],
   "source": [
    "import math\n",
    "math.sqrt(10122750)"
   ]
  },
  {
   "cell_type": "code",
   "execution_count": null,
   "metadata": {},
   "outputs": [],
   "source": []
  },
  {
   "cell_type": "code",
   "execution_count": null,
   "metadata": {},
   "outputs": [],
   "source": []
  }
 ],
 "metadata": {
  "kernelspec": {
   "display_name": "Python 3",
   "language": "python",
   "name": "python3"
  },
  "language_info": {
   "codemirror_mode": {
    "name": "ipython",
    "version": 3
   },
   "file_extension": ".py",
   "mimetype": "text/x-python",
   "name": "python",
   "nbconvert_exporter": "python",
   "pygments_lexer": "ipython3",
   "version": "3.7.4"
  }
 },
 "nbformat": 4,
 "nbformat_minor": 2
}
